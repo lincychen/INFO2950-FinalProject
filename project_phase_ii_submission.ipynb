{
 "cells": [
  {
   "cell_type": "markdown",
   "id": "257c1f08",
   "metadata": {},
   "source": [
    "# INFOSCI 2950: Final Project Phase II Submission"
   ]
  },
  {
   "cell_type": "markdown",
   "id": "f7f93610",
   "metadata": {},
   "source": [
    "*Madelyn Leon, Lincy Chen, and Jessica Kuang*"
   ]
  },
  {
   "cell_type": "markdown",
   "id": "3ec86143",
   "metadata": {},
   "source": [
    "---\n",
    "## Research Questions\n",
    "\n",
    "**Main Goal: How can we define Asian-American communities in Texas in terms of health, happiness, and financial security? and How do health, finances, community support (or the lack thereof), and identities affect an Texan Asian American's quality of life?**\n",
    "\n",
    "*Financial Security*\n",
    "1. Do some ethnic groups of Asian-Americans (AAs) in Texas earn more than others?\n",
    "2. Do younger Asian-Americans earn more money than older generations of Asian Americans living in Texas?\n",
    "3. How does household size relate to duration of residency for AAs in Texas?\n",
    "4. How does household size and income relate to the quality of life of a participant? \n",
    "5. How does the amount of education completed relate to income? Does this rely on whether the participant was US born?\n",
    "*Happiness*\n",
    "1. Are some ethnic groups more likely to be born in the United States than others?\n",
    "2. What are the most dominant religions among ethnic groups in Asian-American communities in Texas?\n",
    "3. How is English speaking ability related to English difficulty among AA communities in Texas?\n",
    "4. Are certain religious groups within AAs more likely to experience discrimination than other relgious groups within AAs in Texas?\n",
    "5. Are certain ethnic groups within AAs more likely to experience discrimination than other ethnic groups within AAs in Texas?\n",
    "*Health*\n",
    "1. Is smoking among Asian-American populations linked to heart disease?\n",
    "2. Are older generations of AAs more likely to follow a healthy diet than younger generations of AAs in Texas?\n",
    "3. How do the variables healthy diet and regular exercise correlate with eachother?\n",
    "4. Does the presence of health insurance and check ups increase someone's quality of life?\n",
    "*Community Support*\n",
    "1. Can we predit someone's quality of life by looking at the amount of close friends they have?\n",
    "2. Is religious affiliation a good predictor of quality of life?\n",
    "3. What quality of life do retired people tend to have?\n",
    "\n",
    "---"
   ]
  },
  {
   "cell_type": "markdown",
   "id": "9859929c",
   "metadata": {},
   "source": [
    "## Data Collection and Cleaning\n",
    "### Data Collection\n",
    "1. Go to data [landing page](https://data.austintexas.gov/City-Government/Final-Report-of-the-Asian-American-Quality-of-Life/hc5t-p62z). \n",
    "2. Click on Export > CSV.\n",
    "3. Download publicly available `Final_Report_of_the_Asian_American_Quality_of_Life__AAQoL_.csv` into desired directory."
   ]
  },
  {
   "cell_type": "markdown",
   "id": "e76e2a58",
   "metadata": {},
   "source": [
    "### Data Cleaning\n",
    "1. Store raw data into a preliminary dataframe, `df`\n",
    "2. Convert column names into snake_case"
   ]
  },
  {
   "cell_type": "code",
   "execution_count": 2,
   "id": "20dfc66c",
   "metadata": {},
   "outputs": [],
   "source": [
    "## load libraries\n",
    "import numpy as np\n",
    "import pandas as pd\n",
    "import matplotlib.pyplot as plt\n",
    "import seaborn as sns"
   ]
  },
  {
   "cell_type": "code",
   "execution_count": 3,
   "id": "2a793a4e",
   "metadata": {},
   "outputs": [],
   "source": [
    "## Step 1\n",
    "df = pd.read_csv('Final_Report_of_the_Asian_American_Quality_of_Life__AAQoL_.csv')"
   ]
  },
  {
   "cell_type": "code",
   "execution_count": 5,
   "id": "b8b64f52",
   "metadata": {},
   "outputs": [],
   "source": [
    "## Step 2\n",
    "new_colnames = [i.lower() for i in df.columns]\n",
    "new_colnames = [i.replace(\" \",\"_\") for i in new_colnames]"
   ]
  },
  {
   "cell_type": "markdown",
   "id": "e564e54f",
   "metadata": {},
   "source": [
    "#### Column Names\n",
    "3. Save these new column names to a new dataframe, `asian`\n",
    "4. Select columns from the existing `asian` dataframe for data analysis\n",
    "- [ ] Income\n",
    "- [ ] Retired\n",
    "- [ ] US Born\n",
    "- [ ] English Speaking\n",
    "- [ ] English Difficulties\n",
    "- [ ] Ethnicity\n",
    "- [ ] Age\n",
    "- [ ] Regular Exercise\n",
    "- [ ] Healthy Diet\n",
    "- [ ] Heart Disease\n",
    "- [ ] Drinking\n",
    "- [ ] Smoking\n",
    "- [ ] Cancer\n",
    "- [ ] Health Insurance\n",
    "- [ ] Physical Check-up\n",
    "- [ ] Quality of Life\n",
    "- [ ] Religion\n",
    "- [ ] Gender\n",
    "- [ ] Close Friends\n",
    "- [ ] Discrimination\n",
    "- [ ] Duration of Residency\n",
    "- [ ] Household Size\n",
    "- [ ] Education Completed\n",
    "- [ ] Cleaning Entries"
   ]
  },
  {
   "cell_type": "code",
   "execution_count": 6,
   "id": "e73bb9af",
   "metadata": {},
   "outputs": [],
   "source": [
    "## Step 3\n",
    "asian = df.copy()\n",
    "asian.columns = new_colnames"
   ]
  },
  {
   "cell_type": "code",
   "execution_count": 7,
   "id": "61526194",
   "metadata": {},
   "outputs": [],
   "source": [
    "## Step 4\n",
    "asian = asian[['income', 'retired', 'us_born', 'english_speaking', 'english_difficulties', 'ethnicity','age', 'regular_exercise', 'healthy_diet', 'heart_disease', 'drinking', 'smoking',\n",
    "               'cancer', 'health_insurance', 'physical_check-up', 'quality_of_life', 'religion', 'gender', 'close_friends', 'discrimination_', 'duration_of_residency', 'household_size',\n",
    "              'education_completed']]\n",
    "# Additional improvements to asian\n",
    "asian = asian.rename(columns = {'discrimination_':'discrimination', 'physical_check-up':'physical_checkup'})"
   ]
  },
  {
   "cell_type": "markdown",
   "id": "03444bea",
   "metadata": {},
   "source": [
    "#### Cleaning Entries\n",
    "5. For the corresponding columns, convert null data according to the table below:\n",
    "\n",
    "| Column                | Modification to NaNs           |\n",
    "|-----------------------|--------------------------------|\n",
    "| duration_of_residency | -1                             |\n",
    "| education_completed   | -1                             |\n",
    "| discrimination        | 0                              |\n",
    "| household_size        | 0                              |\n",
    "| english_speaking      | 0                              |\n",
    "| english_difficulties  | 0                              |\n",
    "| retired               | 0                              |\n",
    "| us_born               | 0                              |\n",
    "| health_insurance      | 0                              |\n",
    "| physical_checkup      | 0                              |\n",
    "| regular_exercise      | 0                              |\n",
    "| healthy_diet          | 0                              |\n",
    "| heart_disease         | 0                              |\n",
    "| income                | 0                              |\n",
    "| quality_of_life       | median (5.0)                   |\n",
    "| age                   | median (40.0)                  |\n",
    "| close_friends         | median (3.0)                   |\n",
    "| gender                | \"Unknown\"                      |\n",
    "| ethnicity             | \"Unknown\"                      |\n",
    "| religion              | \"Unknown\"                      |"
   ]
  },
  {
   "cell_type": "markdown",
   "id": "a15d1b63",
   "metadata": {},
   "source": [
    "6. Replace column data to binary responses with 1s indicating ‘Yes’es and 0s indicating ‘No’es\n",
    "8. Convert column data into intended data types\n",
    "| Column                | Data Type                                                                          |\n",
    "|-----------------------|------------------------------------------------------------------------------------|\n",
    "| income                | int: {0 (for NaNs), 1 (0-9999), 2 (10000-19999), ..., 7 (60000-69999), 8 (70000+)} |\n",
    "| retired               | int: {0 for Noes, 1 for Yeses}                                                     |\n",
    "| US Born               | int: {0 for Noes, 1 for Yeses}                                                     |\n",
    "| English Speaking      | int: {'Not at all': 1, 'Not well': 2, 'Well': 3, 'Very well': 4}                                                                    |\n",
    "| English Difficulties  | int: {'Not at all': 1, 'Not much': 2, 'Much': 3, 'Very much': 4}                                                                            |\n",
    "| Ethnicity             | String                                                                             |\n",
    "| Age                   | int                                                                                |\n",
    "| Regular Exercise      | int: {0 for Noes, 1 for Yeses}                                                     |\n",
    "| Healthy Diet          | int: {0 for Noes, 1 for Yeses}                                                     |\n",
    "| Heart Disease         | int: {0 for Noes, 1 for Yeses}                                                     |\n",
    "| Drinking              | int: {0 for Noes, 1 for Yeses}                                                     |\n",
    "| Smoking               | int: {0 for Noes, 1 for Yeses}                                                     |\n",
    "| Cancer                | int: {0 for Noes, 1 for Yeses}                                                     |\n",
    "| Health Insurance      | int: {0 for Noes, 1 for Yeses}                                                     |\n",
    "| Physical Check-up     | int: {0 for Noes, 1 for Yeses}                                                     |\n",
    "| Quality of Life       |    'Not at all': 1, 'Not well': 2, 'Well': 3, 'Very well': 4                                                                                |\n",
    "| Religion              | String                                                                             |\n",
    "| Gender                | String                                                                             |\n",
    "| Close Friends         |    floats                                                                                |\n",
    "| Discrimination        | int: {0 for Noes, 1 for Yeses}                                                     |\n",
    "| Duration of Residency | float                                                                              |\n",
    "| Household Size        | int                                                                                |\n",
    "| Education Completed   |    int                                                                                |"
   ]
  },
  {
   "cell_type": "code",
   "execution_count": 8,
   "id": "2f4a038a",
   "metadata": {},
   "outputs": [
    {
     "data": {
      "text/plain": [
       "0       NaN\n",
       "1       NaN\n",
       "2       8.0\n",
       "3       NaN\n",
       "4       NaN\n",
       "       ... \n",
       "2604    8.0\n",
       "2605    9.0\n",
       "2606    6.0\n",
       "2607    6.0\n",
       "2608    8.0\n",
       "Name: quality_of_life, Length: 2609, dtype: float64"
      ]
     },
     "execution_count": 8,
     "metadata": {},
     "output_type": "execute_result"
    }
   ],
   "source": [
    "asian['quality_of_life']"
   ]
  },
  {
   "cell_type": "code",
   "execution_count": null,
   "id": "ed959de5",
   "metadata": {},
   "outputs": [],
   "source": [
    "## Step 5, 6, 7\n",
    "\n",
    "#replacing NaNs with 0\n",
    "asian['english_speaking'] = asian['english_speaking'].fillna(0)\n",
    "    \n",
    "#replacing NaNs with 0\n",
    "asian['english_difficulties'] = asian['english_difficulties'].fillna(0)\n",
    "\n",
    "#replacing NaNs with 0\n",
    "asian['retired'] = asian['retired'].fillna(0)\n",
    "\n",
    "#replacing NaNs with 0\n",
    "asian['us_born'] = asian['us_born'].fillna(0)\n",
    "\n",
    "#replacing NaNs with 0\n",
    "asian['health_insurance'] = asian['health_insurance'].fillna(0)\n",
    "\n",
    "#replacing NaNs with 0\n",
    "asian['physical_checkup'] = asian['physical_checkup'].fillna(0)\n",
    "\n",
    "#replacing NaNs with 0\n",
    "asian['regular_exercise'] = asian['regular_exercise'].fillna(0)\n",
    "\n",
    "#replacing NaNs with 0\n",
    "asian['healthy_diet'] = asian['healthy_diet'].fillna(0)\n",
    "\n",
    "#replacing NaNs with 0\n",
    "asian['heart_disease'] = asian['heart_disease'].fillna(0)\n",
    "\n",
    "#replacing NaNs with 5.0\n",
    "asian['quality_of_life'] = asian['quality_of_life'].fillna(5.0)\n",
    "\n",
    "#replacing NaNs with 0\n",
    "asian['discrimination'] = asian['discrimination'].fillna(0)\n",
    "\n",
    "#replacing NaNs with -1\n",
    "asian['duration_of_residency'] = asian['duration_of_residency'].fillna(-1)\n",
    "\n",
    "#replacing NaNs with 0 because househols_size can not be 0 because participants are counting themselves\n",
    "asian['household_size'] = asian['household_size'].fillna(0)\n",
    "\n",
    "#replacing NaNs with -1\n",
    "asian['education_completed'] = asian['education_completed'].fillna(-1)\n",
    "\n",
    "#replacing NaNs with Unknown\n",
    "asian['gender'] = asian['gender'].fillna('Unknown')\n",
    "\n",
    "#replacing NaNs with Unknown\n",
    "asian['ethnicity'] = asian['ethnicity'].fillna('Unknown')\n",
    "\n",
    "#replacing NaNs with Unknown\n",
    "asian['religion'] = asian['religion'].fillna('Unknown')\n",
    "\n",
    "#replacing NaNs with median age\n",
    "asian['age'] = asian['age'].fillna(40.0)\n",
    "\n",
    "#replacing NaNs with median number of close friends\n",
    "asian['close_friends'] = asian['close_friends'].fillna(3.0)\n",
    "\n",
    "#replacing NaNs with 0\n",
    "asian['income'] = asian['income'].fillna(0)\n",
    "\n",
    "## <TO-DO> Paste affliated code here!\n",
    "#changing english_speaking column to be represented by floats\n",
    "asian['english_speaking'].replace({'Not at all': 1, 'Not well': 2, 'Well': 3, 'Very well': 4}, inplace = True)\n",
    "asian['english_speaking'] = asian['english_speaking'].astype(float, errors = 'raise')\n",
    "\n",
    "# changing english_difficulties column to be represented by floats\n",
    "asian['english_difficulties'].replace({'Not at all': 1, 'Not much': 2, 'Much': 3, 'Very much': 4}, inplace = True)\n",
    "asian['english_difficuties'] = asian['english_difficulties'].astype(float, errors = 'raise')\n",
    "\n",
    "# changing retired column to to be represented by floats\n",
    "asian[\"retired\"].replace({\"Retired\": 1}, inplace=True)\n",
    "asian[\"retired\"] = asian[\"retired\"].astype(float, errors='raise')\n",
    "\n",
    "# changing us_born column to to be represented by floats\n",
    "asian[\"us_born\"].replace({\"No\": 0, \"Yes\": 1}, inplace=True)\n",
    "asian[\"us_born\"] = asian[\"us_born\"].astype(float, errors='raise')\n",
    "\n",
    "# changing health_insurance column \n",
    "asian['health_insurance'].replace({\"Yes\": \"1\"}, inplace=True)\n",
    "\n",
    "# chaning physical_checkup column \n",
    "asian[\"physical_checkup\"].replace({\"Yes\": \"1\"}, inplace=True)\n",
    "asian['ohysical_checkup'] = asian['physical_checkup'].astype(float, errors = 'raise')\n",
    "\n",
    "# changing income column entries to be represented by integers\n",
    "asian['income'].replace({'$0 - $9,999': 1, '$10,000 - $19,999': 2, '$20,000 - $29,999': 3, '$30,000 - $39,999': 4, \n",
    "                        '$40,000 - $49,999': 5, '$50,000 - $59,999': 6, '$60,000 - $69,999': 7, '$70,000 and over': 8},\n",
    "                       inplace = True)"
   ]
  },
  {
   "cell_type": "code",
   "execution_count": null,
   "id": "d5c8d644",
   "metadata": {},
   "outputs": [],
   "source": [
    "asian.head()"
   ]
  },
  {
   "cell_type": "markdown",
   "id": "a21c1063",
   "metadata": {},
   "source": [
    "---"
   ]
  },
  {
   "cell_type": "markdown",
   "id": "4066327b",
   "metadata": {},
   "source": [
    "## Data Description\n",
    "Within this study, the participants—located in Austin—started by responding to the survey questions asked with respect and appreciation of diverse cultures and acknowledgement of the legacy of the Asian community. More specifically, the data that was collected and recorded was centered around the primary objective of improving Asian American resources for the local Austin community. These resources included topics that covers health, housing, culture, civic engagement, and economic development. The process of acquiring this data set spanned across a three-year community engagement process, on which commissioners, consultants, and city staff partnered with agencies and volunteers to meet with the Asian Americans in the community. For the survey, more than 3,350 individuals took either one of the surveys either online or in person throughout the city. This occurred at “Conversation Over Tea” and the other City of Austin. These locations, in addition to travel booths,  were used to facilitate dialogue and anecdotes from their lives. The participants covered are from every ZIP code within Austin and it’s neighboring areas. In terms of ethical concerns, the participants were aware that they’re data was being collected and shared for the purpose of better understanding their experiences as an Asian American. A raw source to the data can be found [here](https://data.austintexas.gov/City-Government/Final-Report-of-the-Asian-American-Quality-of-Life/hc5t-p62z), under Export > CSV configurations.\n",
    "\n",
    "---"
   ]
  },
  {
   "cell_type": "markdown",
   "id": "1c2e681e",
   "metadata": {},
   "source": [
    "## Data Limitations\n",
    "\n",
    "Limited amount of quantitative data values will make it difficult to generate traditional-looking scatterplots and visualize possible relationships between variables. We foresee a barriers in conducting assessments that predict based off of existing trends due to this. When addressing demographics, the lack of records for previous years will be an obstacle when making comparisons on whether factors measuring the quality of life of Asian-Americans progressed or regressed. One real-world impact that can be derived from this limitation is that Asian-Americans will be less able to identify existing quality-of-life indicators, and  practices that the city of Austin should continue or cease based off patterns in the data. This will restrict the level of specificity in insights concerning emerging patterns we see. Data collected is also limited to representing the attitudes of Asian-Americans living in Texas. Their environment, for example, may be different from the attitudes of Asian-Americans in more or less urban areas, and cannot encapsulate the attitudes of all Asian-Americans. The meaning of the results in this case, would be less useful in terms of its applicability as we do not have randomly-sampled results of all Asian-Americans. This datasets' quality of record-keeping also faltered in areas where respondents were able to leave answers blank. This consequently resulted in NaNs, impacting the meaning of the results  \n",
    "\n",
    "Certain ethnic groups dominate over others which may lead to skewed results when extrapolating quality of life measurements in mentioning the atittudes of Asian-American populations. For example, out of all the ethnic groups described, Protestant Asian-Americans reported experiencing the highest amount of discrimination. However, it would be innaccurate to assume that Protestantism is a motivating factor for racists to engage in discriminatory behaviors towards Asian-Americans. Some response variables will be affected by confounding variables such as different cultural aspects among sub-ethnic groups. (e.g. some ethnic groups have leaner diets which would impact conclusions drawn when studying Asian-American health). In this case, the higher rates of discrimination can also be explained in how the data shows Korean-Americans are primarily of Protestant faith. Given that they were also the ethnicity group to report the highest amounts of discrimination, this shows how the data can only go so far to explain why certain qualities might cause others. \n",
    "\n",
    "---"
   ]
  },
  {
   "cell_type": "markdown",
   "id": "2f503d2f",
   "metadata": {},
   "source": [
    "## Exploratory Data Analysis\n",
    "### Outline\n",
    "\n",
    "#### Scatterplots\n",
    "- [ ] Household Size vs Duration of Residency\n",
    "\n",
    "#### Bar Charts\n",
    "- [ ] Median Income Brackets per Ethnicity\n",
    "- [ ] Percentage of US-born per Ethnicity\n",
    "- [ ] Percentage of Religion per Ethnicity\n",
    "- [ ] Percentage of Discrimination per Ethnicity\n",
    "- [ ] Percentage of Discrimination per Religion\n",
    "\n",
    "#### Histograms\n",
    "- [ ] For all columns \n",
    "\n",
    "#### Boxplots \n",
    "- [ ] Income vs Age\n",
    "\n",
    "#### Correlation\n",
    "- [ ] Visualizing correlation"
   ]
  },
  {
   "cell_type": "markdown",
   "id": "54aa05ff",
   "metadata": {},
   "source": [
    "### Sample Summary Statistics"
   ]
  },
  {
   "cell_type": "code",
   "execution_count": null,
   "id": "579058a3",
   "metadata": {},
   "outputs": [],
   "source": [
    "for col in asian.columns:\n",
    "    display(asian[col].value_counts())\n",
    "    print()"
   ]
  },
  {
   "cell_type": "code",
   "execution_count": null,
   "id": "04d8a387",
   "metadata": {},
   "outputs": [],
   "source": [
    "asian.describe()"
   ]
  },
  {
   "cell_type": "code",
   "execution_count": null,
   "id": "8f4b0341",
   "metadata": {},
   "outputs": [],
   "source": [
    "asian.median()"
   ]
  },
  {
   "cell_type": "markdown",
   "id": "ac7054fa",
   "metadata": {},
   "source": [
    "Median household income for Asian Americans living in Austin, Texas:"
   ]
  },
  {
   "cell_type": "code",
   "execution_count": null,
   "id": "54c6d835",
   "metadata": {},
   "outputs": [],
   "source": [
    "asian['income'].median()"
   ]
  },
  {
   "cell_type": "markdown",
   "id": "e6aa1e22",
   "metadata": {},
   "source": [
    "> The median income bracket for Asian-Americans living in Austin, Texas is between \\\\$50,000 - \\\\$59,999."
   ]
  },
  {
   "cell_type": "code",
   "execution_count": null,
   "id": "b24eaabe",
   "metadata": {},
   "outputs": [],
   "source": [
    "asian['us_born'].value_counts()"
   ]
  },
  {
   "cell_type": "markdown",
   "id": "6613e3e8",
   "metadata": {},
   "source": [
    "> The majority of Asian-Americans living in Austin, TX are not born in the United States. (Nos: 2082 > Yeses: 225)"
   ]
  },
  {
   "cell_type": "markdown",
   "id": "f32bc9ee",
   "metadata": {},
   "source": [
    "If performing statistical tests, do the distribution of the variables satisfy assumptions?\n",
    "> One of the requirements for the chi-square test for independence is that we procure a large enough sample (counts > 5) and the samples are independent.\n",
    "\n",
    "- Based on prior analysis of the data, we have determined that the number of counts (2307) is sufficient to perform statistical inference on. "
   ]
  },
  {
   "cell_type": "markdown",
   "id": "dfcfdbcb",
   "metadata": {},
   "source": [
    "**calculating correlation**"
   ]
  },
  {
   "cell_type": "code",
   "execution_count": null,
   "id": "d330b1d6",
   "metadata": {},
   "outputs": [],
   "source": [
    "asian.corr()"
   ]
  },
  {
   "cell_type": "markdown",
   "id": "82ee4cb6",
   "metadata": {},
   "source": [
    "### Sample Relevant Plots"
   ]
  },
  {
   "cell_type": "markdown",
   "id": "f448f892",
   "metadata": {},
   "source": [
    "**Boxplot for age and income**"
   ]
  },
  {
   "cell_type": "code",
   "execution_count": null,
   "id": "82a3d846",
   "metadata": {},
   "outputs": [],
   "source": [
    "asian.boxplot('age', by = 'income', figsize = (10,10) )"
   ]
  },
  {
   "cell_type": "markdown",
   "id": "826ae0e7",
   "metadata": {},
   "source": [
    "**scatterplot of household size vs. duration of residency**"
   ]
  },
  {
   "cell_type": "code",
   "execution_count": null,
   "id": "c4ff861f",
   "metadata": {},
   "outputs": [],
   "source": [
    "plt.scatter(asian['duration_of_residency'], asian['household_size'])\n",
    "plt.xlabel('Duration of Residency')\n",
    "plt.ylabel('Household size')"
   ]
  },
  {
   "cell_type": "markdown",
   "id": "be92cc0e",
   "metadata": {},
   "source": [
    "**visualising correlations**"
   ]
  },
  {
   "cell_type": "code",
   "execution_count": null,
   "id": "55d8201a",
   "metadata": {},
   "outputs": [],
   "source": [
    "sns.heatmap(asian.corr(), center=0, cmap='coolwarm' )\n",
    "plt.show()"
   ]
  },
  {
   "cell_type": "markdown",
   "id": "36d6cdb2",
   "metadata": {},
   "source": [
    "**Histograms of Variables**"
   ]
  },
  {
   "cell_type": "code",
   "execution_count": null,
   "id": "f793e1fc",
   "metadata": {},
   "outputs": [],
   "source": [
    "asian.hist(bins = 10, figsize = (12,12))\n",
    "# plt.tight_layout()\n",
    "plt.show()"
   ]
  },
  {
   "cell_type": "markdown",
   "id": "8a2a662c",
   "metadata": {},
   "source": [
    "#### Distribution of ethnicities among Asian-Americans living in Austin, Texas"
   ]
  },
  {
   "cell_type": "code",
   "execution_count": null,
   "id": "df0e8bf0",
   "metadata": {},
   "outputs": [],
   "source": [
    "asian['ethnicity'].value_counts().plot(kind='bar');\n",
    "plt.title(\"Distribution of Ethnicities among Asian-Americans\")\n",
    "plt.xlabel(\"Ethnicity\")\n",
    "plt.ylabel(\"Counts\");"
   ]
  },
  {
   "cell_type": "code",
   "execution_count": null,
   "id": "70cd691d",
   "metadata": {},
   "outputs": [],
   "source": [
    "asian['income'].value_counts().plot(kind='bar');"
   ]
  },
  {
   "cell_type": "markdown",
   "id": "ea33fbd4",
   "metadata": {},
   "source": [
    "#### Distribution of religious groups by ethnicity in Asian-American communities in Austin, Texas"
   ]
  },
  {
   "cell_type": "code",
   "execution_count": null,
   "id": "3074c060",
   "metadata": {},
   "outputs": [],
   "source": [
    "plt.figure(figsize=(8,4))\n",
    "sns.countplot(x='religion', data=asian, hue = 'ethnicity');\n",
    "plt.legend(loc='upper right');\n",
    "plt.xlabel(\"Religion\")\n",
    "plt.ylabel(\"Proportion\");\n",
    "plt.title(\"Distribution of Religions by Ethnicity\");"
   ]
  },
  {
   "cell_type": "markdown",
   "id": "c65b4e13",
   "metadata": {},
   "source": [
    "#### Distribution of Natural Citizens by ethnicity in Asian-American communities in Austin, Texas"
   ]
  },
  {
   "cell_type": "code",
   "execution_count": null,
   "id": "e56f7fa0",
   "metadata": {},
   "outputs": [],
   "source": [
    "plt.figure(figsize=(8,4))\n",
    "sns.countplot(x='us_born', data=asian, hue = 'ethnicity', palette = \"hls\");\n",
    "plt.legend(loc='upper right');\n",
    "plt.xlabel(\"US-Born\")\n",
    "plt.ylabel(\"Proportion\");\n",
    "plt.title(\"Distribution of Natural Citizens by Ethnicity\");\n",
    "positions = (0.0, 1.0);\n",
    "labels = (\"No\", \"Yes\");\n",
    "plt.xticks(positions, labels);"
   ]
  },
  {
   "cell_type": "markdown",
   "id": "2ca8053a",
   "metadata": {},
   "source": [
    "#### Median Income Brackets per Ethnicity"
   ]
  },
  {
   "cell_type": "code",
   "execution_count": null,
   "id": "e084f6df",
   "metadata": {},
   "outputs": [],
   "source": [
    "plt.figure(figsize=(8,4))\n",
    "shakeshack = asian.groupby(['ethnicity'])['income'].median()\n",
    "sns.barplot(x = shakeshack.index, y = shakeshack.values, palette = \"Set2\");\n",
    "plt.xlabel(\"Ethnicity\")\n",
    "plt.ylabel(\"Median Income Brackets\");\n",
    "positions = (1, 2, 3, 4, 5, 6, 7, 8);                           \n",
    "labels = (\"\\$0 - $9,999\",\"\\$10,000 - $19,999\", \"\\$20,000 - $29,999\", \"\\$30,000 - $39,999\", \"\\$40,000 - $49,999\", \"\\$50,000 - $59,999\", \"\\$60,000 - $69,999\", '$70,000 and over');\n",
    "plt.yticks(positions, labels);\n",
    "plt.title(\"Median Income Brackets per Ethnicity\");"
   ]
  },
  {
   "cell_type": "markdown",
   "id": "d8dce97e",
   "metadata": {},
   "source": [
    "#### Percentage of Discrimination per Ethnicity"
   ]
  },
  {
   "cell_type": "code",
   "execution_count": null,
   "id": "97872fd7",
   "metadata": {},
   "outputs": [],
   "source": [
    "plt.figure(figsize=(8,4));\n",
    "kfc = asian.groupby(['ethnicity'])['discrimination'].mean()\n",
    "sns.barplot(x=kfc.index, data=asian, y = kfc.values);\n",
    "plt.xlabel(\"Ethnicity\");\n",
    "plt.ylabel(\"Proportion Experiencing Discrimination\");\n",
    "plt.title(\"Discrimination\");\n",
    "print(kfc)"
   ]
  },
  {
   "cell_type": "markdown",
   "id": "a1dd6054",
   "metadata": {},
   "source": [
    "This pertains to research question 5 under Happiness. \n",
    "\n",
    "> Are certain ethnic groups within AAs more likely to experience discrimination than other ethnic groups within AAs in Texas?\"\n",
    "\n",
    "Based on the visualization produced above, 33.1% of Korean-Americans in Austin, Texas have experienced some form of discrimination, followed by 31.8% of Chinese with 16.9% of Indians reporting the least amount of discrimination."
   ]
  },
  {
   "cell_type": "markdown",
   "id": "23089ad9",
   "metadata": {},
   "source": [
    "#### Proportion Discrimination per Religion"
   ]
  },
  {
   "cell_type": "code",
   "execution_count": null,
   "id": "2c4e11f0",
   "metadata": {
    "scrolled": true
   },
   "outputs": [],
   "source": [
    "plt.figure(figsize=(8,4));\n",
    "chikfila = asian.groupby(['religion'])['discrimination'].mean()\n",
    "sns.barplot(x=chikfila.index, data=asian, y = chikfila.values);\n",
    "plt.xlabel(\"Religion\");\n",
    "plt.ylabel(\"Proportion Experiencing Discrimination\");\n",
    "plt.title(\"Discrimination\");"
   ]
  },
  {
   "cell_type": "markdown",
   "id": "efbebf14",
   "metadata": {},
   "source": [
    "This pertains to research question 4 under Happiness.\n",
    "\n",
    "> Are certain religious groups within AAs more likely to experience discrimination than other relgious groups within AAs in Texas?\n",
    "\n",
    "Based on the visualization produced above, 35.0% of Asian-American Protestants in Austin, Texas have experienced some form of discrimination, followed by 29.9% of Catholics with 15.2% of Hindus reporting the least amount of discrimination."
   ]
  },
  {
   "cell_type": "code",
   "execution_count": null,
   "id": "9f41b13d",
   "metadata": {},
   "outputs": [],
   "source": [
    "asian.columns"
   ]
  },
  {
   "cell_type": "code",
   "execution_count": null,
   "id": "512e5972",
   "metadata": {
    "scrolled": true
   },
   "outputs": [],
   "source": [
    "asian['ethnicity'][21]"
   ]
  },
  {
   "cell_type": "code",
   "execution_count": 12,
   "id": "56b2a3d5",
   "metadata": {},
   "outputs": [
    {
     "data": {
      "text/plain": [
       "0       NaN\n",
       "1       NaN\n",
       "2       8.0\n",
       "3       NaN\n",
       "4       NaN\n",
       "       ... \n",
       "2604    8.0\n",
       "2605    9.0\n",
       "2606    6.0\n",
       "2607    6.0\n",
       "2608    8.0\n",
       "Name: quality_of_life, Length: 2609, dtype: float64"
      ]
     },
     "execution_count": 12,
     "metadata": {},
     "output_type": "execute_result"
    }
   ],
   "source": [
    "asian['quality_of_life'].dropna(inplace = True)\n",
    "asian['quality_of_life']"
   ]
  },
  {
   "cell_type": "code",
   "execution_count": null,
   "id": "4dffafe2",
   "metadata": {},
   "outputs": [],
   "source": [
    "predictors = list(logistic_data.columns)\n",
    "predictors.remove('quality_of_life')\n",
    "# fit logit model and print learned parameters\n",
    "target_model = LogisticRegression().fit(\n",
    "    logistic_data[predictors].values,\n",
    "    logistic_data['quality_of_life']\n",
    ")"
   ]
  },
  {
   "cell_type": "code",
   "execution_count": 11,
   "id": "dc5ddce3",
   "metadata": {},
   "outputs": [],
   "source": [
    "for i in asian['quality_of_life']:\n",
    "    if i <= 5:\n",
    "        i = 0\n",
    "    else:\n",
    "        i = 1\n"
   ]
  },
  {
   "cell_type": "markdown",
   "id": "4c22ee09",
   "metadata": {},
   "source": [
    "Introduction\n",
    "\n",
    "All expectations of typical projects +\n",
    "clearly describes why the setting is important and what is at stake in the results of the analysis. Even if the reader doesn’t know much about the subject, they know why they care about the results of your analysis.\n",
    "\n"
   ]
  },
  {
   "cell_type": "markdown",
   "id": "5e54d4e6",
   "metadata": {},
   "source": [
    "## Introduction\n",
    "\n",
    "The American Ultimate Disc League, or AUDL, is a professional ultimate disc\n",
    "league with teams across the country, and over 600 registered players. We have\n",
    "collected publicly available data with statistics on the performance of\n",
    "individual players and teams throughout the 2019 season as well as scraping blog\n",
    "posts from the AUDL website to associate players with team rosters. We are\n",
    "analyzing this data to identify patterns in how players impact their teams, how\n",
    "various statistics are related to one another, and different styles of play that\n",
    "those players might adopt.\n",
    "\n",
    "Ultimate disc is a sport played by two teams in a series of points. Each point\n",
    "has seven players on each side, and consists of one team starting with the disc\n",
    "and passing it to try to reach the end zone. The defending team attempts to\n",
    "block a pass to gain possession of the disc and take it to their own end zone.\n",
    "Each point ends with one team scoring a goal, and becoming the defending team\n",
    "for the next point. While only 7 players are on the field for each team during a\n",
    "given point, teams often substitute all 7 players between points, so AUDL teams\n",
    "often consist of 20 or more players.\n",
    "\n",
    "This link explains some of the statistics in more detail: <https://www.leaguevine.com/stats/stats/ultimate/key/>\n",
    "\n",
    "The scraping scripts and additional materials are hosted in this GitHub repository: <https://github.com/samcfuchs/2950>"
   ]
  },
  {
   "cell_type": "code",
   "execution_count": 13,
   "id": "3379869c",
   "metadata": {},
   "outputs": [
    {
     "data": {
      "text/plain": [
       "1.0    1604\n",
       "0.0     992\n",
       "Name: regular_exercise, dtype: int64"
      ]
     },
     "execution_count": 13,
     "metadata": {},
     "output_type": "execute_result"
    }
   ],
   "source": [
    "asian['regular_exercise'].value_counts()"
   ]
  },
  {
   "cell_type": "markdown",
   "id": "02a8cbc1",
   "metadata": {},
   "source": [
    "## Introduction\n",
    "\n",
    "As per 2020's US Census findings, it is reported that approximately 19.9 million people identify as Asian. We have collected publicly available data with statistics on Asian American quality of life in 2018. \n",
    "\n",
    "\n",
    "\n",
    "\n",
    "The American Ultimate Disc League, or AUDL, is a professional ultimate disc\n",
    "league with teams across the country, and over 600 registered players. We have\n",
    "collected publicly available data with statistics on the performance of\n",
    "individual players and teams throughout the 2019 season as well as scraping blog\n",
    "posts from the AUDL website to associate players with team rosters. We are\n",
    "analyzing this data to identify patterns in how players impact their teams, how\n",
    "various statistics are related to one another, and different styles of play that\n",
    "those players might adopt.\n",
    "\n",
    "Ultimate disc is a sport played by two teams in a series of points. Each point\n",
    "has seven players on each side, and consists of one team starting with the disc\n",
    "and passing it to try to reach the end zone. The defending team attempts to\n",
    "block a pass to gain possession of the disc and take it to their own end zone.\n",
    "Each point ends with one team scoring a goal, and becoming the defending team\n",
    "for the next point. While only 7 players are on the field for each team during a\n",
    "given point, teams often substitute all 7 players between points, so AUDL teams\n",
    "often consist of 20 or more players.\n",
    "\n",
    "This link explains some of the statistics in more detail: <https://www.leaguevine.com/stats/stats/ultimate/key/>\n",
    "\n",
    "The scraping scripts and additional materials are hosted in this GitHub repository: <https://github.com/samcfuchs/2950>\n"
   ]
  },
  {
   "cell_type": "markdown",
   "id": "58dcaa6f",
   "metadata": {},
   "source": [
    "---"
   ]
  },
  {
   "cell_type": "markdown",
   "id": "2584fab1",
   "metadata": {},
   "source": [
    "## Questions for Reviewers\n",
    "\n",
    "- Will we be penalized in the event that there certain hypothesis tests that we need to perform can be only be applied with quantitative data?\n",
    "- What is the ideal number of small research questions?"
   ]
  }
 ],
 "metadata": {
  "kernelspec": {
   "display_name": "Python 3",
   "language": "python",
   "name": "python3"
  },
  "language_info": {
   "codemirror_mode": {
    "name": "ipython",
    "version": 3
   },
   "file_extension": ".py",
   "mimetype": "text/x-python",
   "name": "python",
   "nbconvert_exporter": "python",
   "pygments_lexer": "ipython3",
   "version": "3.8.8"
  }
 },
 "nbformat": 4,
 "nbformat_minor": 5
}
