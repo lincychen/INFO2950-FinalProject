{
 "cells": [
  {
   "cell_type": "markdown",
   "id": "257c1f08",
   "metadata": {},
   "source": [
    "# INFOSCI 2950: Final Project Phase II Submission"
   ]
  },
  {
   "cell_type": "markdown",
   "id": "f7f93610",
   "metadata": {},
   "source": [
    "*Madelyn Leon, Lincy Chen, and Jessica Kuang*"
   ]
  },
  {
   "cell_type": "markdown",
   "id": "3ec86143",
   "metadata": {},
   "source": [
    "---\n",
    "## Research Questions\n",
    "\n",
    "**Main Goal: How can we define Asian-American communities in Texas in terms of health, happiness, and financial security? and How do health, finances, community support (or the lack thereof), and identities affect an Texan Asian American's quality of life?**\n",
    "\n",
    "*Financial Security*\n",
    "1. Do some ethnic groups of Asian-Americans (AAs) in Texas earn more than others?\n",
    "2. Do younger Asian-Americans earn more money than older generations of Asian Americans living in Texas?\n",
    "3. How does household size relate to duration of residency for AAs in Texas?\n",
    "4. How does household size and income relate to the quality of life of a participant? \n",
    "5. How does the amount of education completed relate to income? Does this rely on whether the participant was US born?\n",
    "*Happiness*\n",
    "1. Are some ethnic groups more likely to be born in the United States than others?\n",
    "2. What are the most dominant religions among ethnic groups in Asian-American communities in Texas?\n",
    "3. How is English speaking ability related to English difficulty among AA communities in Texas?\n",
    "4. Are certain religious groups within AAs more likely to experience discrimination than other relgious groups within AAs in Texas?\n",
    "5. Are certain ethnic groups within AAs more likely to experience discrimination than other ethnic groups within AAs in Texas?\n",
    "*Health*\n",
    "1. Is smoking among Asian-American populations linked to heart disease?\n",
    "2. Are older generations of AAs more likely to follow a healthy diet than younger generations of AAs in Texas?\n",
    "3. How do the variables healthy diet and regular exercise correlate with eachother?\n",
    "4. Does the presence of health insurance and check ups increase someone's quality of life?\n",
    "*Community Support*\n",
    "1. Can we predit someone's quality of life by looking at the amount of close friends they have?\n",
    "2. Is religious affiliation a good predictor of quality of life?\n",
    "3. What quality of life do retired people tend to have?\n",
    "\n",
    "---"
   ]
  },
  {
   "cell_type": "markdown",
   "id": "9859929c",
   "metadata": {},
   "source": [
    "## Data Collection and Cleaning\n",
    "### Data Collection\n",
    "1. Go to data [landing page](https://data.austintexas.gov/City-Government/Final-Report-of-the-Asian-American-Quality-of-Life/hc5t-p62z). \n",
    "2. Click on Export > CSV.\n",
    "3. Download publicly available `Final_Report_of_the_Asian_American_Quality_of_Life__AAQoL_.csv` into desired directory."
   ]
  },
  {
   "cell_type": "markdown",
   "id": "e76e2a58",
   "metadata": {},
   "source": [
    "### Data Cleaning\n",
    "1. Store raw data into a preliminary dataframe, `df`\n",
    "2. Convert column names into snake_case"
   ]
  },
  {
   "cell_type": "code",
   "execution_count": 1,
   "id": "20dfc66c",
   "metadata": {},
   "outputs": [],
   "source": [
    "## load libraries\n",
    "import numpy as np\n",
    "import pandas as pd\n",
    "import matplotlib.pyplot as plt\n",
    "import seaborn as sns"
   ]
  },
  {
   "cell_type": "code",
   "execution_count": 2,
   "id": "2a793a4e",
   "metadata": {},
   "outputs": [],
   "source": [
    "## Step 1\n",
    "df = pd.read_csv('Final_Report_of_the_Asian_American_Quality_of_Life__AAQoL_.csv')"
   ]
  },
  {
   "cell_type": "code",
   "execution_count": 3,
   "id": "b8b64f52",
   "metadata": {},
   "outputs": [],
   "source": [
    "## Step 2\n",
    "new_colnames = [i.lower() for i in df.columns]\n",
    "new_colnames = [i.replace(\" \",\"_\") for i in new_colnames]"
   ]
  },
  {
   "cell_type": "markdown",
   "id": "e564e54f",
   "metadata": {},
   "source": [
    "#### Column Names\n",
    "3. Save these new column names to a new dataframe, `asian`\n",
    "4. Select columns from the existing `asian` dataframe for data analysis\n",
    "- [ ] Income\n",
    "- [ ] Retired\n",
    "- [ ] US Born\n",
    "- [ ] English Speaking\n",
    "- [ ] English Difficulties\n",
    "- [ ] Ethnicity\n",
    "- [ ] Age\n",
    "- [ ] Regular Exercise\n",
    "- [ ] Healthy Diet\n",
    "- [ ] Heart Disease\n",
    "- [ ] Drinking\n",
    "- [ ] Smoking\n",
    "- [ ] Cancer\n",
    "- [ ] Health Insurance\n",
    "- [ ] Physical Check-up\n",
    "- [ ] Quality of Life\n",
    "- [ ] Religion\n",
    "- [ ] Gender\n",
    "- [ ] Close Friends\n",
    "- [ ] Discrimination\n",
    "- [ ] Duration of Residency\n",
    "- [ ] Household Size\n",
    "- [ ] Education Completed\n",
    "- [ ] Cleaning Entries"
   ]
  },
  {
   "cell_type": "code",
   "execution_count": 4,
   "id": "e73bb9af",
   "metadata": {},
   "outputs": [],
   "source": [
    "## Step 3\n",
    "asian = df.copy()\n",
    "asian.columns = new_colnames"
   ]
  },
  {
   "cell_type": "code",
   "execution_count": 5,
   "id": "61526194",
   "metadata": {},
   "outputs": [],
   "source": [
    "## Step 4\n",
    "asian = asian[['income', 'retired', 'us_born', 'english_speaking', 'english_difficulties', 'ethnicity','age', 'regular_exercise', 'healthy_diet', 'heart_disease', 'drinking', 'smoking',\n",
    "               'cancer', 'health_insurance', 'physical_check-up', 'quality_of_life', 'religion', 'gender', 'close_friends', 'discrimination_', 'duration_of_residency', 'household_size',\n",
    "              'education_completed']]\n",
    "# Additional improvements to asian\n",
    "asian = asian.rename(columns = {'discrimination_':'discrimination', 'physical_check-up':'physical_checkup'})"
   ]
  },
  {
   "cell_type": "markdown",
   "id": "03444bea",
   "metadata": {},
   "source": [
    "#### Cleaning Entries\n",
    "5. For the corresponding columns, convert null data according to the table below:\n",
    "\n",
    "| Column                | Modification to NaNs           |\n",
    "|-----------------------|--------------------------------|\n",
    "| duration_of_residency | -1                             |\n",
    "| education_completed   | -1                             |\n",
    "| discrimination        | 0                              |\n",
    "| household_size        | 0                              |\n",
    "| english_speaking      | 0                              |\n",
    "| english_difficulties  | 0                              |\n",
    "| retired               | 0                              |\n",
    "| us_born               | 0                              |\n",
    "| health_insurance      | 0                              |\n",
    "| physical_checkup      | 0                              |\n",
    "| regular_exercise      | 0                              |\n",
    "| healthy_diet          | 0                              |\n",
    "| heart_disease         | 0                              |\n",
    "| income                | 0                              |\n",
    "| quality_of_life       | median (5.0)                   |\n",
    "| age                   | median (40.0)                  |\n",
    "| close_friends         | median (3.0)                   |\n",
    "| gender                | \"Unknown\"                      |\n",
    "| ethnicity             | \"Unknown\"                      |\n",
    "| religion              | \"Unknown\"                      |"
   ]
  },
  {
   "cell_type": "markdown",
   "id": "a15d1b63",
   "metadata": {},
   "source": [
    "6. Replace column data to binary responses with 1s indicating ‘Yes’es and 0s indicating ‘No’es\n",
    "8. Convert column data into intended data types\n",
    "| Column                | Data Type                                                                          |\n",
    "|-----------------------|------------------------------------------------------------------------------------|\n",
    "| income                | int: {0 (for NaNs), 1 (0-9999), 2 (10000-19999), ..., 7 (60000-69999), 8 (70000+)} |\n",
    "| retired               | int: {0 for Noes, 1 for Yeses}                                                     |\n",
    "| US Born               | int: {0 for Noes, 1 for Yeses}                                                     |\n",
    "| English Speaking      | int: {'Not at all': 1, 'Not well': 2, 'Well': 3, 'Very well': 4}                                                                    |\n",
    "| English Difficulties  | int: {'Not at all': 1, 'Not much': 2, 'Much': 3, 'Very much': 4}                                                                            |\n",
    "| Ethnicity             | String                                                                             |\n",
    "| Age                   | int                                                                                |\n",
    "| Regular Exercise      | int: {0 for Noes, 1 for Yeses}                                                     |\n",
    "| Healthy Diet          | int: {0 for Noes, 1 for Yeses}                                                     |\n",
    "| Heart Disease         | int: {0 for Noes, 1 for Yeses}                                                     |\n",
    "| Drinking              | int: {0 for Noes, 1 for Yeses}                                                     |\n",
    "| Smoking               | int: {0 for Noes, 1 for Yeses}                                                     |\n",
    "| Cancer                | int: {0 for Noes, 1 for Yeses}                                                     |\n",
    "| Health Insurance      | int: {0 for Noes, 1 for Yeses}                                                     |\n",
    "| Physical Check-up     | int: {0 for Noes, 1 for Yeses}                                                     |\n",
    "| Quality of Life       |    'Not at all': 1, 'Not well': 2, 'Well': 3, 'Very well': 4                                                                                |\n",
    "| Religion              | String                                                                             |\n",
    "| Gender                | String                                                                             |\n",
    "| Close Friends         |    floats                                                                                |\n",
    "| Discrimination        | int: {0 for Noes, 1 for Yeses}                                                     |\n",
    "| Duration of Residency | float                                                                              |\n",
    "| Household Size        | int                                                                                |\n",
    "| Education Completed   |    int                                                                                |"
   ]
  },
  {
   "cell_type": "code",
   "execution_count": 6,
   "id": "ed959de5",
   "metadata": {},
   "outputs": [],
   "source": [
    "## Step 5, 6, 7\n",
    "\n",
    "#replacing NaNs with 0\n",
    "asian['english_speaking'] = asian['english_speaking'].fillna(0)\n",
    "    \n",
    "#replacing NaNs with 0\n",
    "asian['english_difficulties'] = asian['english_difficulties'].fillna(0)\n",
    "\n",
    "#replacing NaNs with 0\n",
    "asian['retired'] = asian['retired'].fillna(0)\n",
    "\n",
    "#replacing NaNs with 0\n",
    "asian['us_born'] = asian['us_born'].fillna(0)\n",
    "\n",
    "#replacing NaNs with 0\n",
    "asian['health_insurance'] = asian['health_insurance'].fillna(0)\n",
    "\n",
    "#replacing NaNs with 0\n",
    "asian['physical_checkup'] = asian['physical_checkup'].fillna(0)\n",
    "\n",
    "#replacing NaNs with 0\n",
    "asian['regular_exercise'] = asian['regular_exercise'].fillna(0)\n",
    "\n",
    "#replacing NaNs with 0\n",
    "asian['healthy_diet'] = asian['healthy_diet'].fillna(0)\n",
    "\n",
    "#replacing NaNs with 0\n",
    "asian['heart_disease'] = asian['heart_disease'].fillna(0)\n",
    "\n",
    "#replacing NaNs with 5.0\n",
    "asian['quality_of_life'] = asian['quality_of_life'].fillna(5.0)\n",
    "\n",
    "#replacing NaNs with 0\n",
    "asian['discrimination'] = asian['discrimination'].fillna(0)\n",
    "\n",
    "#replacing NaNs with -1\n",
    "asian['duration_of_residency'] = asian['duration_of_residency'].fillna(-1)\n",
    "\n",
    "#replacing NaNs with 0 because househols_size can not be 0 because participants are counting themselves\n",
    "asian['household_size'] = asian['household_size'].fillna(0)\n",
    "\n",
    "#replacing NaNs with -1\n",
    "asian['education_completed'] = asian['education_completed'].fillna(-1)\n",
    "\n",
    "#replacing NaNs with Unknown\n",
    "asian['gender'] = asian['gender'].fillna('Unknown')\n",
    "\n",
    "#replacing NaNs with Unknown\n",
    "asian['ethnicity'] = asian['ethnicity'].fillna('Unknown')\n",
    "\n",
    "#replacing NaNs with Unknown\n",
    "asian['religion'] = asian['religion'].fillna('Unknown')\n",
    "\n",
    "#replacing NaNs with median age\n",
    "asian['age'] = asian['age'].fillna(40.0)\n",
    "\n",
    "#replacing NaNs with median number of close friends\n",
    "asian['close_friends'] = asian['close_friends'].fillna(3.0)\n",
    "\n",
    "#replacing NaNs with 0\n",
    "asian['income'] = asian['income'].fillna(0)\n",
    "\n",
    "## <TO-DO> Paste affliated code here!\n",
    "#changing english_speaking column to be represented by floats\n",
    "asian['english_speaking'].replace({'Not at all': 1, 'Not well': 2, 'Well': 3, 'Very well': 4}, inplace = True)\n",
    "asian['english_speaking'] = asian['english_speaking'].astype(float, errors = 'raise')\n",
    "\n",
    "# changing english_difficulties column to be represented by floats\n",
    "asian['english_difficulties'].replace({'Not at all': 1, 'Not much': 2, 'Much': 3, 'Very much': 4}, inplace = True)\n",
    "asian['english_difficuties'] = asian['english_difficulties'].astype(float, errors = 'raise')\n",
    "\n",
    "# changing retired column to to be represented by floats\n",
    "asian[\"retired\"].replace({\"Retired\": 1}, inplace=True)\n",
    "asian[\"retired\"] = asian[\"retired\"].astype(float, errors='raise')\n",
    "\n",
    "# changing us_born column to to be represented by floats\n",
    "asian[\"us_born\"].replace({\"No\": 0, \"Yes\": 1}, inplace=True)\n",
    "asian[\"us_born\"] = asian[\"us_born\"].astype(float, errors='raise')\n",
    "\n",
    "# changing health_insurance column \n",
    "asian['health_insurance'].replace({\"Yes\": \"1\"}, inplace=True)\n",
    "\n",
    "# chaning physical_checkup column \n",
    "asian[\"physical_checkup\"].replace({\"Yes\": \"1\"}, inplace=True)\n",
    "asian['ohysical_checkup'] = asian['physical_checkup'].astype(float, errors = 'raise')\n",
    "\n",
    "# changing income column entries to be represented by integers\n",
    "asian['income'].replace({'$0 - $9,999': 1, '$10,000 - $19,999': 2, '$20,000 - $29,999': 3, '$30,000 - $39,999': 4, \n",
    "                        '$40,000 - $49,999': 5, '$50,000 - $59,999': 6, '$60,000 - $69,999': 7, '$70,000 and over': 8},\n",
    "                       inplace = True)"
   ]
  },
  {
   "cell_type": "code",
   "execution_count": 7,
   "id": "d5c8d644",
   "metadata": {},
   "outputs": [
    {
     "data": {
      "text/html": [
       "<div>\n",
       "<style scoped>\n",
       "    .dataframe tbody tr th:only-of-type {\n",
       "        vertical-align: middle;\n",
       "    }\n",
       "\n",
       "    .dataframe tbody tr th {\n",
       "        vertical-align: top;\n",
       "    }\n",
       "\n",
       "    .dataframe thead th {\n",
       "        text-align: right;\n",
       "    }\n",
       "</style>\n",
       "<table border=\"1\" class=\"dataframe\">\n",
       "  <thead>\n",
       "    <tr style=\"text-align: right;\">\n",
       "      <th></th>\n",
       "      <th>income</th>\n",
       "      <th>retired</th>\n",
       "      <th>us_born</th>\n",
       "      <th>english_speaking</th>\n",
       "      <th>english_difficulties</th>\n",
       "      <th>ethnicity</th>\n",
       "      <th>age</th>\n",
       "      <th>regular_exercise</th>\n",
       "      <th>healthy_diet</th>\n",
       "      <th>heart_disease</th>\n",
       "      <th>...</th>\n",
       "      <th>quality_of_life</th>\n",
       "      <th>religion</th>\n",
       "      <th>gender</th>\n",
       "      <th>close_friends</th>\n",
       "      <th>discrimination</th>\n",
       "      <th>duration_of_residency</th>\n",
       "      <th>household_size</th>\n",
       "      <th>education_completed</th>\n",
       "      <th>english_difficuties</th>\n",
       "      <th>ohysical_checkup</th>\n",
       "    </tr>\n",
       "  </thead>\n",
       "  <tbody>\n",
       "    <tr>\n",
       "      <th>0</th>\n",
       "      <td>0</td>\n",
       "      <td>0.0</td>\n",
       "      <td>0.0</td>\n",
       "      <td>0.0</td>\n",
       "      <td>0</td>\n",
       "      <td>Vietnamese</td>\n",
       "      <td>40.0</td>\n",
       "      <td>0.0</td>\n",
       "      <td>0.0</td>\n",
       "      <td>0.0</td>\n",
       "      <td>...</td>\n",
       "      <td>5.0</td>\n",
       "      <td>Unknown</td>\n",
       "      <td>Unknown</td>\n",
       "      <td>3.0</td>\n",
       "      <td>0.0</td>\n",
       "      <td>-1.0</td>\n",
       "      <td>0.0</td>\n",
       "      <td>-1.0</td>\n",
       "      <td>0.0</td>\n",
       "      <td>0.0</td>\n",
       "    </tr>\n",
       "    <tr>\n",
       "      <th>1</th>\n",
       "      <td>4</td>\n",
       "      <td>1.0</td>\n",
       "      <td>0.0</td>\n",
       "      <td>1.0</td>\n",
       "      <td>2</td>\n",
       "      <td>Chinese</td>\n",
       "      <td>60.0</td>\n",
       "      <td>0.0</td>\n",
       "      <td>0.0</td>\n",
       "      <td>0.0</td>\n",
       "      <td>...</td>\n",
       "      <td>5.0</td>\n",
       "      <td>Buddhist</td>\n",
       "      <td>Male</td>\n",
       "      <td>3.0</td>\n",
       "      <td>0.0</td>\n",
       "      <td>0.5</td>\n",
       "      <td>6.0</td>\n",
       "      <td>13.0</td>\n",
       "      <td>2.0</td>\n",
       "      <td>0.0</td>\n",
       "    </tr>\n",
       "    <tr>\n",
       "      <th>2</th>\n",
       "      <td>1</td>\n",
       "      <td>0.0</td>\n",
       "      <td>0.0</td>\n",
       "      <td>3.0</td>\n",
       "      <td>3</td>\n",
       "      <td>Chinese</td>\n",
       "      <td>23.0</td>\n",
       "      <td>0.0</td>\n",
       "      <td>1.0</td>\n",
       "      <td>0.0</td>\n",
       "      <td>...</td>\n",
       "      <td>8.0</td>\n",
       "      <td>Buddhist</td>\n",
       "      <td>Female</td>\n",
       "      <td>4.0</td>\n",
       "      <td>0.0</td>\n",
       "      <td>11.0</td>\n",
       "      <td>3.0</td>\n",
       "      <td>16.0</td>\n",
       "      <td>3.0</td>\n",
       "      <td>1.0</td>\n",
       "    </tr>\n",
       "    <tr>\n",
       "      <th>3</th>\n",
       "      <td>0</td>\n",
       "      <td>1.0</td>\n",
       "      <td>0.0</td>\n",
       "      <td>2.0</td>\n",
       "      <td>0</td>\n",
       "      <td>Chinese</td>\n",
       "      <td>73.0</td>\n",
       "      <td>1.0</td>\n",
       "      <td>1.0</td>\n",
       "      <td>0.0</td>\n",
       "      <td>...</td>\n",
       "      <td>5.0</td>\n",
       "      <td>Protestant</td>\n",
       "      <td>Female</td>\n",
       "      <td>3.0</td>\n",
       "      <td>0.0</td>\n",
       "      <td>50.0</td>\n",
       "      <td>1.0</td>\n",
       "      <td>13.0</td>\n",
       "      <td>0.0</td>\n",
       "      <td>0.0</td>\n",
       "    </tr>\n",
       "    <tr>\n",
       "      <th>4</th>\n",
       "      <td>0</td>\n",
       "      <td>0.0</td>\n",
       "      <td>0.0</td>\n",
       "      <td>3.0</td>\n",
       "      <td>4</td>\n",
       "      <td>Asian Indian</td>\n",
       "      <td>29.0</td>\n",
       "      <td>0.0</td>\n",
       "      <td>0.0</td>\n",
       "      <td>0.0</td>\n",
       "      <td>...</td>\n",
       "      <td>5.0</td>\n",
       "      <td>Hindu</td>\n",
       "      <td>Male</td>\n",
       "      <td>3.0</td>\n",
       "      <td>0.0</td>\n",
       "      <td>7.0</td>\n",
       "      <td>1.0</td>\n",
       "      <td>17.0</td>\n",
       "      <td>4.0</td>\n",
       "      <td>0.0</td>\n",
       "    </tr>\n",
       "  </tbody>\n",
       "</table>\n",
       "<p>5 rows × 25 columns</p>\n",
       "</div>"
      ],
      "text/plain": [
       "   income  retired  us_born  english_speaking  english_difficulties  \\\n",
       "0       0      0.0      0.0               0.0                     0   \n",
       "1       4      1.0      0.0               1.0                     2   \n",
       "2       1      0.0      0.0               3.0                     3   \n",
       "3       0      1.0      0.0               2.0                     0   \n",
       "4       0      0.0      0.0               3.0                     4   \n",
       "\n",
       "      ethnicity   age  regular_exercise  healthy_diet  heart_disease  ...  \\\n",
       "0    Vietnamese  40.0               0.0           0.0            0.0  ...   \n",
       "1       Chinese  60.0               0.0           0.0            0.0  ...   \n",
       "2       Chinese  23.0               0.0           1.0            0.0  ...   \n",
       "3       Chinese  73.0               1.0           1.0            0.0  ...   \n",
       "4  Asian Indian  29.0               0.0           0.0            0.0  ...   \n",
       "\n",
       "   quality_of_life    religion   gender close_friends discrimination  \\\n",
       "0              5.0     Unknown  Unknown           3.0            0.0   \n",
       "1              5.0    Buddhist     Male           3.0            0.0   \n",
       "2              8.0    Buddhist   Female           4.0            0.0   \n",
       "3              5.0  Protestant   Female           3.0            0.0   \n",
       "4              5.0       Hindu     Male           3.0            0.0   \n",
       "\n",
       "   duration_of_residency household_size education_completed  \\\n",
       "0                   -1.0            0.0                -1.0   \n",
       "1                    0.5            6.0                13.0   \n",
       "2                   11.0            3.0                16.0   \n",
       "3                   50.0            1.0                13.0   \n",
       "4                    7.0            1.0                17.0   \n",
       "\n",
       "   english_difficuties  ohysical_checkup  \n",
       "0                  0.0               0.0  \n",
       "1                  2.0               0.0  \n",
       "2                  3.0               1.0  \n",
       "3                  0.0               0.0  \n",
       "4                  4.0               0.0  \n",
       "\n",
       "[5 rows x 25 columns]"
      ]
     },
     "execution_count": 7,
     "metadata": {},
     "output_type": "execute_result"
    }
   ],
   "source": [
    "asian.head()"
   ]
  },
  {
   "cell_type": "markdown",
   "id": "a21c1063",
   "metadata": {},
   "source": [
    "---"
   ]
  },
  {
   "cell_type": "markdown",
   "id": "4066327b",
   "metadata": {},
   "source": [
    "## Data Description\n",
    "Within this study, the participants—located in Austin—started by responding to the survey questions asked with respect and appreciation of diverse cultures and acknowledgement of the legacy of the Asian community. More specifically, the data that was collected and recorded was centered around the primary objective of improving Asian American resources for the local Austin community. These resources included topics that covers health, housing, culture, civic engagement, and economic development. The process of acquiring this data set spanned across a three-year community engagement process, on which commissioners, consultants, and city staff partnered with agencies and volunteers to meet with the Asian Americans in the community. For the survey, more than 3,350 individuals took either one of the surveys either online or in person throughout the city. This occurred at “Conversation Over Tea” and the other City of Austin. These locations, in addition to travel booths,  were used to facilitate dialogue and anecdotes from their lives. The participants covered are from every ZIP code within Austin and it’s neighboring areas. In terms of ethical concerns, the participants were aware that they’re data was being collected and shared for the purpose of better understanding their experiences as an Asian American. A raw source to the data can be found [here](https://data.austintexas.gov/City-Government/Final-Report-of-the-Asian-American-Quality-of-Life/hc5t-p62z), under Export > CSV configurations.\n",
    "\n",
    "---"
   ]
  },
  {
   "cell_type": "markdown",
   "id": "1c2e681e",
   "metadata": {},
   "source": [
    "## Data Limitations\n",
    "\n",
    "Limited amount of quantitative data values will make it difficult to generate traditional-looking scatterplots and visualize possible relationships between variables. We foresee a barriers in conducting assessments that predict based off of existing trends due to this. When addressing demographics, the lack of records for previous years will be an obstacle when making comparisons on whether factors measuring the quality of life of Asian-Americans progressed or regressed. One real-world impact that can be derived from this limitation is that Asian-Americans will be less able to identify existing quality-of-life indicators, and  practices that the city of Austin should continue or cease based off patterns in the data. This will restrict the level of specificity in insights concerning emerging patterns we see. Data collected is also limited to representing the attitudes of Asian-Americans living in Texas. Their environment, for example, may be different from the attitudes of Asian-Americans in more or less urban areas, and cannot encapsulate the attitudes of all Asian-Americans. The meaning of the results in this case, would be less useful in terms of its applicability as we do not have randomly-sampled results of all Asian-Americans. This datasets' quality of record-keeping also faltered in areas where respondents were able to leave answers blank. This consequently resulted in NaNs, impacting the meaning of the results  \n",
    "\n",
    "Certain ethnic groups dominate over others which may lead to skewed results when extrapolating quality of life measurements in mentioning the atittudes of Asian-American populations. For example, out of all the ethnic groups described, Protestant Asian-Americans reported experiencing the highest amount of discrimination. However, it would be innaccurate to assume that Protestantism is a motivating factor for racists to engage in discriminatory behaviors towards Asian-Americans. Some response variables will be affected by confounding variables such as different cultural aspects among sub-ethnic groups. (e.g. some ethnic groups have leaner diets which would impact conclusions drawn when studying Asian-American health). In this case, the higher rates of discrimination can also be explained in how the data shows Korean-Americans are primarily of Protestant faith. Given that they were also the ethnicity group to report the highest amounts of discrimination, this shows how the data can only go so far to explain why certain qualities might cause others. \n",
    "\n",
    "---"
   ]
  },
  {
   "cell_type": "markdown",
   "id": "2f503d2f",
   "metadata": {},
   "source": [
    "## Exploratory Data Analysis\n",
    "### Outline\n",
    "\n",
    "#### Scatterplots\n",
    "- [ ] Household Size vs Duration of Residency\n",
    "\n",
    "#### Bar Charts\n",
    "- [ ] Median Income Brackets per Ethnicity\n",
    "- [ ] Percentage of US-born per Ethnicity\n",
    "- [ ] Percentage of Religion per Ethnicity\n",
    "- [ ] Percentage of Discrimination per Ethnicity\n",
    "- [ ] Percentage of Discrimination per Religion\n",
    "\n",
    "#### Histograms\n",
    "- [ ] For all columns \n",
    "\n",
    "#### Boxplots \n",
    "- [ ] Income vs Age\n",
    "\n",
    "#### Correlation\n",
    "- [ ] Visualizing correlation"
   ]
  },
  {
   "cell_type": "markdown",
   "id": "54aa05ff",
   "metadata": {},
   "source": [
    "### Sample Summary Statistics"
   ]
  },
  {
   "cell_type": "code",
   "execution_count": 8,
   "id": "579058a3",
   "metadata": {},
   "outputs": [
    {
     "data": {
      "text/plain": [
       "8    993\n",
       "1    254\n",
       "4    207\n",
       "2    205\n",
       "0    203\n",
       "3    198\n",
       "7    190\n",
       "5    181\n",
       "6    178\n",
       "Name: income, dtype: int64"
      ]
     },
     "metadata": {},
     "output_type": "display_data"
    },
    {
     "name": "stdout",
     "output_type": "stream",
     "text": [
      "\n"
     ]
    },
    {
     "data": {
      "text/plain": [
       "0.0    2279\n",
       "1.0     330\n",
       "Name: retired, dtype: int64"
      ]
     },
     "metadata": {},
     "output_type": "display_data"
    },
    {
     "name": "stdout",
     "output_type": "stream",
     "text": [
      "\n"
     ]
    },
    {
     "data": {
      "text/plain": [
       "0.0    2370\n",
       "1.0     239\n",
       "Name: us_born, dtype: int64"
      ]
     },
     "metadata": {},
     "output_type": "display_data"
    },
    {
     "name": "stdout",
     "output_type": "stream",
     "text": [
      "\n"
     ]
    },
    {
     "data": {
      "text/plain": [
       "4.0    974\n",
       "3.0    808\n",
       "2.0    632\n",
       "1.0    177\n",
       "0.0     18\n",
       "Name: english_speaking, dtype: int64"
      ]
     },
     "metadata": {},
     "output_type": "display_data"
    },
    {
     "name": "stdout",
     "output_type": "stream",
     "text": [
      "\n"
     ]
    },
    {
     "data": {
      "text/plain": [
       "1    772\n",
       "2    733\n",
       "3    549\n",
       "4    516\n",
       "0     39\n",
       "Name: english_difficulties, dtype: int64"
      ]
     },
     "metadata": {},
     "output_type": "display_data"
    },
    {
     "name": "stdout",
     "output_type": "stream",
     "text": [
      "\n"
     ]
    },
    {
     "data": {
      "text/plain": [
       "Chinese         639\n",
       "Asian Indian    574\n",
       "Vietnamese      514\n",
       "Korean          471\n",
       "Filipino        265\n",
       "Other           144\n",
       "Unknown           2\n",
       "Name: ethnicity, dtype: int64"
      ]
     },
     "metadata": {},
     "output_type": "display_data"
    },
    {
     "name": "stdout",
     "output_type": "stream",
     "text": [
      "\n"
     ]
    },
    {
     "data": {
      "text/plain": [
       "25.0    83\n",
       "40.0    79\n",
       "32.0    77\n",
       "30.0    69\n",
       "34.0    66\n",
       "        ..\n",
       "84.0     4\n",
       "88.0     3\n",
       "87.0     1\n",
       "98.0     1\n",
       "86.0     1\n",
       "Name: age, Length: 73, dtype: int64"
      ]
     },
     "metadata": {},
     "output_type": "display_data"
    },
    {
     "name": "stdout",
     "output_type": "stream",
     "text": [
      "\n"
     ]
    },
    {
     "data": {
      "text/plain": [
       "1.0    1604\n",
       "0.0    1005\n",
       "Name: regular_exercise, dtype: int64"
      ]
     },
     "metadata": {},
     "output_type": "display_data"
    },
    {
     "name": "stdout",
     "output_type": "stream",
     "text": [
      "\n"
     ]
    },
    {
     "data": {
      "text/plain": [
       "1.0    2096\n",
       "0.0     513\n",
       "Name: healthy_diet, dtype: int64"
      ]
     },
     "metadata": {},
     "output_type": "display_data"
    },
    {
     "name": "stdout",
     "output_type": "stream",
     "text": [
      "\n"
     ]
    },
    {
     "data": {
      "text/plain": [
       "0.0    2609\n",
       "Name: heart_disease, dtype: int64"
      ]
     },
     "metadata": {},
     "output_type": "display_data"
    },
    {
     "name": "stdout",
     "output_type": "stream",
     "text": [
      "\n"
     ]
    },
    {
     "data": {
      "text/plain": [
       "0.0    2504\n",
       "1.0      86\n",
       "Name: drinking, dtype: int64"
      ]
     },
     "metadata": {},
     "output_type": "display_data"
    },
    {
     "name": "stdout",
     "output_type": "stream",
     "text": [
      "\n"
     ]
    },
    {
     "data": {
      "text/plain": [
       "0.0    2431\n",
       "1.0     159\n",
       "Name: smoking, dtype: int64"
      ]
     },
     "metadata": {},
     "output_type": "display_data"
    },
    {
     "name": "stdout",
     "output_type": "stream",
     "text": [
      "\n"
     ]
    },
    {
     "data": {
      "text/plain": [
       "0.0    2509\n",
       "Name: cancer, dtype: int64"
      ]
     },
     "metadata": {},
     "output_type": "display_data"
    },
    {
     "name": "stdout",
     "output_type": "stream",
     "text": [
      "\n"
     ]
    },
    {
     "data": {
      "text/plain": [
       "1    2207\n",
       "0     381\n",
       "0      21\n",
       "Name: health_insurance, dtype: int64"
      ]
     },
     "metadata": {},
     "output_type": "display_data"
    },
    {
     "name": "stdout",
     "output_type": "stream",
     "text": [
      "\n"
     ]
    },
    {
     "data": {
      "text/plain": [
       "1    1740\n",
       "0     833\n",
       "0      36\n",
       "Name: physical_checkup, dtype: int64"
      ]
     },
     "metadata": {},
     "output_type": "display_data"
    },
    {
     "name": "stdout",
     "output_type": "stream",
     "text": [
      "\n"
     ]
    },
    {
     "data": {
      "text/plain": [
       "8.0     783\n",
       "7.0     486\n",
       "9.0     435\n",
       "10.0    344\n",
       "5.0     255\n",
       "6.0     218\n",
       "4.0      48\n",
       "3.0      23\n",
       "2.0      11\n",
       "1.0       4\n",
       "0.0       2\n",
       "Name: quality_of_life, dtype: int64"
      ]
     },
     "metadata": {},
     "output_type": "display_data"
    },
    {
     "name": "stdout",
     "output_type": "stream",
     "text": [
      "\n"
     ]
    },
    {
     "data": {
      "text/plain": [
       "Protestant    645\n",
       "None          506\n",
       "Catholic      492\n",
       "Hindu         479\n",
       "Buddhist      350\n",
       "Muslim         68\n",
       "Other          47\n",
       "Unknown        22\n",
       "Name: religion, dtype: int64"
      ]
     },
     "metadata": {},
     "output_type": "display_data"
    },
    {
     "name": "stdout",
     "output_type": "stream",
     "text": [
      "\n"
     ]
    },
    {
     "data": {
      "text/plain": [
       "Female     1425\n",
       "Male       1157\n",
       "Unknown      27\n",
       "Name: gender, dtype: int64"
      ]
     },
     "metadata": {},
     "output_type": "display_data"
    },
    {
     "name": "stdout",
     "output_type": "stream",
     "text": [
      "\n"
     ]
    },
    {
     "data": {
      "text/plain": [
       "3.0    891\n",
       "2.0    693\n",
       "1.0    370\n",
       "4.0    250\n",
       "0.0    206\n",
       "5.0    199\n",
       "Name: close_friends, dtype: int64"
      ]
     },
     "metadata": {},
     "output_type": "display_data"
    },
    {
     "name": "stdout",
     "output_type": "stream",
     "text": [
      "\n"
     ]
    },
    {
     "data": {
      "text/plain": [
       "0.0    1915\n",
       "1.0     694\n",
       "Name: discrimination, dtype: int64"
      ]
     },
     "metadata": {},
     "output_type": "display_data"
    },
    {
     "name": "stdout",
     "output_type": "stream",
     "text": [
      "\n"
     ]
    },
    {
     "data": {
      "text/plain": [
       "1.00     168\n",
       "2.00     164\n",
       "3.00     117\n",
       "10.00    114\n",
       "20.00    114\n",
       "        ... \n",
       "65.00      1\n",
       "0.75       1\n",
       "59.00      1\n",
       "6.50       1\n",
       "54.00      1\n",
       "Name: duration_of_residency, Length: 66, dtype: int64"
      ]
     },
     "metadata": {},
     "output_type": "display_data"
    },
    {
     "name": "stdout",
     "output_type": "stream",
     "text": [
      "\n"
     ]
    },
    {
     "data": {
      "text/plain": [
       "2.0    707\n",
       "4.0    662\n",
       "3.0    551\n",
       "5.0    255\n",
       "1.0    210\n",
       "6.0    137\n",
       "7.0     41\n",
       "8.0     29\n",
       "0.0     17\n",
       "Name: household_size, dtype: int64"
      ]
     },
     "metadata": {},
     "output_type": "display_data"
    },
    {
     "name": "stdout",
     "output_type": "stream",
     "text": [
      "\n"
     ]
    },
    {
     "data": {
      "text/plain": [
       " 17.0    920\n",
       " 16.0    756\n",
       " 12.0    337\n",
       " 14.0    177\n",
       " 13.0    126\n",
       " 15.0    114\n",
       "-1.0      37\n",
       " 10.0     29\n",
       " 9.0      28\n",
       " 6.0      24\n",
       " 11.0     22\n",
       " 8.0      15\n",
       " 7.0      12\n",
       " 5.0       6\n",
       " 0.0       2\n",
       " 4.0       2\n",
       " 3.0       1\n",
       " 2.0       1\n",
       "Name: education_completed, dtype: int64"
      ]
     },
     "metadata": {},
     "output_type": "display_data"
    },
    {
     "name": "stdout",
     "output_type": "stream",
     "text": [
      "\n"
     ]
    },
    {
     "data": {
      "text/plain": [
       "1.0    772\n",
       "2.0    733\n",
       "3.0    549\n",
       "4.0    516\n",
       "0.0     39\n",
       "Name: english_difficuties, dtype: int64"
      ]
     },
     "metadata": {},
     "output_type": "display_data"
    },
    {
     "name": "stdout",
     "output_type": "stream",
     "text": [
      "\n"
     ]
    },
    {
     "data": {
      "text/plain": [
       "1.0    1740\n",
       "0.0     869\n",
       "Name: ohysical_checkup, dtype: int64"
      ]
     },
     "metadata": {},
     "output_type": "display_data"
    },
    {
     "name": "stdout",
     "output_type": "stream",
     "text": [
      "\n"
     ]
    }
   ],
   "source": [
    "for col in asian.columns:\n",
    "    display(asian[col].value_counts())\n",
    "    print()"
   ]
  },
  {
   "cell_type": "code",
   "execution_count": 9,
   "id": "04d8a387",
   "metadata": {},
   "outputs": [
    {
     "data": {
      "text/html": [
       "<div>\n",
       "<style scoped>\n",
       "    .dataframe tbody tr th:only-of-type {\n",
       "        vertical-align: middle;\n",
       "    }\n",
       "\n",
       "    .dataframe tbody tr th {\n",
       "        vertical-align: top;\n",
       "    }\n",
       "\n",
       "    .dataframe thead th {\n",
       "        text-align: right;\n",
       "    }\n",
       "</style>\n",
       "<table border=\"1\" class=\"dataframe\">\n",
       "  <thead>\n",
       "    <tr style=\"text-align: right;\">\n",
       "      <th></th>\n",
       "      <th>income</th>\n",
       "      <th>retired</th>\n",
       "      <th>us_born</th>\n",
       "      <th>english_speaking</th>\n",
       "      <th>english_difficulties</th>\n",
       "      <th>age</th>\n",
       "      <th>regular_exercise</th>\n",
       "      <th>healthy_diet</th>\n",
       "      <th>heart_disease</th>\n",
       "      <th>drinking</th>\n",
       "      <th>smoking</th>\n",
       "      <th>cancer</th>\n",
       "      <th>quality_of_life</th>\n",
       "      <th>close_friends</th>\n",
       "      <th>discrimination</th>\n",
       "      <th>duration_of_residency</th>\n",
       "      <th>household_size</th>\n",
       "      <th>education_completed</th>\n",
       "      <th>english_difficuties</th>\n",
       "      <th>ohysical_checkup</th>\n",
       "    </tr>\n",
       "  </thead>\n",
       "  <tbody>\n",
       "    <tr>\n",
       "      <th>count</th>\n",
       "      <td>2609.000000</td>\n",
       "      <td>2609.000000</td>\n",
       "      <td>2609.000000</td>\n",
       "      <td>2609.000000</td>\n",
       "      <td>2609.000000</td>\n",
       "      <td>2609.000000</td>\n",
       "      <td>2609.000000</td>\n",
       "      <td>2609.000000</td>\n",
       "      <td>2609.0</td>\n",
       "      <td>2590.000000</td>\n",
       "      <td>2590.000000</td>\n",
       "      <td>2509.0</td>\n",
       "      <td>2609.000000</td>\n",
       "      <td>2609.000000</td>\n",
       "      <td>2609.000000</td>\n",
       "      <td>2609.000000</td>\n",
       "      <td>2609.000000</td>\n",
       "      <td>2609.000000</td>\n",
       "      <td>2609.000000</td>\n",
       "      <td>2609.000000</td>\n",
       "    </tr>\n",
       "    <tr>\n",
       "      <th>mean</th>\n",
       "      <td>5.110387</td>\n",
       "      <td>0.126485</td>\n",
       "      <td>0.091606</td>\n",
       "      <td>2.974703</td>\n",
       "      <td>2.280184</td>\n",
       "      <td>42.842085</td>\n",
       "      <td>0.614795</td>\n",
       "      <td>0.803373</td>\n",
       "      <td>0.0</td>\n",
       "      <td>0.033205</td>\n",
       "      <td>0.061390</td>\n",
       "      <td>0.0</td>\n",
       "      <td>7.623994</td>\n",
       "      <td>2.462246</td>\n",
       "      <td>0.266002</td>\n",
       "      <td>15.373668</td>\n",
       "      <td>3.273668</td>\n",
       "      <td>14.850134</td>\n",
       "      <td>2.280184</td>\n",
       "      <td>0.666922</td>\n",
       "    </tr>\n",
       "    <tr>\n",
       "      <th>std</th>\n",
       "      <td>2.892913</td>\n",
       "      <td>0.332459</td>\n",
       "      <td>0.288524</td>\n",
       "      <td>0.974036</td>\n",
       "      <td>1.131023</td>\n",
       "      <td>17.076525</td>\n",
       "      <td>0.486737</td>\n",
       "      <td>0.397524</td>\n",
       "      <td>0.0</td>\n",
       "      <td>0.179205</td>\n",
       "      <td>0.240091</td>\n",
       "      <td>0.0</td>\n",
       "      <td>1.656709</td>\n",
       "      <td>1.286809</td>\n",
       "      <td>0.441950</td>\n",
       "      <td>12.810696</td>\n",
       "      <td>1.491361</td>\n",
       "      <td>3.077501</td>\n",
       "      <td>1.131023</td>\n",
       "      <td>0.471404</td>\n",
       "    </tr>\n",
       "    <tr>\n",
       "      <th>min</th>\n",
       "      <td>0.000000</td>\n",
       "      <td>0.000000</td>\n",
       "      <td>0.000000</td>\n",
       "      <td>0.000000</td>\n",
       "      <td>0.000000</td>\n",
       "      <td>18.000000</td>\n",
       "      <td>0.000000</td>\n",
       "      <td>0.000000</td>\n",
       "      <td>0.0</td>\n",
       "      <td>0.000000</td>\n",
       "      <td>0.000000</td>\n",
       "      <td>0.0</td>\n",
       "      <td>0.000000</td>\n",
       "      <td>0.000000</td>\n",
       "      <td>0.000000</td>\n",
       "      <td>-1.000000</td>\n",
       "      <td>0.000000</td>\n",
       "      <td>-1.000000</td>\n",
       "      <td>0.000000</td>\n",
       "      <td>0.000000</td>\n",
       "    </tr>\n",
       "    <tr>\n",
       "      <th>25%</th>\n",
       "      <td>2.000000</td>\n",
       "      <td>0.000000</td>\n",
       "      <td>0.000000</td>\n",
       "      <td>2.000000</td>\n",
       "      <td>1.000000</td>\n",
       "      <td>29.000000</td>\n",
       "      <td>0.000000</td>\n",
       "      <td>1.000000</td>\n",
       "      <td>0.0</td>\n",
       "      <td>0.000000</td>\n",
       "      <td>0.000000</td>\n",
       "      <td>0.0</td>\n",
       "      <td>7.000000</td>\n",
       "      <td>2.000000</td>\n",
       "      <td>0.000000</td>\n",
       "      <td>4.000000</td>\n",
       "      <td>2.000000</td>\n",
       "      <td>14.000000</td>\n",
       "      <td>1.000000</td>\n",
       "      <td>0.000000</td>\n",
       "    </tr>\n",
       "    <tr>\n",
       "      <th>50%</th>\n",
       "      <td>6.000000</td>\n",
       "      <td>0.000000</td>\n",
       "      <td>0.000000</td>\n",
       "      <td>3.000000</td>\n",
       "      <td>2.000000</td>\n",
       "      <td>40.000000</td>\n",
       "      <td>1.000000</td>\n",
       "      <td>1.000000</td>\n",
       "      <td>0.0</td>\n",
       "      <td>0.000000</td>\n",
       "      <td>0.000000</td>\n",
       "      <td>0.0</td>\n",
       "      <td>8.000000</td>\n",
       "      <td>3.000000</td>\n",
       "      <td>0.000000</td>\n",
       "      <td>12.000000</td>\n",
       "      <td>3.000000</td>\n",
       "      <td>16.000000</td>\n",
       "      <td>2.000000</td>\n",
       "      <td>1.000000</td>\n",
       "    </tr>\n",
       "    <tr>\n",
       "      <th>75%</th>\n",
       "      <td>8.000000</td>\n",
       "      <td>0.000000</td>\n",
       "      <td>0.000000</td>\n",
       "      <td>4.000000</td>\n",
       "      <td>3.000000</td>\n",
       "      <td>55.000000</td>\n",
       "      <td>1.000000</td>\n",
       "      <td>1.000000</td>\n",
       "      <td>0.0</td>\n",
       "      <td>0.000000</td>\n",
       "      <td>0.000000</td>\n",
       "      <td>0.0</td>\n",
       "      <td>9.000000</td>\n",
       "      <td>3.000000</td>\n",
       "      <td>1.000000</td>\n",
       "      <td>24.000000</td>\n",
       "      <td>4.000000</td>\n",
       "      <td>17.000000</td>\n",
       "      <td>3.000000</td>\n",
       "      <td>1.000000</td>\n",
       "    </tr>\n",
       "    <tr>\n",
       "      <th>max</th>\n",
       "      <td>8.000000</td>\n",
       "      <td>1.000000</td>\n",
       "      <td>1.000000</td>\n",
       "      <td>4.000000</td>\n",
       "      <td>4.000000</td>\n",
       "      <td>98.000000</td>\n",
       "      <td>1.000000</td>\n",
       "      <td>1.000000</td>\n",
       "      <td>0.0</td>\n",
       "      <td>1.000000</td>\n",
       "      <td>1.000000</td>\n",
       "      <td>0.0</td>\n",
       "      <td>10.000000</td>\n",
       "      <td>5.000000</td>\n",
       "      <td>1.000000</td>\n",
       "      <td>78.000000</td>\n",
       "      <td>8.000000</td>\n",
       "      <td>17.000000</td>\n",
       "      <td>4.000000</td>\n",
       "      <td>1.000000</td>\n",
       "    </tr>\n",
       "  </tbody>\n",
       "</table>\n",
       "</div>"
      ],
      "text/plain": [
       "            income      retired      us_born  english_speaking  \\\n",
       "count  2609.000000  2609.000000  2609.000000       2609.000000   \n",
       "mean      5.110387     0.126485     0.091606          2.974703   \n",
       "std       2.892913     0.332459     0.288524          0.974036   \n",
       "min       0.000000     0.000000     0.000000          0.000000   \n",
       "25%       2.000000     0.000000     0.000000          2.000000   \n",
       "50%       6.000000     0.000000     0.000000          3.000000   \n",
       "75%       8.000000     0.000000     0.000000          4.000000   \n",
       "max       8.000000     1.000000     1.000000          4.000000   \n",
       "\n",
       "       english_difficulties          age  regular_exercise  healthy_diet  \\\n",
       "count           2609.000000  2609.000000       2609.000000   2609.000000   \n",
       "mean               2.280184    42.842085          0.614795      0.803373   \n",
       "std                1.131023    17.076525          0.486737      0.397524   \n",
       "min                0.000000    18.000000          0.000000      0.000000   \n",
       "25%                1.000000    29.000000          0.000000      1.000000   \n",
       "50%                2.000000    40.000000          1.000000      1.000000   \n",
       "75%                3.000000    55.000000          1.000000      1.000000   \n",
       "max                4.000000    98.000000          1.000000      1.000000   \n",
       "\n",
       "       heart_disease     drinking      smoking  cancer  quality_of_life  \\\n",
       "count         2609.0  2590.000000  2590.000000  2509.0      2609.000000   \n",
       "mean             0.0     0.033205     0.061390     0.0         7.623994   \n",
       "std              0.0     0.179205     0.240091     0.0         1.656709   \n",
       "min              0.0     0.000000     0.000000     0.0         0.000000   \n",
       "25%              0.0     0.000000     0.000000     0.0         7.000000   \n",
       "50%              0.0     0.000000     0.000000     0.0         8.000000   \n",
       "75%              0.0     0.000000     0.000000     0.0         9.000000   \n",
       "max              0.0     1.000000     1.000000     0.0        10.000000   \n",
       "\n",
       "       close_friends  discrimination  duration_of_residency  household_size  \\\n",
       "count    2609.000000     2609.000000            2609.000000     2609.000000   \n",
       "mean        2.462246        0.266002              15.373668        3.273668   \n",
       "std         1.286809        0.441950              12.810696        1.491361   \n",
       "min         0.000000        0.000000              -1.000000        0.000000   \n",
       "25%         2.000000        0.000000               4.000000        2.000000   \n",
       "50%         3.000000        0.000000              12.000000        3.000000   \n",
       "75%         3.000000        1.000000              24.000000        4.000000   \n",
       "max         5.000000        1.000000              78.000000        8.000000   \n",
       "\n",
       "       education_completed  english_difficuties  ohysical_checkup  \n",
       "count          2609.000000          2609.000000       2609.000000  \n",
       "mean             14.850134             2.280184          0.666922  \n",
       "std               3.077501             1.131023          0.471404  \n",
       "min              -1.000000             0.000000          0.000000  \n",
       "25%              14.000000             1.000000          0.000000  \n",
       "50%              16.000000             2.000000          1.000000  \n",
       "75%              17.000000             3.000000          1.000000  \n",
       "max              17.000000             4.000000          1.000000  "
      ]
     },
     "execution_count": 9,
     "metadata": {},
     "output_type": "execute_result"
    }
   ],
   "source": [
    "asian.describe()"
   ]
  },
  {
   "cell_type": "code",
   "execution_count": 10,
   "id": "8f4b0341",
   "metadata": {},
   "outputs": [
    {
     "data": {
      "text/plain": [
       "income                    6.0\n",
       "retired                   0.0\n",
       "us_born                   0.0\n",
       "english_speaking          3.0\n",
       "english_difficulties      2.0\n",
       "age                      40.0\n",
       "regular_exercise          1.0\n",
       "healthy_diet              1.0\n",
       "heart_disease             0.0\n",
       "drinking                  0.0\n",
       "smoking                   0.0\n",
       "cancer                    0.0\n",
       "health_insurance          1.0\n",
       "physical_checkup          1.0\n",
       "quality_of_life           8.0\n",
       "close_friends             3.0\n",
       "discrimination            0.0\n",
       "duration_of_residency    12.0\n",
       "household_size            3.0\n",
       "education_completed      16.0\n",
       "english_difficuties       2.0\n",
       "ohysical_checkup          1.0\n",
       "dtype: float64"
      ]
     },
     "execution_count": 10,
     "metadata": {},
     "output_type": "execute_result"
    }
   ],
   "source": [
    "asian.median()"
   ]
  },
  {
   "cell_type": "markdown",
   "id": "ac7054fa",
   "metadata": {},
   "source": [
    "Median household income for Asian Americans living in Austin, Texas:"
   ]
  },
  {
   "cell_type": "code",
   "execution_count": 11,
   "id": "54c6d835",
   "metadata": {},
   "outputs": [
    {
     "data": {
      "text/plain": [
       "6.0"
      ]
     },
     "execution_count": 11,
     "metadata": {},
     "output_type": "execute_result"
    }
   ],
   "source": [
    "asian['income'].median()"
   ]
  },
  {
   "cell_type": "markdown",
   "id": "e6aa1e22",
   "metadata": {},
   "source": [
    "> The median income bracket for Asian-Americans living in Austin, Texas is between \\\\$50,000 - \\\\$59,999."
   ]
  },
  {
   "cell_type": "code",
   "execution_count": 12,
   "id": "b24eaabe",
   "metadata": {},
   "outputs": [
    {
     "data": {
      "text/plain": [
       "0.0    2370\n",
       "1.0     239\n",
       "Name: us_born, dtype: int64"
      ]
     },
     "execution_count": 12,
     "metadata": {},
     "output_type": "execute_result"
    }
   ],
   "source": [
    "asian['us_born'].value_counts()"
   ]
  },
  {
   "cell_type": "markdown",
   "id": "6613e3e8",
   "metadata": {},
   "source": [
    "> The majority of Asian-Americans living in Austin, TX are not born in the United States. (Nos: 2082 > Yeses: 225)"
   ]
  },
  {
   "cell_type": "markdown",
   "id": "f32bc9ee",
   "metadata": {},
   "source": [
    "If performing statistical tests, do the distribution of the variables satisfy assumptions?\n",
    "> One of the requirements for the chi-square test for independence is that we procure a large enough sample (counts > 5) and the samples are independent.\n",
    "\n",
    "- Based on prior analysis of the data, we have determined that the number of counts (2307) is sufficient to perform statistical inference on. "
   ]
  },
  {
   "cell_type": "markdown",
   "id": "dfcfdbcb",
   "metadata": {},
   "source": [
    "**calculating correlation**"
   ]
  },
  {
   "cell_type": "code",
   "execution_count": 13,
   "id": "d330b1d6",
   "metadata": {},
   "outputs": [
    {
     "data": {
      "text/html": [
       "<div>\n",
       "<style scoped>\n",
       "    .dataframe tbody tr th:only-of-type {\n",
       "        vertical-align: middle;\n",
       "    }\n",
       "\n",
       "    .dataframe tbody tr th {\n",
       "        vertical-align: top;\n",
       "    }\n",
       "\n",
       "    .dataframe thead th {\n",
       "        text-align: right;\n",
       "    }\n",
       "</style>\n",
       "<table border=\"1\" class=\"dataframe\">\n",
       "  <thead>\n",
       "    <tr style=\"text-align: right;\">\n",
       "      <th></th>\n",
       "      <th>income</th>\n",
       "      <th>retired</th>\n",
       "      <th>us_born</th>\n",
       "      <th>english_speaking</th>\n",
       "      <th>english_difficulties</th>\n",
       "      <th>age</th>\n",
       "      <th>regular_exercise</th>\n",
       "      <th>healthy_diet</th>\n",
       "      <th>heart_disease</th>\n",
       "      <th>drinking</th>\n",
       "      <th>smoking</th>\n",
       "      <th>cancer</th>\n",
       "      <th>quality_of_life</th>\n",
       "      <th>close_friends</th>\n",
       "      <th>discrimination</th>\n",
       "      <th>duration_of_residency</th>\n",
       "      <th>household_size</th>\n",
       "      <th>education_completed</th>\n",
       "      <th>english_difficuties</th>\n",
       "      <th>ohysical_checkup</th>\n",
       "    </tr>\n",
       "  </thead>\n",
       "  <tbody>\n",
       "    <tr>\n",
       "      <th>income</th>\n",
       "      <td>1.000000</td>\n",
       "      <td>-0.238977</td>\n",
       "      <td>0.003499</td>\n",
       "      <td>0.343087</td>\n",
       "      <td>-0.035707</td>\n",
       "      <td>-0.141135</td>\n",
       "      <td>0.016050</td>\n",
       "      <td>0.026216</td>\n",
       "      <td>NaN</td>\n",
       "      <td>-0.028670</td>\n",
       "      <td>-0.002639</td>\n",
       "      <td>NaN</td>\n",
       "      <td>0.278677</td>\n",
       "      <td>0.062921</td>\n",
       "      <td>0.089789</td>\n",
       "      <td>0.159636</td>\n",
       "      <td>0.000727</td>\n",
       "      <td>0.308161</td>\n",
       "      <td>-0.035707</td>\n",
       "      <td>0.150122</td>\n",
       "    </tr>\n",
       "    <tr>\n",
       "      <th>retired</th>\n",
       "      <td>-0.238977</td>\n",
       "      <td>1.000000</td>\n",
       "      <td>-0.100853</td>\n",
       "      <td>-0.238771</td>\n",
       "      <td>0.015846</td>\n",
       "      <td>0.608939</td>\n",
       "      <td>0.147189</td>\n",
       "      <td>0.101217</td>\n",
       "      <td>NaN</td>\n",
       "      <td>0.008543</td>\n",
       "      <td>-0.057142</td>\n",
       "      <td>NaN</td>\n",
       "      <td>-0.115505</td>\n",
       "      <td>-0.039921</td>\n",
       "      <td>-0.067279</td>\n",
       "      <td>0.256329</td>\n",
       "      <td>0.017547</td>\n",
       "      <td>-0.107011</td>\n",
       "      <td>0.015846</td>\n",
       "      <td>0.085424</td>\n",
       "    </tr>\n",
       "    <tr>\n",
       "      <th>us_born</th>\n",
       "      <td>0.003499</td>\n",
       "      <td>-0.100853</td>\n",
       "      <td>1.000000</td>\n",
       "      <td>0.293404</td>\n",
       "      <td>-0.199708</td>\n",
       "      <td>-0.278161</td>\n",
       "      <td>0.008366</td>\n",
       "      <td>-0.060196</td>\n",
       "      <td>NaN</td>\n",
       "      <td>0.038025</td>\n",
       "      <td>0.024052</td>\n",
       "      <td>NaN</td>\n",
       "      <td>0.074493</td>\n",
       "      <td>0.125503</td>\n",
       "      <td>0.154638</td>\n",
       "      <td>0.246968</td>\n",
       "      <td>0.017460</td>\n",
       "      <td>-0.031602</td>\n",
       "      <td>-0.199708</td>\n",
       "      <td>0.004526</td>\n",
       "    </tr>\n",
       "    <tr>\n",
       "      <th>english_speaking</th>\n",
       "      <td>0.343087</td>\n",
       "      <td>-0.238771</td>\n",
       "      <td>0.293404</td>\n",
       "      <td>1.000000</td>\n",
       "      <td>-0.161326</td>\n",
       "      <td>-0.390865</td>\n",
       "      <td>0.075681</td>\n",
       "      <td>0.034682</td>\n",
       "      <td>NaN</td>\n",
       "      <td>-0.033664</td>\n",
       "      <td>-0.017259</td>\n",
       "      <td>NaN</td>\n",
       "      <td>0.380225</td>\n",
       "      <td>0.180952</td>\n",
       "      <td>0.094912</td>\n",
       "      <td>0.211111</td>\n",
       "      <td>-0.073892</td>\n",
       "      <td>0.322358</td>\n",
       "      <td>-0.161326</td>\n",
       "      <td>0.117759</td>\n",
       "    </tr>\n",
       "    <tr>\n",
       "      <th>english_difficulties</th>\n",
       "      <td>-0.035707</td>\n",
       "      <td>0.015846</td>\n",
       "      <td>-0.199708</td>\n",
       "      <td>-0.161326</td>\n",
       "      <td>1.000000</td>\n",
       "      <td>0.009518</td>\n",
       "      <td>-0.009344</td>\n",
       "      <td>-0.013872</td>\n",
       "      <td>NaN</td>\n",
       "      <td>0.013721</td>\n",
       "      <td>-0.017757</td>\n",
       "      <td>NaN</td>\n",
       "      <td>-0.139793</td>\n",
       "      <td>-0.044762</td>\n",
       "      <td>-0.060177</td>\n",
       "      <td>-0.207146</td>\n",
       "      <td>0.016810</td>\n",
       "      <td>0.018017</td>\n",
       "      <td>1.000000</td>\n",
       "      <td>-0.060784</td>\n",
       "    </tr>\n",
       "    <tr>\n",
       "      <th>age</th>\n",
       "      <td>-0.141135</td>\n",
       "      <td>0.608939</td>\n",
       "      <td>-0.278161</td>\n",
       "      <td>-0.390865</td>\n",
       "      <td>0.009518</td>\n",
       "      <td>1.000000</td>\n",
       "      <td>0.118480</td>\n",
       "      <td>0.101672</td>\n",
       "      <td>NaN</td>\n",
       "      <td>0.007792</td>\n",
       "      <td>-0.032684</td>\n",
       "      <td>NaN</td>\n",
       "      <td>-0.131927</td>\n",
       "      <td>-0.135521</td>\n",
       "      <td>-0.063427</td>\n",
       "      <td>0.442361</td>\n",
       "      <td>0.091341</td>\n",
       "      <td>-0.214155</td>\n",
       "      <td>0.009518</td>\n",
       "      <td>0.143790</td>\n",
       "    </tr>\n",
       "    <tr>\n",
       "      <th>regular_exercise</th>\n",
       "      <td>0.016050</td>\n",
       "      <td>0.147189</td>\n",
       "      <td>0.008366</td>\n",
       "      <td>0.075681</td>\n",
       "      <td>-0.009344</td>\n",
       "      <td>0.118480</td>\n",
       "      <td>1.000000</td>\n",
       "      <td>0.361439</td>\n",
       "      <td>NaN</td>\n",
       "      <td>-0.009285</td>\n",
       "      <td>-0.040040</td>\n",
       "      <td>NaN</td>\n",
       "      <td>0.164578</td>\n",
       "      <td>0.031563</td>\n",
       "      <td>0.000592</td>\n",
       "      <td>0.107369</td>\n",
       "      <td>-0.017412</td>\n",
       "      <td>0.046430</td>\n",
       "      <td>-0.009344</td>\n",
       "      <td>0.077300</td>\n",
       "    </tr>\n",
       "    <tr>\n",
       "      <th>healthy_diet</th>\n",
       "      <td>0.026216</td>\n",
       "      <td>0.101217</td>\n",
       "      <td>-0.060196</td>\n",
       "      <td>0.034682</td>\n",
       "      <td>-0.013872</td>\n",
       "      <td>0.101672</td>\n",
       "      <td>0.361439</td>\n",
       "      <td>1.000000</td>\n",
       "      <td>NaN</td>\n",
       "      <td>-0.034722</td>\n",
       "      <td>-0.061777</td>\n",
       "      <td>NaN</td>\n",
       "      <td>0.139213</td>\n",
       "      <td>0.013591</td>\n",
       "      <td>-0.038283</td>\n",
       "      <td>0.038094</td>\n",
       "      <td>-0.019150</td>\n",
       "      <td>0.096571</td>\n",
       "      <td>-0.013872</td>\n",
       "      <td>0.102575</td>\n",
       "    </tr>\n",
       "    <tr>\n",
       "      <th>heart_disease</th>\n",
       "      <td>NaN</td>\n",
       "      <td>NaN</td>\n",
       "      <td>NaN</td>\n",
       "      <td>NaN</td>\n",
       "      <td>NaN</td>\n",
       "      <td>NaN</td>\n",
       "      <td>NaN</td>\n",
       "      <td>NaN</td>\n",
       "      <td>NaN</td>\n",
       "      <td>NaN</td>\n",
       "      <td>NaN</td>\n",
       "      <td>NaN</td>\n",
       "      <td>NaN</td>\n",
       "      <td>NaN</td>\n",
       "      <td>NaN</td>\n",
       "      <td>NaN</td>\n",
       "      <td>NaN</td>\n",
       "      <td>NaN</td>\n",
       "      <td>NaN</td>\n",
       "      <td>NaN</td>\n",
       "    </tr>\n",
       "    <tr>\n",
       "      <th>drinking</th>\n",
       "      <td>-0.028670</td>\n",
       "      <td>0.008543</td>\n",
       "      <td>0.038025</td>\n",
       "      <td>-0.033664</td>\n",
       "      <td>0.013721</td>\n",
       "      <td>0.007792</td>\n",
       "      <td>-0.009285</td>\n",
       "      <td>-0.034722</td>\n",
       "      <td>NaN</td>\n",
       "      <td>1.000000</td>\n",
       "      <td>0.226438</td>\n",
       "      <td>NaN</td>\n",
       "      <td>-0.064327</td>\n",
       "      <td>-0.029376</td>\n",
       "      <td>-0.000214</td>\n",
       "      <td>0.007208</td>\n",
       "      <td>-0.006121</td>\n",
       "      <td>-0.075193</td>\n",
       "      <td>0.013721</td>\n",
       "      <td>0.002393</td>\n",
       "    </tr>\n",
       "    <tr>\n",
       "      <th>smoking</th>\n",
       "      <td>-0.002639</td>\n",
       "      <td>-0.057142</td>\n",
       "      <td>0.024052</td>\n",
       "      <td>-0.017259</td>\n",
       "      <td>-0.017757</td>\n",
       "      <td>-0.032684</td>\n",
       "      <td>-0.040040</td>\n",
       "      <td>-0.061777</td>\n",
       "      <td>NaN</td>\n",
       "      <td>0.226438</td>\n",
       "      <td>1.000000</td>\n",
       "      <td>NaN</td>\n",
       "      <td>-0.044453</td>\n",
       "      <td>-0.007075</td>\n",
       "      <td>0.012331</td>\n",
       "      <td>-0.011635</td>\n",
       "      <td>-0.025643</td>\n",
       "      <td>-0.063482</td>\n",
       "      <td>-0.017757</td>\n",
       "      <td>-0.089970</td>\n",
       "    </tr>\n",
       "    <tr>\n",
       "      <th>cancer</th>\n",
       "      <td>NaN</td>\n",
       "      <td>NaN</td>\n",
       "      <td>NaN</td>\n",
       "      <td>NaN</td>\n",
       "      <td>NaN</td>\n",
       "      <td>NaN</td>\n",
       "      <td>NaN</td>\n",
       "      <td>NaN</td>\n",
       "      <td>NaN</td>\n",
       "      <td>NaN</td>\n",
       "      <td>NaN</td>\n",
       "      <td>NaN</td>\n",
       "      <td>NaN</td>\n",
       "      <td>NaN</td>\n",
       "      <td>NaN</td>\n",
       "      <td>NaN</td>\n",
       "      <td>NaN</td>\n",
       "      <td>NaN</td>\n",
       "      <td>NaN</td>\n",
       "      <td>NaN</td>\n",
       "    </tr>\n",
       "    <tr>\n",
       "      <th>quality_of_life</th>\n",
       "      <td>0.278677</td>\n",
       "      <td>-0.115505</td>\n",
       "      <td>0.074493</td>\n",
       "      <td>0.380225</td>\n",
       "      <td>-0.139793</td>\n",
       "      <td>-0.131927</td>\n",
       "      <td>0.164578</td>\n",
       "      <td>0.139213</td>\n",
       "      <td>NaN</td>\n",
       "      <td>-0.064327</td>\n",
       "      <td>-0.044453</td>\n",
       "      <td>NaN</td>\n",
       "      <td>1.000000</td>\n",
       "      <td>0.183539</td>\n",
       "      <td>-0.051349</td>\n",
       "      <td>0.159874</td>\n",
       "      <td>0.013729</td>\n",
       "      <td>0.162216</td>\n",
       "      <td>-0.139793</td>\n",
       "      <td>0.132684</td>\n",
       "    </tr>\n",
       "    <tr>\n",
       "      <th>close_friends</th>\n",
       "      <td>0.062921</td>\n",
       "      <td>-0.039921</td>\n",
       "      <td>0.125503</td>\n",
       "      <td>0.180952</td>\n",
       "      <td>-0.044762</td>\n",
       "      <td>-0.135521</td>\n",
       "      <td>0.031563</td>\n",
       "      <td>0.013591</td>\n",
       "      <td>NaN</td>\n",
       "      <td>-0.029376</td>\n",
       "      <td>-0.007075</td>\n",
       "      <td>NaN</td>\n",
       "      <td>0.183539</td>\n",
       "      <td>1.000000</td>\n",
       "      <td>0.021711</td>\n",
       "      <td>-0.003588</td>\n",
       "      <td>-0.035174</td>\n",
       "      <td>0.108901</td>\n",
       "      <td>-0.044762</td>\n",
       "      <td>0.023193</td>\n",
       "    </tr>\n",
       "    <tr>\n",
       "      <th>discrimination</th>\n",
       "      <td>0.089789</td>\n",
       "      <td>-0.067279</td>\n",
       "      <td>0.154638</td>\n",
       "      <td>0.094912</td>\n",
       "      <td>-0.060177</td>\n",
       "      <td>-0.063427</td>\n",
       "      <td>0.000592</td>\n",
       "      <td>-0.038283</td>\n",
       "      <td>NaN</td>\n",
       "      <td>-0.000214</td>\n",
       "      <td>0.012331</td>\n",
       "      <td>NaN</td>\n",
       "      <td>-0.051349</td>\n",
       "      <td>0.021711</td>\n",
       "      <td>1.000000</td>\n",
       "      <td>0.146094</td>\n",
       "      <td>-0.016827</td>\n",
       "      <td>0.039752</td>\n",
       "      <td>-0.060177</td>\n",
       "      <td>0.062863</td>\n",
       "    </tr>\n",
       "    <tr>\n",
       "      <th>duration_of_residency</th>\n",
       "      <td>0.159636</td>\n",
       "      <td>0.256329</td>\n",
       "      <td>0.246968</td>\n",
       "      <td>0.211111</td>\n",
       "      <td>-0.207146</td>\n",
       "      <td>0.442361</td>\n",
       "      <td>0.107369</td>\n",
       "      <td>0.038094</td>\n",
       "      <td>NaN</td>\n",
       "      <td>0.007208</td>\n",
       "      <td>-0.011635</td>\n",
       "      <td>NaN</td>\n",
       "      <td>0.159874</td>\n",
       "      <td>-0.003588</td>\n",
       "      <td>0.146094</td>\n",
       "      <td>1.000000</td>\n",
       "      <td>-0.037942</td>\n",
       "      <td>-0.057853</td>\n",
       "      <td>-0.207146</td>\n",
       "      <td>0.225319</td>\n",
       "    </tr>\n",
       "    <tr>\n",
       "      <th>household_size</th>\n",
       "      <td>0.000727</td>\n",
       "      <td>0.017547</td>\n",
       "      <td>0.017460</td>\n",
       "      <td>-0.073892</td>\n",
       "      <td>0.016810</td>\n",
       "      <td>0.091341</td>\n",
       "      <td>-0.017412</td>\n",
       "      <td>-0.019150</td>\n",
       "      <td>NaN</td>\n",
       "      <td>-0.006121</td>\n",
       "      <td>-0.025643</td>\n",
       "      <td>NaN</td>\n",
       "      <td>0.013729</td>\n",
       "      <td>-0.035174</td>\n",
       "      <td>-0.016827</td>\n",
       "      <td>-0.037942</td>\n",
       "      <td>1.000000</td>\n",
       "      <td>-0.092399</td>\n",
       "      <td>0.016810</td>\n",
       "      <td>0.067530</td>\n",
       "    </tr>\n",
       "    <tr>\n",
       "      <th>education_completed</th>\n",
       "      <td>0.308161</td>\n",
       "      <td>-0.107011</td>\n",
       "      <td>-0.031602</td>\n",
       "      <td>0.322358</td>\n",
       "      <td>0.018017</td>\n",
       "      <td>-0.214155</td>\n",
       "      <td>0.046430</td>\n",
       "      <td>0.096571</td>\n",
       "      <td>NaN</td>\n",
       "      <td>-0.075193</td>\n",
       "      <td>-0.063482</td>\n",
       "      <td>NaN</td>\n",
       "      <td>0.162216</td>\n",
       "      <td>0.108901</td>\n",
       "      <td>0.039752</td>\n",
       "      <td>-0.057853</td>\n",
       "      <td>-0.092399</td>\n",
       "      <td>1.000000</td>\n",
       "      <td>0.018017</td>\n",
       "      <td>0.024783</td>\n",
       "    </tr>\n",
       "    <tr>\n",
       "      <th>english_difficuties</th>\n",
       "      <td>-0.035707</td>\n",
       "      <td>0.015846</td>\n",
       "      <td>-0.199708</td>\n",
       "      <td>-0.161326</td>\n",
       "      <td>1.000000</td>\n",
       "      <td>0.009518</td>\n",
       "      <td>-0.009344</td>\n",
       "      <td>-0.013872</td>\n",
       "      <td>NaN</td>\n",
       "      <td>0.013721</td>\n",
       "      <td>-0.017757</td>\n",
       "      <td>NaN</td>\n",
       "      <td>-0.139793</td>\n",
       "      <td>-0.044762</td>\n",
       "      <td>-0.060177</td>\n",
       "      <td>-0.207146</td>\n",
       "      <td>0.016810</td>\n",
       "      <td>0.018017</td>\n",
       "      <td>1.000000</td>\n",
       "      <td>-0.060784</td>\n",
       "    </tr>\n",
       "    <tr>\n",
       "      <th>ohysical_checkup</th>\n",
       "      <td>0.150122</td>\n",
       "      <td>0.085424</td>\n",
       "      <td>0.004526</td>\n",
       "      <td>0.117759</td>\n",
       "      <td>-0.060784</td>\n",
       "      <td>0.143790</td>\n",
       "      <td>0.077300</td>\n",
       "      <td>0.102575</td>\n",
       "      <td>NaN</td>\n",
       "      <td>0.002393</td>\n",
       "      <td>-0.089970</td>\n",
       "      <td>NaN</td>\n",
       "      <td>0.132684</td>\n",
       "      <td>0.023193</td>\n",
       "      <td>0.062863</td>\n",
       "      <td>0.225319</td>\n",
       "      <td>0.067530</td>\n",
       "      <td>0.024783</td>\n",
       "      <td>-0.060784</td>\n",
       "      <td>1.000000</td>\n",
       "    </tr>\n",
       "  </tbody>\n",
       "</table>\n",
       "</div>"
      ],
      "text/plain": [
       "                         income   retired   us_born  english_speaking  \\\n",
       "income                 1.000000 -0.238977  0.003499          0.343087   \n",
       "retired               -0.238977  1.000000 -0.100853         -0.238771   \n",
       "us_born                0.003499 -0.100853  1.000000          0.293404   \n",
       "english_speaking       0.343087 -0.238771  0.293404          1.000000   \n",
       "english_difficulties  -0.035707  0.015846 -0.199708         -0.161326   \n",
       "age                   -0.141135  0.608939 -0.278161         -0.390865   \n",
       "regular_exercise       0.016050  0.147189  0.008366          0.075681   \n",
       "healthy_diet           0.026216  0.101217 -0.060196          0.034682   \n",
       "heart_disease               NaN       NaN       NaN               NaN   \n",
       "drinking              -0.028670  0.008543  0.038025         -0.033664   \n",
       "smoking               -0.002639 -0.057142  0.024052         -0.017259   \n",
       "cancer                      NaN       NaN       NaN               NaN   \n",
       "quality_of_life        0.278677 -0.115505  0.074493          0.380225   \n",
       "close_friends          0.062921 -0.039921  0.125503          0.180952   \n",
       "discrimination         0.089789 -0.067279  0.154638          0.094912   \n",
       "duration_of_residency  0.159636  0.256329  0.246968          0.211111   \n",
       "household_size         0.000727  0.017547  0.017460         -0.073892   \n",
       "education_completed    0.308161 -0.107011 -0.031602          0.322358   \n",
       "english_difficuties   -0.035707  0.015846 -0.199708         -0.161326   \n",
       "ohysical_checkup       0.150122  0.085424  0.004526          0.117759   \n",
       "\n",
       "                       english_difficulties       age  regular_exercise  \\\n",
       "income                            -0.035707 -0.141135          0.016050   \n",
       "retired                            0.015846  0.608939          0.147189   \n",
       "us_born                           -0.199708 -0.278161          0.008366   \n",
       "english_speaking                  -0.161326 -0.390865          0.075681   \n",
       "english_difficulties               1.000000  0.009518         -0.009344   \n",
       "age                                0.009518  1.000000          0.118480   \n",
       "regular_exercise                  -0.009344  0.118480          1.000000   \n",
       "healthy_diet                      -0.013872  0.101672          0.361439   \n",
       "heart_disease                           NaN       NaN               NaN   \n",
       "drinking                           0.013721  0.007792         -0.009285   \n",
       "smoking                           -0.017757 -0.032684         -0.040040   \n",
       "cancer                                  NaN       NaN               NaN   \n",
       "quality_of_life                   -0.139793 -0.131927          0.164578   \n",
       "close_friends                     -0.044762 -0.135521          0.031563   \n",
       "discrimination                    -0.060177 -0.063427          0.000592   \n",
       "duration_of_residency             -0.207146  0.442361          0.107369   \n",
       "household_size                     0.016810  0.091341         -0.017412   \n",
       "education_completed                0.018017 -0.214155          0.046430   \n",
       "english_difficuties                1.000000  0.009518         -0.009344   \n",
       "ohysical_checkup                  -0.060784  0.143790          0.077300   \n",
       "\n",
       "                       healthy_diet  heart_disease  drinking   smoking  \\\n",
       "income                     0.026216            NaN -0.028670 -0.002639   \n",
       "retired                    0.101217            NaN  0.008543 -0.057142   \n",
       "us_born                   -0.060196            NaN  0.038025  0.024052   \n",
       "english_speaking           0.034682            NaN -0.033664 -0.017259   \n",
       "english_difficulties      -0.013872            NaN  0.013721 -0.017757   \n",
       "age                        0.101672            NaN  0.007792 -0.032684   \n",
       "regular_exercise           0.361439            NaN -0.009285 -0.040040   \n",
       "healthy_diet               1.000000            NaN -0.034722 -0.061777   \n",
       "heart_disease                   NaN            NaN       NaN       NaN   \n",
       "drinking                  -0.034722            NaN  1.000000  0.226438   \n",
       "smoking                   -0.061777            NaN  0.226438  1.000000   \n",
       "cancer                          NaN            NaN       NaN       NaN   \n",
       "quality_of_life            0.139213            NaN -0.064327 -0.044453   \n",
       "close_friends              0.013591            NaN -0.029376 -0.007075   \n",
       "discrimination            -0.038283            NaN -0.000214  0.012331   \n",
       "duration_of_residency      0.038094            NaN  0.007208 -0.011635   \n",
       "household_size            -0.019150            NaN -0.006121 -0.025643   \n",
       "education_completed        0.096571            NaN -0.075193 -0.063482   \n",
       "english_difficuties       -0.013872            NaN  0.013721 -0.017757   \n",
       "ohysical_checkup           0.102575            NaN  0.002393 -0.089970   \n",
       "\n",
       "                       cancer  quality_of_life  close_friends  discrimination  \\\n",
       "income                    NaN         0.278677       0.062921        0.089789   \n",
       "retired                   NaN        -0.115505      -0.039921       -0.067279   \n",
       "us_born                   NaN         0.074493       0.125503        0.154638   \n",
       "english_speaking          NaN         0.380225       0.180952        0.094912   \n",
       "english_difficulties      NaN        -0.139793      -0.044762       -0.060177   \n",
       "age                       NaN        -0.131927      -0.135521       -0.063427   \n",
       "regular_exercise          NaN         0.164578       0.031563        0.000592   \n",
       "healthy_diet              NaN         0.139213       0.013591       -0.038283   \n",
       "heart_disease             NaN              NaN            NaN             NaN   \n",
       "drinking                  NaN        -0.064327      -0.029376       -0.000214   \n",
       "smoking                   NaN        -0.044453      -0.007075        0.012331   \n",
       "cancer                    NaN              NaN            NaN             NaN   \n",
       "quality_of_life           NaN         1.000000       0.183539       -0.051349   \n",
       "close_friends             NaN         0.183539       1.000000        0.021711   \n",
       "discrimination            NaN        -0.051349       0.021711        1.000000   \n",
       "duration_of_residency     NaN         0.159874      -0.003588        0.146094   \n",
       "household_size            NaN         0.013729      -0.035174       -0.016827   \n",
       "education_completed       NaN         0.162216       0.108901        0.039752   \n",
       "english_difficuties       NaN        -0.139793      -0.044762       -0.060177   \n",
       "ohysical_checkup          NaN         0.132684       0.023193        0.062863   \n",
       "\n",
       "                       duration_of_residency  household_size  \\\n",
       "income                              0.159636        0.000727   \n",
       "retired                             0.256329        0.017547   \n",
       "us_born                             0.246968        0.017460   \n",
       "english_speaking                    0.211111       -0.073892   \n",
       "english_difficulties               -0.207146        0.016810   \n",
       "age                                 0.442361        0.091341   \n",
       "regular_exercise                    0.107369       -0.017412   \n",
       "healthy_diet                        0.038094       -0.019150   \n",
       "heart_disease                            NaN             NaN   \n",
       "drinking                            0.007208       -0.006121   \n",
       "smoking                            -0.011635       -0.025643   \n",
       "cancer                                   NaN             NaN   \n",
       "quality_of_life                     0.159874        0.013729   \n",
       "close_friends                      -0.003588       -0.035174   \n",
       "discrimination                      0.146094       -0.016827   \n",
       "duration_of_residency               1.000000       -0.037942   \n",
       "household_size                     -0.037942        1.000000   \n",
       "education_completed                -0.057853       -0.092399   \n",
       "english_difficuties                -0.207146        0.016810   \n",
       "ohysical_checkup                    0.225319        0.067530   \n",
       "\n",
       "                       education_completed  english_difficuties  \\\n",
       "income                            0.308161            -0.035707   \n",
       "retired                          -0.107011             0.015846   \n",
       "us_born                          -0.031602            -0.199708   \n",
       "english_speaking                  0.322358            -0.161326   \n",
       "english_difficulties              0.018017             1.000000   \n",
       "age                              -0.214155             0.009518   \n",
       "regular_exercise                  0.046430            -0.009344   \n",
       "healthy_diet                      0.096571            -0.013872   \n",
       "heart_disease                          NaN                  NaN   \n",
       "drinking                         -0.075193             0.013721   \n",
       "smoking                          -0.063482            -0.017757   \n",
       "cancer                                 NaN                  NaN   \n",
       "quality_of_life                   0.162216            -0.139793   \n",
       "close_friends                     0.108901            -0.044762   \n",
       "discrimination                    0.039752            -0.060177   \n",
       "duration_of_residency            -0.057853            -0.207146   \n",
       "household_size                   -0.092399             0.016810   \n",
       "education_completed               1.000000             0.018017   \n",
       "english_difficuties               0.018017             1.000000   \n",
       "ohysical_checkup                  0.024783            -0.060784   \n",
       "\n",
       "                       ohysical_checkup  \n",
       "income                         0.150122  \n",
       "retired                        0.085424  \n",
       "us_born                        0.004526  \n",
       "english_speaking               0.117759  \n",
       "english_difficulties          -0.060784  \n",
       "age                            0.143790  \n",
       "regular_exercise               0.077300  \n",
       "healthy_diet                   0.102575  \n",
       "heart_disease                       NaN  \n",
       "drinking                       0.002393  \n",
       "smoking                       -0.089970  \n",
       "cancer                              NaN  \n",
       "quality_of_life                0.132684  \n",
       "close_friends                  0.023193  \n",
       "discrimination                 0.062863  \n",
       "duration_of_residency          0.225319  \n",
       "household_size                 0.067530  \n",
       "education_completed            0.024783  \n",
       "english_difficuties           -0.060784  \n",
       "ohysical_checkup               1.000000  "
      ]
     },
     "execution_count": 13,
     "metadata": {},
     "output_type": "execute_result"
    }
   ],
   "source": [
    "asian.corr()"
   ]
  },
  {
   "cell_type": "markdown",
   "id": "82ee4cb6",
   "metadata": {},
   "source": [
    "### Sample Relevant Plots"
   ]
  },
  {
   "cell_type": "markdown",
   "id": "f448f892",
   "metadata": {},
   "source": [
    "**Boxplot for age and income**"
   ]
  },
  {
   "cell_type": "code",
   "execution_count": 14,
   "id": "82a3d846",
   "metadata": {},
   "outputs": [
    {
     "data": {
      "text/plain": [
       "<AxesSubplot:title={'center':'age'}, xlabel='income'>"
      ]
     },
     "execution_count": 14,
     "metadata": {},
     "output_type": "execute_result"
    },
    {
     "data": {
      "image/png": "[encoded data removed]",
      "text/plain": [
       "<Figure size 720x720 with 1 Axes>"
      ]
     },
     "metadata": {
      "needs_background": "light"
     },
     "output_type": "display_data"
    }
   ],
   "source": [
    "asian.boxplot('age', by = 'income', figsize = (10,10) )"
   ]
  },
  {
   "cell_type": "markdown",
   "id": "826ae0e7",
   "metadata": {},
   "source": [
    "**scatterplot of household size vs. duration of residency**"
   ]
  },
  {
   "cell_type": "code",
   "execution_count": 15,
   "id": "c4ff861f",
   "metadata": {},
   "outputs": [
    {
     "data": {
      "text/plain": [
       "Text(0, 0.5, 'Household size')"
      ]
     },
     "execution_count": 15,
     "metadata": {},
     "output_type": "execute_result"
    },
    {
     "data": {
      "image/png": "[encoded data removed]",
      "text/plain": [
       "<Figure size 432x288 with 1 Axes>"
      ]
     },
     "metadata": {
      "needs_background": "light"
     },
     "output_type": "display_data"
    }
   ],
   "source": [
    "plt.scatter(asian['duration_of_residency'], asian['household_size'])\n",
    "plt.xlabel('Duration of Residency')\n",
    "plt.ylabel('Household size')"
   ]
  },
  {
   "cell_type": "markdown",
   "id": "be92cc0e",
   "metadata": {},
   "source": [
    "**visualising correlations**"
   ]
  },
  {
   "cell_type": "code",
   "execution_count": 16,
   "id": "55d8201a",
   "metadata": {},
   "outputs": [
    {
     "data": {
      "image/png": "[encoded data removed]",
      "text/plain": [
       "<Figure size 432x288 with 2 Axes>"
      ]
     },
     "metadata": {
      "needs_background": "light"
     },
     "output_type": "display_data"
    }
   ],
   "source": [
    "sns.heatmap(asian.corr(), center=0, cmap='coolwarm' )\n",
    "plt.show()"
   ]
  },
  {
   "cell_type": "markdown",
   "id": "36d6cdb2",
   "metadata": {},
   "source": [
    "**Histograms of Variables**"
   ]
  },
  {
   "cell_type": "code",
   "execution_count": 17,
   "id": "f793e1fc",
   "metadata": {},
   "outputs": [
    {
     "data": {
      "image/png": "[encoded data removed]",
      "text/plain": [
       "<Figure size 864x864 with 20 Axes>"
      ]
     },
     "metadata": {
      "needs_background": "light"
     },
     "output_type": "display_data"
    }
   ],
   "source": [
    "asian.hist(bins = 10, figsize = (12,12))\n",
    "# plt.tight_layout()\n",
    "plt.show()"
   ]
  },
  {
   "cell_type": "markdown",
   "id": "8a2a662c",
   "metadata": {},
   "source": [
    "#### Distribution of ethnicities among Asian-Americans living in Austin, Texas"
   ]
  },
  {
   "cell_type": "code",
   "execution_count": 18,
   "id": "df0e8bf0",
   "metadata": {},
   "outputs": [
    {
     "data": {
      "image/png": "[encoded data removed]",
      "text/plain": [
       "<Figure size 432x288 with 1 Axes>"
      ]
     },
     "metadata": {
      "needs_background": "light"
     },
     "output_type": "display_data"
    }
   ],
   "source": [
    "asian['ethnicity'].value_counts().plot(kind='bar');\n",
    "plt.title(\"Distribution of Ethnicities among Asian-Americans\")\n",
    "plt.xlabel(\"Ethnicity\")\n",
    "plt.ylabel(\"Counts\");"
   ]
  },
  {
   "cell_type": "code",
   "execution_count": 19,
   "id": "70cd691d",
   "metadata": {},
   "outputs": [
    {
     "data": {
      "image/png": "[encoded data removed]",
      "text/plain": [
       "<Figure size 432x288 with 1 Axes>"
      ]
     },
     "metadata": {
      "needs_background": "light"
     },
     "output_type": "display_data"
    }
   ],
   "source": [
    "asian['income'].value_counts().plot(kind='bar');"
   ]
  },
  {
   "cell_type": "markdown",
   "id": "ea33fbd4",
   "metadata": {},
   "source": [
    "#### Distribution of religious groups by ethnicity in Asian-American communities in Austin, Texas"
   ]
  },
  {
   "cell_type": "code",
   "execution_count": 20,
   "id": "3074c060",
   "metadata": {},
   "outputs": [
    {
     "data": {
      "image/png": "[encoded data removed]",
      "text/plain": [
       "<Figure size 576x288 with 1 Axes>"
      ]
     },
     "metadata": {
      "needs_background": "light"
     },
     "output_type": "display_data"
    }
   ],
   "source": [
    "plt.figure(figsize=(8,4))\n",
    "sns.countplot(x='religion', data=asian, hue = 'ethnicity');\n",
    "plt.legend(loc='upper right');\n",
    "plt.xlabel(\"Religion\")\n",
    "plt.ylabel(\"Proportion\");\n",
    "plt.title(\"Distribution of Religions by Ethnicity\");"
   ]
  },
  {
   "cell_type": "markdown",
   "id": "c65b4e13",
   "metadata": {},
   "source": [
    "#### Distribution of Natural Citizens by ethnicity in Asian-American communities in Austin, Texas"
   ]
  },
  {
   "cell_type": "code",
   "execution_count": 21,
   "id": "e56f7fa0",
   "metadata": {},
   "outputs": [
    {
     "data": {
      "image/png": "[encoded data removed]",
      "text/plain": [
       "<Figure size 576x288 with 1 Axes>"
      ]
     },
     "metadata": {
      "needs_background": "light"
     },
     "output_type": "display_data"
    }
   ],
   "source": [
    "plt.figure(figsize=(8,4))\n",
    "sns.countplot(x='us_born', data=asian, hue = 'ethnicity', palette = \"hls\");\n",
    "plt.legend(loc='upper right');\n",
    "plt.xlabel(\"US-Born\")\n",
    "plt.ylabel(\"Proportion\");\n",
    "plt.title(\"Distribution of Natural Citizens by Ethnicity\");\n",
    "positions = (0.0, 1.0);\n",
    "labels = (\"No\", \"Yes\");\n",
    "plt.xticks(positions, labels);"
   ]
  },
  {
   "cell_type": "markdown",
   "id": "2ca8053a",
   "metadata": {},
   "source": [
    "#### Median Income Brackets per Ethnicity"
   ]
  },
  {
   "cell_type": "code",
   "execution_count": 22,
   "id": "e084f6df",
   "metadata": {},
   "outputs": [
    {
     "data": {
      "image/png": "[encoded data removed]",
      "text/plain": [
       "<Figure size 576x288 with 1 Axes>"
      ]
     },
     "metadata": {
      "needs_background": "light"
     },
     "output_type": "display_data"
    }
   ],
   "source": [
    "plt.figure(figsize=(8,4))\n",
    "shakeshack = asian.groupby(['ethnicity'])['income'].median()\n",
    "sns.barplot(x = shakeshack.index, y = shakeshack.values, palette = \"Set2\");\n",
    "plt.xlabel(\"Ethnicity\")\n",
    "plt.ylabel(\"Median Income Brackets\");\n",
    "positions = (1, 2, 3, 4, 5, 6, 7, 8);                           \n",
    "labels = (\"\\$0 - $9,999\",\"\\$10,000 - $19,999\", \"\\$20,000 - $29,999\", \"\\$30,000 - $39,999\", \"\\$40,000 - $49,999\", \"\\$50,000 - $59,999\", \"\\$60,000 - $69,999\", '$70,000 and over');\n",
    "plt.yticks(positions, labels);\n",
    "plt.title(\"Median Income Brackets per Ethnicity\");"
   ]
  },
  {
   "cell_type": "markdown",
   "id": "d8dce97e",
   "metadata": {},
   "source": [
    "#### Percentage of Discrimination per Ethnicity"
   ]
  },
  {
   "cell_type": "code",
   "execution_count": 23,
   "id": "97872fd7",
   "metadata": {},
   "outputs": [
    {
     "name": "stdout",
     "output_type": "stream",
     "text": [
      "ethnicity\n",
      "Asian Indian    0.165505\n",
      "Chinese         0.300469\n",
      "Filipino        0.245283\n",
      "Korean          0.326964\n",
      "Other           0.291667\n",
      "Unknown         0.000000\n",
      "Vietnamese      0.284047\n",
      "Name: discrimination, dtype: float64\n"
     ]
    },
    {
     "data": {
      "image/png": "[encoded data removed]",
      "text/plain": [
       "<Figure size 576x288 with 1 Axes>"
      ]
     },
     "metadata": {
      "needs_background": "light"
     },
     "output_type": "display_data"
    }
   ],
   "source": [
    "plt.figure(figsize=(8,4));\n",
    "kfc = asian.groupby(['ethnicity'])['discrimination'].mean()\n",
    "sns.barplot(x=kfc.index, data=asian, y = kfc.values);\n",
    "plt.xlabel(\"Ethnicity\");\n",
    "plt.ylabel(\"Proportion Experiencing Discrimination\");\n",
    "plt.title(\"Discrimination\");\n",
    "print(kfc)"
   ]
  },
  {
   "cell_type": "markdown",
   "id": "a1dd6054",
   "metadata": {},
   "source": [
    "This pertains to research question 5 under Happiness. \n",
    "\n",
    "> Are certain ethnic groups within AAs more likely to experience discrimination than other ethnic groups within AAs in Texas?\"\n",
    "\n",
    "Based on the visualization produced above, 33.1% of Korean-Americans in Austin, Texas have experienced some form of discrimination, followed by 31.8% of Chinese with 16.9% of Indians reporting the least amount of discrimination."
   ]
  },
  {
   "cell_type": "markdown",
   "id": "23089ad9",
   "metadata": {},
   "source": [
    "#### Proportion Discrimination per Religion"
   ]
  },
  {
   "cell_type": "code",
   "execution_count": 24,
   "id": "2c4e11f0",
   "metadata": {
    "scrolled": true
   },
   "outputs": [
    {
     "data": {
      "image/png": "[encoded data removed]",
      "text/plain": [
       "<Figure size 576x288 with 1 Axes>"
      ]
     },
     "metadata": {
      "needs_background": "light"
     },
     "output_type": "display_data"
    }
   ],
   "source": [
    "plt.figure(figsize=(8,4));\n",
    "chikfila = asian.groupby(['religion'])['discrimination'].mean()\n",
    "sns.barplot(x=chikfila.index, data=asian, y = chikfila.values);\n",
    "plt.xlabel(\"Religion\");\n",
    "plt.ylabel(\"Proportion Experiencing Discrimination\");\n",
    "plt.title(\"Discrimination\");"
   ]
  },
  {
   "cell_type": "markdown",
   "id": "efbebf14",
   "metadata": {},
   "source": [
    "This pertains to research question 4 under Happiness.\n",
    "\n",
    "> Are certain religious groups within AAs more likely to experience discrimination than other relgious groups within AAs in Texas?\n",
    "\n",
    "Based on the visualization produced above, 35.0% of Asian-American Protestants in Austin, Texas have experienced some form of discrimination, followed by 29.9% of Catholics with 15.2% of Hindus reporting the least amount of discrimination."
   ]
  },
  {
   "cell_type": "code",
   "execution_count": null,
   "id": "d34e8675",
   "metadata": {},
   "outputs": [],
   "source": []
  },
  {
   "cell_type": "code",
   "execution_count": null,
   "id": "4f72ad13",
   "metadata": {},
   "outputs": [],
   "source": []
  },
  {
   "cell_type": "markdown",
   "id": "58dcaa6f",
   "metadata": {},
   "source": [
    "---"
   ]
  },
  {
   "cell_type": "markdown",
   "id": "2584fab1",
   "metadata": {},
   "source": [
    "## Questions for Reviewers\n",
    "\n",
    "- Will we be penalized in the event that there certain hypothesis tests that we need to perform can be only be applied with quantitative data?\n",
    "- What is the ideal number of small research questions?"
   ]
  }
 ],
 "metadata": {
  "kernelspec": {
   "display_name": "Python 3",
   "language": "python",
   "name": "python3"
  },
  "language_info": {
   "codemirror_mode": {
    "name": "ipython",
    "version": 3
   },
   "file_extension": ".py",
   "mimetype": "text/x-python",
   "name": "python",
   "nbconvert_exporter": "python",
   "pygments_lexer": "ipython3",
   "version": "3.8.8"
  }
 },
 "nbformat": 4,
 "nbformat_minor": 5
}
