{
 "cells": [
  {
   "cell_type": "markdown",
   "id": "257c1f08",
   "metadata": {},
   "source": [
    "# INFOSCI 2950: Final Project Phase II Submission"
   ]
  },
  {
   "cell_type": "markdown",
   "id": "3ec86143",
   "metadata": {},
   "source": [
    "---\n",
    "## Research Questions\n",
    "\n",
    "**Main Goal: How can we define Asian-American communities in terms of health, happiness, and financial security?**\n",
    "\n",
    "*Financial Security*\n",
    "1. Do some ethnic groups of Asian-Americans in Texas earn more than others?\n",
    "2. Do younger Asian-Americans earn more money than older generations of Asian Americans living in Texas?\n",
    "3. How does household size relate to duration of residency for AAs in Texas?\n",
    "*Happiness*\n",
    "1. Are some ethnic groups more likely to be born in the United States than others?\n",
    "2. What are the most dominant religions among ethnic groups in Asian-American communities in Texas?\n",
    "3. How is English speaking ability related to English difficulty among AA communities in Texas?\n",
    "4. Are certain religious groups within AAs more likely to experience discrimination than other relgious groups within AAs in Texas?\n",
    "5. Are certain ethnic groups within AAs more likely to experience discrimination than other ethnic groups within AAs in Texas?\n",
    "*Health*\n",
    "1. Is smoking among Asian-American populations linked to heart disease?\n",
    "2. Are older generations of AAs more likely to follow a healthy diet than younger generations of AAs in Texas?\n",
    "\n",
    "\n",
    "\n",
    "---"
   ]
  },
  {
   "cell_type": "markdown",
   "id": "9859929c",
   "metadata": {},
   "source": [
    "## Data Collection and Cleaning\n",
    "### Data Collection\n",
    "1. Go to data [landing page](https://data.austintexas.gov/City-Government/Final-Report-of-the-Asian-American-Quality-of-Life/hc5t-p62z). \n",
    "2. Click on Export > CSV.\n",
    "3. Download publicly available `Final_Report_of_the_Asian_American_Quality_of_Life__AAQoL_.csv` into desired directory."
   ]
  },
  {
   "cell_type": "markdown",
   "id": "e76e2a58",
   "metadata": {},
   "source": [
    "### Data Cleaning\n",
    "1. Store raw data into a preliminary dataframe, `df`\n",
    "2. Convert column names into snake_case"
   ]
  },
  {
   "cell_type": "code",
   "execution_count": 1,
   "id": "4e58467b",
   "metadata": {},
   "outputs": [],
   "source": [
    "## <TO-DO> Paste affliated code here!\n",
    "\n"
   ]
  },
  {
   "cell_type": "code",
   "execution_count": 2,
   "id": "20dfc66c",
   "metadata": {},
   "outputs": [],
   "source": [
    "## load libraries\n",
    "import numpy as np\n",
    "import pandas as pd\n",
    "import matplotlib.pyplot as plt\n",
    "import seaborn as sns"
   ]
  },
  {
   "cell_type": "code",
   "execution_count": 3,
   "id": "2a793a4e",
   "metadata": {},
   "outputs": [],
   "source": [
    "## Step 1\n",
    "df = pd.read_csv('Final_Report_of_the_Asian_American_Quality_of_Life__AAQoL_.csv')"
   ]
  },
  {
   "cell_type": "code",
   "execution_count": 4,
   "id": "b8b64f52",
   "metadata": {},
   "outputs": [],
   "source": [
    "## Step 2\n",
    "new_colnames = [i.lower() for i in df.columns]\n",
    "new_colnames = [i.replace(\" \",\"_\") for i in new_colnames]"
   ]
  },
  {
   "cell_type": "markdown",
   "id": "e564e54f",
   "metadata": {},
   "source": [
    "#### Column Names\n",
    "3. Save these new column names to a new dataframe, `asian`\n",
    "4. Select columns from the existing `asian` dataframe for data analysis\n",
    "- [ ] Income\n",
    "- [ ] Retired\n",
    "- [ ] US Born\n",
    "- [ ] English Speaking\n",
    "- [ ] English Difficulties\n",
    "- [ ] Ethnicity\n",
    "- [ ] Age\n",
    "- [ ] Regular Exercise\n",
    "- [ ] Healthy Diet\n",
    "- [ ] Heart Disease\n",
    "- [ ] Drinking\n",
    "- [ ] Smoking\n",
    "- [ ] Cancer\n",
    "- [ ] Health Insurance\n",
    "- [ ] Physical Check-up\n",
    "- [ ] Quality of Life\n",
    "- [ ] Religion\n",
    "- [ ] Gender\n",
    "- [ ] Close Friends\n",
    "- [ ] Discrimination\n",
    "- [ ] Duration of Residency\n",
    "- [ ] Household Size\n",
    "- [ ] Education Completed\n",
    "- [ ] Cleaning Entries"
   ]
  },
  {
   "cell_type": "code",
   "execution_count": 6,
   "id": "e73bb9af",
   "metadata": {},
   "outputs": [],
   "source": [
    "## Step 3\n",
    "asian = df.copy()\n",
    "asian.columns = new_colnames"
   ]
  },
  {
   "cell_type": "code",
   "execution_count": 7,
   "id": "61526194",
   "metadata": {},
   "outputs": [],
   "source": [
    "## Step 4\n",
    "asian = asian[['income', 'retired', 'us_born', 'english_speaking', 'english_difficulties', 'ethnicity','age', 'regular_exercise', 'healthy_diet', 'heart_disease', 'drinking', 'smoking',\n",
    "               'cancer', 'health_insurance', 'physical_check-up', 'quality_of_life', 'religion', 'gender', 'close_friends', 'discrimination_', 'duration_of_residency', 'household_size',\n",
    "              'education_completed']]\n",
    "# Additional improvements to asian\n",
    "asian = asian.rename(columns = {'discrimination_':'discrimination', 'physical_check-up':'physical_checkup'})"
   ]
  },
  {
   "cell_type": "markdown",
   "id": "03444bea",
   "metadata": {},
   "source": [
    "#### Cleaning Entries\n",
    "5. For the corresponding columns, convert null data according to the table below:\n",
    "\n",
    "| Column                | Modification to NaNs           |\n",
    "|-----------------------|--------------------------------|\n",
    "| Duration of residency | -1                             |\n",
    "| Education completed   | -1                             |\n",
    "| Discrimination        | 0                              |\n",
    "| Household size        | 0                              |\n",
    "| Quality of Life       | middle value for responses (5) |\n",
    "| Gender                | \"Unknown\"                      |\n",
    "| Ethnicity             | \"Unknown\"                      |\n",
    "| Religion              | \"Unknown\"                      |\n",
    "| Age                   | median age                     |\n",
    "| Close Friends         | median number of friends       |\n",
    "| Income                | rows with NaNs are dropped     |"
   ]
  },
  {
   "cell_type": "markdown",
   "id": "82f07215",
   "metadata": {},
   "source": [
    "6. Replace column data to binary responses with 1s indicating ‘Yes’es and 0s indicating ‘No’es\n",
    "8. Convert column data into intended data types\n",
    "| Column                | Data Type                                                                          |\n",
    "|-----------------------|------------------------------------------------------------------------------------|\n",
    "| income                | int: {0 (for NaNs), 1 (0-9999), 2 (10000-19999), ..., 7 (60000-69999), 8 (70000+)} |\n",
    "| retired               | int: {0 for Noes, 1 for Yeses}                                                     |\n",
    "| US Born               | int: {0 for Noes, 1 for Yeses}                                                     |\n",
    "| English Speaking      | int: {'Not at all': 1, 'Not well': 2, 'Well': 3, 'Very well': 4}                                                                    |\n",
    "| English Difficulties  | int: {'Not at all': 1, 'Not much': 2, 'Much': 3, 'Very much': 4}                                                                            |\n",
    "| Ethnicity             | String                                                                             |\n",
    "| Age                   | int                                                                                |\n",
    "| Regular Exercise      | int: {0 for Noes, 1 for Yeses}                                                     |\n",
    "| Healthy Diet          | int: {0 for Noes, 1 for Yeses}                                                     |\n",
    "| Heart Disease         | int: {0 for Noes, 1 for Yeses}                                                     |\n",
    "| Drinking              | int: {0 for Noes, 1 for Yeses}                                                     |\n",
    "| Smoking               | int: {0 for Noes, 1 for Yeses}                                                     |\n",
    "| Cancer                | int: {0 for Noes, 1 for Yeses}                                                     |\n",
    "| Health Insurance      | int: {0 for Noes, 1 for Yeses}                                                     |\n",
    "| Physical Check-up     | int: {0 for Noes, 1 for Yeses}                                                     |\n",
    "| Quality of Life       |    'Not at all': 1, 'Not well': 2, 'Well': 3, 'Very well': 4                                                                                |\n",
    "| Religion              | String                                                                             |\n",
    "| Gender                | String                                                                             |\n",
    "| Close Friends         |    floats                                                                                |\n",
    "| Discrimination        | int: {0 for Noes, 1 for Yeses}                                                     |\n",
    "| Duration of Residency | float                                                                              |\n",
    "| Household Size        | int                                                                                |\n",
    "| Education Completed   |    int                                                                                |"
   ]
  },
  {
   "cell_type": "code",
   "execution_count": 9,
   "id": "ed959de5",
   "metadata": {},
   "outputs": [],
   "source": [
    "## Step 5, 6, 7\n",
    "\n",
    "#changing english_speaking column to be represented by floats\n",
    "asian['english_speaking'].replace({'Not at all': 1, 'Not well': 2, 'Well': 3, 'Very well': 4}, inplace = True)\n",
    "asian['english_speaking'] = asian['english_speaking'].astype(float, errors = 'raise')\n",
    "#replacing NaNs with 0\n",
    "asian['english_speaking'] = asian['english_speaking'].fillna(0)\n",
    "    \n",
    "# changing english_difficulties column to be represented by floats\n",
    "asian['english_difficulties'].replace({'Not at all': 1, 'Not much': 2, 'Much': 3, 'Very much': 4}, inplace = True)\n",
    "#replacing NaNs with 0\n",
    "asian['english_difficulties'] = asian['english_difficulties'].fillna(0)\n",
    "\n",
    "# changing retired column to to be represented by floats\n",
    "asian[\"retired\"].replace({\"Retired\": 1}, inplace=True)\n",
    "asian[\"retired\"] = asian[\"retired\"].astype(float, errors='raise')\n",
    "#replacing NaNs with 0\n",
    "asian['retired'] = asian['retired'].fillna(0)\n",
    "\n",
    "# changing us_born column to to be represented by floats\n",
    "asian[\"us_born\"].replace({\"No\": 0, \"Yes\": 1}, inplace=True)\n",
    "#replacing NaNs with 0\n",
    "asian['us_born'] = asian['us_born'].fillna(0)\n",
    "\n",
    "#replacing NaNs with 0\n",
    "asian['health_insurance'] = asian['health_insurance'].fillna(0)\n",
    "# changing health_insurance column \n",
    "asian['health_insurance'].replace({\"Yes\": \"1\"}, inplace=True)\n",
    "\n",
    "#replacing NaNs with 0\n",
    "asian['physical_checkup'] = asian['physical_checkup'].fillna(0)\n",
    "\n",
    "# changing physical_checkup column \n",
    "asian[\"physical_checkup\"].replace({\"Yes\": \"1\"}, inplace=True)\n",
    "\n",
    "#replacing NaNs with 0\n",
    "asian['us_born'] = asian['us_born'].fillna(0)\n",
    "\n",
    "# changing regular_exercise column to 0 and 1\n",
    "#replacing NaNs with 0\n",
    "asian['regular_exercise'] = asian['regular_exercise'].fillna(0)\n",
    "\n",
    "#replacing NaNs with 0\n",
    "asian['healthy_diet'] = asian['healthy_diet'].fillna(0)\n",
    "\n",
    "#replacing NaNs with 0\n",
    "asian['heart_disease'] = asian['heart_disease'].fillna(0)\n",
    "\n",
    "#replacing NaNs with 0\n",
    "asian['healthy_diet'] = asian['healthy_diet'].fillna(0)\n",
    "\n",
    "#replacing NaNs with 5.0\n",
    "asian['quality_of_life'] = asian['quality_of_life'].fillna(5.0)\n",
    "\n",
    "#replacing NaNs with 0\n",
    "asian['discrimination'] = asian['discrimination'].fillna(0)\n",
    "\n",
    "#replacing NaNs with -1\n",
    "asian['duration_of_residency'] = asian['duration_of_residency'].fillna(-1)\n",
    "\n",
    "#replacing NaNs with 0 because household_size can not be 0 because participants are counting themselves\n",
    "asian['household_size'] = asian['household_size'].fillna(0)\n",
    "\n",
    "#replacing NaNs with -1\n",
    "asian['education_completed'] = asian['education_completed'].fillna(0)\n",
    "\n",
    "#replacing NaNs with Unknown\n",
    "asian['gender'] = asian['gender'].fillna('Unknown')\n",
    "\n",
    "#replacing NaNs with Unknown\n",
    "asian['ethnicity'] = asian['ethnicity'].fillna('Unknown')\n",
    "\n",
    "#replacing NaNs with Unknown\n",
    "asian['religion'] = asian['religion'].fillna('Unknown')\n",
    "\n",
    "#replacing NaNs with median age\n",
    "asian['age'] = asian['age'].fillna(40.0)\n",
    "\n",
    "#replacing NaNs with median number of close friends\n",
    "asian['close_friends'] = asian['close_friends'].fillna(3.0)\n",
    "\n",
    "# changing income column entries to be represented by integers\n",
    "asian['income'] = asian['income'].replace({'$0 - $9,999': 1, '$10,000 - $19,999': 2, '$20,000 - $29,999': 3, '$30,000 - $39,999': 4, \n",
    "                        '$40,000 - $49,999': 5, '$50,000 - $59,999': 6, '$60,000 - $69,999': 7, '$70,000 and over': 8})\n",
    "\n",
    "asian = asian.dropna()\n",
    "asian.reset_index(drop=True, inplace=True)\n"
   ]
  },
  {
   "cell_type": "code",
   "execution_count": 10,
   "id": "fcceacdc",
   "metadata": {},
   "outputs": [
    {
     "data": {
      "text/html": [
       "<div>\n",
       "<style scoped>\n",
       "    .dataframe tbody tr th:only-of-type {\n",
       "        vertical-align: middle;\n",
       "    }\n",
       "\n",
       "    .dataframe tbody tr th {\n",
       "        vertical-align: top;\n",
       "    }\n",
       "\n",
       "    .dataframe thead th {\n",
       "        text-align: right;\n",
       "    }\n",
       "</style>\n",
       "<table border=\"1\" class=\"dataframe\">\n",
       "  <thead>\n",
       "    <tr style=\"text-align: right;\">\n",
       "      <th></th>\n",
       "      <th>income</th>\n",
       "      <th>retired</th>\n",
       "      <th>us_born</th>\n",
       "      <th>english_speaking</th>\n",
       "      <th>english_difficulties</th>\n",
       "      <th>ethnicity</th>\n",
       "      <th>age</th>\n",
       "      <th>regular_exercise</th>\n",
       "      <th>healthy_diet</th>\n",
       "      <th>heart_disease</th>\n",
       "      <th>...</th>\n",
       "      <th>health_insurance</th>\n",
       "      <th>physical_checkup</th>\n",
       "      <th>quality_of_life</th>\n",
       "      <th>religion</th>\n",
       "      <th>gender</th>\n",
       "      <th>close_friends</th>\n",
       "      <th>discrimination</th>\n",
       "      <th>duration_of_residency</th>\n",
       "      <th>household_size</th>\n",
       "      <th>education_completed</th>\n",
       "    </tr>\n",
       "  </thead>\n",
       "  <tbody>\n",
       "    <tr>\n",
       "      <th>0</th>\n",
       "      <td>1.0</td>\n",
       "      <td>0.0</td>\n",
       "      <td>0.0</td>\n",
       "      <td>3.0</td>\n",
       "      <td>3.0</td>\n",
       "      <td>Chinese</td>\n",
       "      <td>23.0</td>\n",
       "      <td>0.0</td>\n",
       "      <td>1.0</td>\n",
       "      <td>0.0</td>\n",
       "      <td>...</td>\n",
       "      <td>0</td>\n",
       "      <td>1</td>\n",
       "      <td>8.0</td>\n",
       "      <td>Buddhist</td>\n",
       "      <td>Female</td>\n",
       "      <td>4.0</td>\n",
       "      <td>0.0</td>\n",
       "      <td>11.0</td>\n",
       "      <td>3.0</td>\n",
       "      <td>16.0</td>\n",
       "    </tr>\n",
       "    <tr>\n",
       "      <th>1</th>\n",
       "      <td>8.0</td>\n",
       "      <td>0.0</td>\n",
       "      <td>0.0</td>\n",
       "      <td>3.0</td>\n",
       "      <td>3.0</td>\n",
       "      <td>Asian Indian</td>\n",
       "      <td>28.0</td>\n",
       "      <td>1.0</td>\n",
       "      <td>0.0</td>\n",
       "      <td>0.0</td>\n",
       "      <td>...</td>\n",
       "      <td>1</td>\n",
       "      <td>1</td>\n",
       "      <td>8.0</td>\n",
       "      <td>Hindu</td>\n",
       "      <td>Male</td>\n",
       "      <td>3.0</td>\n",
       "      <td>0.0</td>\n",
       "      <td>7.0</td>\n",
       "      <td>2.0</td>\n",
       "      <td>17.0</td>\n",
       "    </tr>\n",
       "    <tr>\n",
       "      <th>2</th>\n",
       "      <td>8.0</td>\n",
       "      <td>0.0</td>\n",
       "      <td>0.0</td>\n",
       "      <td>4.0</td>\n",
       "      <td>1.0</td>\n",
       "      <td>Asian Indian</td>\n",
       "      <td>47.0</td>\n",
       "      <td>0.0</td>\n",
       "      <td>0.0</td>\n",
       "      <td>0.0</td>\n",
       "      <td>...</td>\n",
       "      <td>0</td>\n",
       "      <td>0</td>\n",
       "      <td>5.0</td>\n",
       "      <td>Muslim</td>\n",
       "      <td>Male</td>\n",
       "      <td>3.0</td>\n",
       "      <td>0.0</td>\n",
       "      <td>20.0</td>\n",
       "      <td>5.0</td>\n",
       "      <td>17.0</td>\n",
       "    </tr>\n",
       "    <tr>\n",
       "      <th>3</th>\n",
       "      <td>6.0</td>\n",
       "      <td>0.0</td>\n",
       "      <td>0.0</td>\n",
       "      <td>4.0</td>\n",
       "      <td>1.0</td>\n",
       "      <td>Asian Indian</td>\n",
       "      <td>25.0</td>\n",
       "      <td>1.0</td>\n",
       "      <td>1.0</td>\n",
       "      <td>0.0</td>\n",
       "      <td>...</td>\n",
       "      <td>1</td>\n",
       "      <td>1</td>\n",
       "      <td>10.0</td>\n",
       "      <td>Hindu</td>\n",
       "      <td>Male</td>\n",
       "      <td>5.0</td>\n",
       "      <td>0.0</td>\n",
       "      <td>2.0</td>\n",
       "      <td>1.0</td>\n",
       "      <td>17.0</td>\n",
       "    </tr>\n",
       "    <tr>\n",
       "      <th>4</th>\n",
       "      <td>8.0</td>\n",
       "      <td>1.0</td>\n",
       "      <td>0.0</td>\n",
       "      <td>4.0</td>\n",
       "      <td>1.0</td>\n",
       "      <td>Asian Indian</td>\n",
       "      <td>60.0</td>\n",
       "      <td>1.0</td>\n",
       "      <td>1.0</td>\n",
       "      <td>0.0</td>\n",
       "      <td>...</td>\n",
       "      <td>1</td>\n",
       "      <td>1</td>\n",
       "      <td>9.0</td>\n",
       "      <td>Hindu</td>\n",
       "      <td>Female</td>\n",
       "      <td>2.0</td>\n",
       "      <td>0.0</td>\n",
       "      <td>47.0</td>\n",
       "      <td>3.0</td>\n",
       "      <td>17.0</td>\n",
       "    </tr>\n",
       "  </tbody>\n",
       "</table>\n",
       "<p>5 rows × 23 columns</p>\n",
       "</div>"
      ],
      "text/plain": [
       "   income  retired  us_born  english_speaking  english_difficulties  \\\n",
       "0     1.0      0.0      0.0               3.0                   3.0   \n",
       "1     8.0      0.0      0.0               3.0                   3.0   \n",
       "2     8.0      0.0      0.0               4.0                   1.0   \n",
       "3     6.0      0.0      0.0               4.0                   1.0   \n",
       "4     8.0      1.0      0.0               4.0                   1.0   \n",
       "\n",
       "      ethnicity   age  regular_exercise  healthy_diet  heart_disease  ...  \\\n",
       "0       Chinese  23.0               0.0           1.0            0.0  ...   \n",
       "1  Asian Indian  28.0               1.0           0.0            0.0  ...   \n",
       "2  Asian Indian  47.0               0.0           0.0            0.0  ...   \n",
       "3  Asian Indian  25.0               1.0           1.0            0.0  ...   \n",
       "4  Asian Indian  60.0               1.0           1.0            0.0  ...   \n",
       "\n",
       "   health_insurance  physical_checkup  quality_of_life  religion  gender  \\\n",
       "0                 0                 1              8.0  Buddhist  Female   \n",
       "1                 1                 1              8.0     Hindu    Male   \n",
       "2                 0                 0              5.0    Muslim    Male   \n",
       "3                 1                 1             10.0     Hindu    Male   \n",
       "4                 1                 1              9.0     Hindu  Female   \n",
       "\n",
       "   close_friends discrimination duration_of_residency  household_size  \\\n",
       "0            4.0            0.0                  11.0             3.0   \n",
       "1            3.0            0.0                   7.0             2.0   \n",
       "2            3.0            0.0                  20.0             5.0   \n",
       "3            5.0            0.0                   2.0             1.0   \n",
       "4            2.0            0.0                  47.0             3.0   \n",
       "\n",
       "   education_completed  \n",
       "0                 16.0  \n",
       "1                 17.0  \n",
       "2                 17.0  \n",
       "3                 17.0  \n",
       "4                 17.0  \n",
       "\n",
       "[5 rows x 23 columns]"
      ]
     },
     "execution_count": 10,
     "metadata": {},
     "output_type": "execute_result"
    }
   ],
   "source": [
    "asian.head()"
   ]
  },
  {
   "cell_type": "code",
   "execution_count": null,
   "id": "cf3f5785",
   "metadata": {},
   "outputs": [],
   "source": []
  },
  {
   "cell_type": "markdown",
   "id": "a21c1063",
   "metadata": {},
   "source": [
    "---"
   ]
  },
  {
   "cell_type": "markdown",
   "id": "4066327b",
   "metadata": {},
   "source": [
    "## Data Description\n",
    "The observations are the Asian-Americans surveyed in Austin, Texas. The attributes are a range of quality of life measurements. This dataset will help us understand the rapid growth rate and unique challenges as a new immigrant group calls for a better understanding of the social and health needs of the Asian American population. This dataset was funded by the City of Austin’s Public Information Office. Researchers and participants guided the observation of data. During the study, participants elevated their responses by adding “respect and appreciation of diverse cultures and acknowledgement of the legacy of the Asian community in Austin. The kind of data that was recorded focused on the project's goal to improve the city of Austin’s Asian American resources on health, housing,  culture, civic engagement, and economic development. The data came to formation through a three-year community engagement process. Commissioners, consultants and City staff worked with partner agencies and individual volunteers to meet Asian American community members where they live, work and play. More than 3,350 individuals took one of two surveys during the initiative either online or in-person at a variety of locations throughout the city, “Conversation Over Tea,” and other City of Austin hosted meetings to facilitate dialogue and share anecdotes about their lives. Additionally, “travel booths” were present at various events throughout the city engaging hundreds of Asian Americans. Participation included almost every ZIP code within the city and adjacent areas. The people involved were aware of the data collection. They were surprised to learn that the data was to be used for the City of Austin to hear about their dreams, challenges and contributions. A raw source to the data can be found [here](https://data.austintexas.gov/City-Government/Final-Report-of-the-Asian-American-Quality-of-Life/hc5t-p62z), under Export > CSV configurations.\n",
    "\n",
    "---"
   ]
  },
  {
   "cell_type": "markdown",
   "id": "1c2e681e",
   "metadata": {},
   "source": [
    "## Data Limitations\n",
    "\n",
    "Limited amount of quantitative data values will make it difficult to generate traditional-looking scatterplots and visualize possible relationships between variables. We foresee a barriers in conducting assessments that predict based off of existing trends due to this. When addressing demographics, the lack of records for previous years will be an obstacle when making comparisons on whether factors measuring the quality of life of Asian-Americans progressed or regressed. One real-world impact that can be derived from this limitation is that Asian-Americans will be less able to identify existing quality-of-life indicators, and  practices that the city of Austin should continue or cease based off patterns in the data. This will restrict the level of specificity in insights concerning emerging patterns we see. Data collected is also limited to representing the attitudes of Asian-Americans living in Texas. Their environment, for example, may be different from the attitudes of Asian-Americans in more or less urban areas, and cannot encapsulate the attitudes of all Asian-Americans. The meaning of the results in this case, would be less useful in terms of its applicability as we do not have randomly-sampled results of all Asian-Americans. This datasets' quality of record-keeping also faltered in areas where respondents were able to leave answers blank. This consequently resulted in NaNs, impacting the meaning of the results  \n",
    "\n",
    "Certain ethnic groups dominate over others which may lead to skewed results when extrapolating quality of life measurements in mentioning the atittudes of Asian-American populations. For example, out of all the ethnic groups described, Protestant Asian-Americans reported experiencing the highest amount of discrimination. However, it would be innaccurate to assume that Protestantism is a motivating factor for racists to engage in discriminatory behaviors towards Asian-Americans. Some response variables will be affected by confounding variables such as different cultural aspects among sub-ethnic groups. (e.g. some ethnic groups have leaner diets which would impact conclusions drawn when studying Asian-American health). In this case, the higher rates of discrimination can also be explained in how the data shows Korean-Americans are primarily of Protestant faith. Given that they were also the ethnicity group to report the highest amounts of discrimination, this shows how the data can only go so far to explain why certain qualities might cause others. \n",
    "\n",
    "---"
   ]
  },
  {
   "cell_type": "code",
   "execution_count": 13,
   "id": "4390a943",
   "metadata": {},
   "outputs": [
    {
     "data": {
      "text/plain": [
       "8.0    967\n",
       "1.0    241\n",
       "2.0    197\n",
       "4.0    196\n",
       "3.0    190\n",
       "7.0    183\n",
       "5.0    167\n",
       "6.0    166\n",
       "Name: income, dtype: int64"
      ]
     },
     "metadata": {},
     "output_type": "display_data"
    },
    {
     "name": "stdout",
     "output_type": "stream",
     "text": [
      "\n"
     ]
    },
    {
     "data": {
      "text/plain": [
       "0.0    2072\n",
       "1.0     235\n",
       "Name: retired, dtype: int64"
      ]
     },
     "metadata": {},
     "output_type": "display_data"
    },
    {
     "name": "stdout",
     "output_type": "stream",
     "text": [
      "\n"
     ]
    },
    {
     "data": {
      "text/plain": [
       "0.0    2082\n",
       "1.0     225\n",
       "Name: us_born, dtype: int64"
      ]
     },
     "metadata": {},
     "output_type": "display_data"
    },
    {
     "name": "stdout",
     "output_type": "stream",
     "text": [
      "\n"
     ]
    },
    {
     "data": {
      "text/plain": [
       "4.0    912\n",
       "3.0    727\n",
       "2.0    547\n",
       "1.0    115\n",
       "0.0      6\n",
       "Name: english_speaking, dtype: int64"
      ]
     },
     "metadata": {},
     "output_type": "display_data"
    },
    {
     "name": "stdout",
     "output_type": "stream",
     "text": [
      "\n"
     ]
    },
    {
     "data": {
      "text/plain": [
       "1.0    719\n",
       "2.0    649\n",
       "3.0    475\n",
       "4.0    447\n",
       "0.0     17\n",
       "Name: english_difficulties, dtype: int64"
      ]
     },
     "metadata": {},
     "output_type": "display_data"
    },
    {
     "name": "stdout",
     "output_type": "stream",
     "text": [
      "\n"
     ]
    },
    {
     "data": {
      "text/plain": [
       "Chinese         556\n",
       "Asian Indian    508\n",
       "Vietnamese      451\n",
       "Korean          425\n",
       "Filipino        238\n",
       "Other           129\n",
       "Name: ethnicity, dtype: int64"
      ]
     },
     "metadata": {},
     "output_type": "display_data"
    },
    {
     "name": "stdout",
     "output_type": "stream",
     "text": [
      "\n"
     ]
    },
    {
     "data": {
      "text/plain": [
       "25.0    76\n",
       "40.0    71\n",
       "32.0    71\n",
       "30.0    66\n",
       "33.0    62\n",
       "        ..\n",
       "79.0     2\n",
       "89.0     2\n",
       "98.0     1\n",
       "87.0     1\n",
       "88.0     1\n",
       "Name: age, Length: 72, dtype: int64"
      ]
     },
     "metadata": {},
     "output_type": "display_data"
    },
    {
     "name": "stdout",
     "output_type": "stream",
     "text": [
      "\n"
     ]
    },
    {
     "data": {
      "text/plain": [
       "1.0    1412\n",
       "0.0     895\n",
       "Name: regular_exercise, dtype: int64"
      ]
     },
     "metadata": {},
     "output_type": "display_data"
    },
    {
     "name": "stdout",
     "output_type": "stream",
     "text": [
      "\n"
     ]
    },
    {
     "data": {
      "text/plain": [
       "1.0    1846\n",
       "0.0     461\n",
       "Name: healthy_diet, dtype: int64"
      ]
     },
     "metadata": {},
     "output_type": "display_data"
    },
    {
     "name": "stdout",
     "output_type": "stream",
     "text": [
      "\n"
     ]
    },
    {
     "data": {
      "text/plain": [
       "0.0    2307\n",
       "Name: heart_disease, dtype: int64"
      ]
     },
     "metadata": {},
     "output_type": "display_data"
    },
    {
     "name": "stdout",
     "output_type": "stream",
     "text": [
      "\n"
     ]
    },
    {
     "data": {
      "text/plain": [
       "0.0    2234\n",
       "1.0      73\n",
       "Name: drinking, dtype: int64"
      ]
     },
     "metadata": {},
     "output_type": "display_data"
    },
    {
     "name": "stdout",
     "output_type": "stream",
     "text": [
      "\n"
     ]
    },
    {
     "data": {
      "text/plain": [
       "0.0    2160\n",
       "1.0     147\n",
       "Name: smoking, dtype: int64"
      ]
     },
     "metadata": {},
     "output_type": "display_data"
    },
    {
     "name": "stdout",
     "output_type": "stream",
     "text": [
      "\n"
     ]
    },
    {
     "data": {
      "text/plain": [
       "0.0    2307\n",
       "Name: cancer, dtype: int64"
      ]
     },
     "metadata": {},
     "output_type": "display_data"
    },
    {
     "name": "stdout",
     "output_type": "stream",
     "text": [
      "\n"
     ]
    },
    {
     "data": {
      "text/plain": [
       "1    1982\n",
       "0     320\n",
       "0       5\n",
       "Name: health_insurance, dtype: int64"
      ]
     },
     "metadata": {},
     "output_type": "display_data"
    },
    {
     "name": "stdout",
     "output_type": "stream",
     "text": [
      "\n"
     ]
    },
    {
     "data": {
      "text/plain": [
       "1    1535\n",
       "0     752\n",
       "0      20\n",
       "Name: physical_checkup, dtype: int64"
      ]
     },
     "metadata": {},
     "output_type": "display_data"
    },
    {
     "name": "stdout",
     "output_type": "stream",
     "text": [
      "\n"
     ]
    },
    {
     "data": {
      "text/plain": [
       "8.0     713\n",
       "7.0     433\n",
       "9.0     404\n",
       "10.0    306\n",
       "5.0     191\n",
       "6.0     185\n",
       "4.0      44\n",
       "3.0      20\n",
       "2.0       7\n",
       "1.0       4\n",
       "Name: quality_of_life, dtype: int64"
      ]
     },
     "metadata": {},
     "output_type": "display_data"
    },
    {
     "name": "stdout",
     "output_type": "stream",
     "text": [
      "\n"
     ]
    },
    {
     "data": {
      "text/plain": [
       "Protestant    565\n",
       "None          463\n",
       "Catholic      442\n",
       "Hindu         420\n",
       "Buddhist      308\n",
       "Muslim         59\n",
       "Other          41\n",
       "Unknown         9\n",
       "Name: religion, dtype: int64"
      ]
     },
     "metadata": {},
     "output_type": "display_data"
    },
    {
     "name": "stdout",
     "output_type": "stream",
     "text": [
      "\n"
     ]
    },
    {
     "data": {
      "text/plain": [
       "Female     1221\n",
       "Male       1068\n",
       "Unknown      18\n",
       "Name: gender, dtype: int64"
      ]
     },
     "metadata": {},
     "output_type": "display_data"
    },
    {
     "name": "stdout",
     "output_type": "stream",
     "text": [
      "\n"
     ]
    },
    {
     "data": {
      "text/plain": [
       "3.0    777\n",
       "2.0    609\n",
       "1.0    327\n",
       "4.0    222\n",
       "5.0    187\n",
       "0.0    185\n",
       "Name: close_friends, dtype: int64"
      ]
     },
     "metadata": {},
     "output_type": "display_data"
    },
    {
     "name": "stdout",
     "output_type": "stream",
     "text": [
      "\n"
     ]
    },
    {
     "data": {
      "text/plain": [
       "0.0    1671\n",
       "1.0     636\n",
       "Name: discrimination, dtype: int64"
      ]
     },
     "metadata": {},
     "output_type": "display_data"
    },
    {
     "name": "stdout",
     "output_type": "stream",
     "text": [
      "\n"
     ]
    },
    {
     "data": {
      "text/plain": [
       "2.00     151\n",
       "1.00     148\n",
       "3.00     103\n",
       "20.00    102\n",
       "10.00    101\n",
       "        ... \n",
       "0.75       1\n",
       "59.00      1\n",
       "6.50       1\n",
       "53.00      1\n",
       "54.00      1\n",
       "Name: duration_of_residency, Length: 65, dtype: int64"
      ]
     },
     "metadata": {},
     "output_type": "display_data"
    },
    {
     "name": "stdout",
     "output_type": "stream",
     "text": [
      "\n"
     ]
    },
    {
     "data": {
      "text/plain": [
       "2.0    635\n",
       "4.0    609\n",
       "3.0    497\n",
       "5.0    209\n",
       "1.0    181\n",
       "6.0    108\n",
       "7.0     34\n",
       "8.0     24\n",
       "0.0     10\n",
       "Name: household_size, dtype: int64"
      ]
     },
     "metadata": {},
     "output_type": "display_data"
    },
    {
     "name": "stdout",
     "output_type": "stream",
     "text": [
      "\n"
     ]
    },
    {
     "data": {
      "text/plain": [
       "17.0    847\n",
       "16.0    680\n",
       "12.0    282\n",
       "14.0    155\n",
       "13.0    112\n",
       "15.0    107\n",
       "10.0     24\n",
       "0.0      21\n",
       "11.0     18\n",
       "9.0      17\n",
       "6.0      16\n",
       "8.0      10\n",
       "7.0      10\n",
       "5.0       5\n",
       "2.0       1\n",
       "3.0       1\n",
       "4.0       1\n",
       "Name: education_completed, dtype: int64"
      ]
     },
     "metadata": {},
     "output_type": "display_data"
    },
    {
     "name": "stdout",
     "output_type": "stream",
     "text": [
      "\n"
     ]
    }
   ],
   "source": [
    "for col in asian.columns:\n",
    "    display(asian[col].value_counts())\n",
    "    print()"
   ]
  },
  {
   "cell_type": "markdown",
   "id": "54aa05ff",
   "metadata": {},
   "source": [
    "### Sample Summary Statistics"
   ]
  },
  {
   "cell_type": "code",
   "execution_count": 53,
   "id": "17c13cb5",
   "metadata": {},
   "outputs": [
    {
     "data": {
      "text/html": [
       "<div>\n",
       "<style scoped>\n",
       "    .dataframe tbody tr th:only-of-type {\n",
       "        vertical-align: middle;\n",
       "    }\n",
       "\n",
       "    .dataframe tbody tr th {\n",
       "        vertical-align: top;\n",
       "    }\n",
       "\n",
       "    .dataframe thead th {\n",
       "        text-align: right;\n",
       "    }\n",
       "</style>\n",
       "<table border=\"1\" class=\"dataframe\">\n",
       "  <thead>\n",
       "    <tr style=\"text-align: right;\">\n",
       "      <th></th>\n",
       "      <th>income</th>\n",
       "      <th>retired</th>\n",
       "      <th>us_born</th>\n",
       "      <th>english_speaking</th>\n",
       "      <th>english_difficulties</th>\n",
       "      <th>age</th>\n",
       "      <th>regular_exercise</th>\n",
       "      <th>healthy_diet</th>\n",
       "      <th>heart_disease</th>\n",
       "      <th>drinking</th>\n",
       "      <th>smoking</th>\n",
       "      <th>cancer</th>\n",
       "      <th>quality_of_life</th>\n",
       "      <th>close_friends</th>\n",
       "      <th>discrimination</th>\n",
       "      <th>duration_of_residency</th>\n",
       "      <th>household_size</th>\n",
       "      <th>education_completed</th>\n",
       "    </tr>\n",
       "  </thead>\n",
       "  <tbody>\n",
       "    <tr>\n",
       "      <th>count</th>\n",
       "      <td>2307.000000</td>\n",
       "      <td>2307.000000</td>\n",
       "      <td>2307.000000</td>\n",
       "      <td>2307.000000</td>\n",
       "      <td>2307.000000</td>\n",
       "      <td>2307.000000</td>\n",
       "      <td>2307.000000</td>\n",
       "      <td>2307.000000</td>\n",
       "      <td>2307.0</td>\n",
       "      <td>2307.000000</td>\n",
       "      <td>2307.000000</td>\n",
       "      <td>2307.0</td>\n",
       "      <td>2307.000000</td>\n",
       "      <td>2307.000000</td>\n",
       "      <td>2307.000000</td>\n",
       "      <td>2307.000000</td>\n",
       "      <td>2307.000000</td>\n",
       "      <td>2307.000000</td>\n",
       "    </tr>\n",
       "    <tr>\n",
       "      <th>mean</th>\n",
       "      <td>5.564369</td>\n",
       "      <td>0.101864</td>\n",
       "      <td>0.097529</td>\n",
       "      <td>3.050715</td>\n",
       "      <td>2.267013</td>\n",
       "      <td>41.506285</td>\n",
       "      <td>0.612050</td>\n",
       "      <td>0.800173</td>\n",
       "      <td>0.0</td>\n",
       "      <td>0.031643</td>\n",
       "      <td>0.063719</td>\n",
       "      <td>0.0</td>\n",
       "      <td>7.693975</td>\n",
       "      <td>2.470308</td>\n",
       "      <td>0.275683</td>\n",
       "      <td>15.505375</td>\n",
       "      <td>3.251409</td>\n",
       "      <td>15.069354</td>\n",
       "    </tr>\n",
       "    <tr>\n",
       "      <th>std</th>\n",
       "      <td>2.588519</td>\n",
       "      <td>0.302535</td>\n",
       "      <td>0.296741</td>\n",
       "      <td>0.923591</td>\n",
       "      <td>1.118619</td>\n",
       "      <td>16.236285</td>\n",
       "      <td>0.487389</td>\n",
       "      <td>0.399957</td>\n",
       "      <td>0.0</td>\n",
       "      <td>0.175085</td>\n",
       "      <td>0.244305</td>\n",
       "      <td>0.0</td>\n",
       "      <td>1.607110</td>\n",
       "      <td>1.301263</td>\n",
       "      <td>0.446955</td>\n",
       "      <td>12.558324</td>\n",
       "      <td>1.452363</td>\n",
       "      <td>2.697764</td>\n",
       "    </tr>\n",
       "    <tr>\n",
       "      <th>min</th>\n",
       "      <td>1.000000</td>\n",
       "      <td>0.000000</td>\n",
       "      <td>0.000000</td>\n",
       "      <td>0.000000</td>\n",
       "      <td>0.000000</td>\n",
       "      <td>18.000000</td>\n",
       "      <td>0.000000</td>\n",
       "      <td>0.000000</td>\n",
       "      <td>0.0</td>\n",
       "      <td>0.000000</td>\n",
       "      <td>0.000000</td>\n",
       "      <td>0.0</td>\n",
       "      <td>1.000000</td>\n",
       "      <td>0.000000</td>\n",
       "      <td>0.000000</td>\n",
       "      <td>-1.000000</td>\n",
       "      <td>0.000000</td>\n",
       "      <td>0.000000</td>\n",
       "    </tr>\n",
       "    <tr>\n",
       "      <th>25%</th>\n",
       "      <td>3.000000</td>\n",
       "      <td>0.000000</td>\n",
       "      <td>0.000000</td>\n",
       "      <td>2.000000</td>\n",
       "      <td>1.000000</td>\n",
       "      <td>28.000000</td>\n",
       "      <td>0.000000</td>\n",
       "      <td>1.000000</td>\n",
       "      <td>0.0</td>\n",
       "      <td>0.000000</td>\n",
       "      <td>0.000000</td>\n",
       "      <td>0.0</td>\n",
       "      <td>7.000000</td>\n",
       "      <td>2.000000</td>\n",
       "      <td>0.000000</td>\n",
       "      <td>5.000000</td>\n",
       "      <td>2.000000</td>\n",
       "      <td>14.000000</td>\n",
       "    </tr>\n",
       "    <tr>\n",
       "      <th>50%</th>\n",
       "      <td>6.000000</td>\n",
       "      <td>0.000000</td>\n",
       "      <td>0.000000</td>\n",
       "      <td>3.000000</td>\n",
       "      <td>2.000000</td>\n",
       "      <td>39.000000</td>\n",
       "      <td>1.000000</td>\n",
       "      <td>1.000000</td>\n",
       "      <td>0.0</td>\n",
       "      <td>0.000000</td>\n",
       "      <td>0.000000</td>\n",
       "      <td>0.0</td>\n",
       "      <td>8.000000</td>\n",
       "      <td>3.000000</td>\n",
       "      <td>0.000000</td>\n",
       "      <td>13.000000</td>\n",
       "      <td>3.000000</td>\n",
       "      <td>16.000000</td>\n",
       "    </tr>\n",
       "    <tr>\n",
       "      <th>75%</th>\n",
       "      <td>8.000000</td>\n",
       "      <td>0.000000</td>\n",
       "      <td>0.000000</td>\n",
       "      <td>4.000000</td>\n",
       "      <td>3.000000</td>\n",
       "      <td>52.000000</td>\n",
       "      <td>1.000000</td>\n",
       "      <td>1.000000</td>\n",
       "      <td>0.0</td>\n",
       "      <td>0.000000</td>\n",
       "      <td>0.000000</td>\n",
       "      <td>0.0</td>\n",
       "      <td>9.000000</td>\n",
       "      <td>3.000000</td>\n",
       "      <td>1.000000</td>\n",
       "      <td>24.000000</td>\n",
       "      <td>4.000000</td>\n",
       "      <td>17.000000</td>\n",
       "    </tr>\n",
       "    <tr>\n",
       "      <th>max</th>\n",
       "      <td>8.000000</td>\n",
       "      <td>1.000000</td>\n",
       "      <td>1.000000</td>\n",
       "      <td>4.000000</td>\n",
       "      <td>4.000000</td>\n",
       "      <td>98.000000</td>\n",
       "      <td>1.000000</td>\n",
       "      <td>1.000000</td>\n",
       "      <td>0.0</td>\n",
       "      <td>1.000000</td>\n",
       "      <td>1.000000</td>\n",
       "      <td>0.0</td>\n",
       "      <td>10.000000</td>\n",
       "      <td>5.000000</td>\n",
       "      <td>1.000000</td>\n",
       "      <td>78.000000</td>\n",
       "      <td>8.000000</td>\n",
       "      <td>17.000000</td>\n",
       "    </tr>\n",
       "  </tbody>\n",
       "</table>\n",
       "</div>"
      ],
      "text/plain": [
       "            income      retired      us_born  english_speaking  \\\n",
       "count  2307.000000  2307.000000  2307.000000       2307.000000   \n",
       "mean      5.564369     0.101864     0.097529          3.050715   \n",
       "std       2.588519     0.302535     0.296741          0.923591   \n",
       "min       1.000000     0.000000     0.000000          0.000000   \n",
       "25%       3.000000     0.000000     0.000000          2.000000   \n",
       "50%       6.000000     0.000000     0.000000          3.000000   \n",
       "75%       8.000000     0.000000     0.000000          4.000000   \n",
       "max       8.000000     1.000000     1.000000          4.000000   \n",
       "\n",
       "       english_difficulties          age  regular_exercise  healthy_diet  \\\n",
       "count           2307.000000  2307.000000       2307.000000   2307.000000   \n",
       "mean               2.267013    41.506285          0.612050      0.800173   \n",
       "std                1.118619    16.236285          0.487389      0.399957   \n",
       "min                0.000000    18.000000          0.000000      0.000000   \n",
       "25%                1.000000    28.000000          0.000000      1.000000   \n",
       "50%                2.000000    39.000000          1.000000      1.000000   \n",
       "75%                3.000000    52.000000          1.000000      1.000000   \n",
       "max                4.000000    98.000000          1.000000      1.000000   \n",
       "\n",
       "       heart_disease     drinking      smoking  cancer  quality_of_life  \\\n",
       "count         2307.0  2307.000000  2307.000000  2307.0      2307.000000   \n",
       "mean             0.0     0.031643     0.063719     0.0         7.693975   \n",
       "std              0.0     0.175085     0.244305     0.0         1.607110   \n",
       "min              0.0     0.000000     0.000000     0.0         1.000000   \n",
       "25%              0.0     0.000000     0.000000     0.0         7.000000   \n",
       "50%              0.0     0.000000     0.000000     0.0         8.000000   \n",
       "75%              0.0     0.000000     0.000000     0.0         9.000000   \n",
       "max              0.0     1.000000     1.000000     0.0        10.000000   \n",
       "\n",
       "       close_friends  discrimination  duration_of_residency  household_size  \\\n",
       "count    2307.000000     2307.000000            2307.000000     2307.000000   \n",
       "mean        2.470308        0.275683              15.505375        3.251409   \n",
       "std         1.301263        0.446955              12.558324        1.452363   \n",
       "min         0.000000        0.000000              -1.000000        0.000000   \n",
       "25%         2.000000        0.000000               5.000000        2.000000   \n",
       "50%         3.000000        0.000000              13.000000        3.000000   \n",
       "75%         3.000000        1.000000              24.000000        4.000000   \n",
       "max         5.000000        1.000000              78.000000        8.000000   \n",
       "\n",
       "       education_completed  \n",
       "count          2307.000000  \n",
       "mean             15.069354  \n",
       "std               2.697764  \n",
       "min               0.000000  \n",
       "25%              14.000000  \n",
       "50%              16.000000  \n",
       "75%              17.000000  \n",
       "max              17.000000  "
      ]
     },
     "execution_count": 53,
     "metadata": {},
     "output_type": "execute_result"
    }
   ],
   "source": [
    "asian.describe()"
   ]
  },
  {
   "cell_type": "code",
   "execution_count": 56,
   "id": "4e835f5b",
   "metadata": {},
   "outputs": [
    {
     "data": {
      "text/plain": [
       "income                    6.0\n",
       "retired                   0.0\n",
       "us_born                   0.0\n",
       "english_speaking          3.0\n",
       "english_difficulties      2.0\n",
       "age                      39.0\n",
       "regular_exercise          1.0\n",
       "healthy_diet              1.0\n",
       "heart_disease             0.0\n",
       "drinking                  0.0\n",
       "smoking                   0.0\n",
       "cancer                    0.0\n",
       "health_insurance          1.0\n",
       "physical_checkup          1.0\n",
       "quality_of_life           8.0\n",
       "close_friends             3.0\n",
       "discrimination            0.0\n",
       "duration_of_residency    13.0\n",
       "household_size            3.0\n",
       "education_completed      16.0\n",
       "dtype: float64"
      ]
     },
     "execution_count": 56,
     "metadata": {},
     "output_type": "execute_result"
    }
   ],
   "source": [
    "asian.median()"
   ]
  },
  {
   "cell_type": "markdown",
   "id": "ac7054fa",
   "metadata": {},
   "source": [
    "Median household income for Asian Americans living in Austin, Texas:"
   ]
  },
  {
   "cell_type": "code",
   "execution_count": 55,
   "id": "54c6d835",
   "metadata": {},
   "outputs": [
    {
     "data": {
      "text/plain": [
       "income                    6.0\n",
       "retired                   0.0\n",
       "us_born                   0.0\n",
       "english_speaking          3.0\n",
       "english_difficulties      2.0\n",
       "age                      39.0\n",
       "regular_exercise          1.0\n",
       "healthy_diet              1.0\n",
       "heart_disease             0.0\n",
       "drinking                  0.0\n",
       "smoking                   0.0\n",
       "cancer                    0.0\n",
       "health_insurance          1.0\n",
       "physical_checkup          1.0\n",
       "quality_of_life           8.0\n",
       "close_friends             3.0\n",
       "discrimination            0.0\n",
       "duration_of_residency    13.0\n",
       "household_size            3.0\n",
       "education_completed      16.0\n",
       "dtype: float64"
      ]
     },
     "execution_count": 55,
     "metadata": {},
     "output_type": "execute_result"
    }
   ],
   "source": [
    "asian['income'].median()"
   ]
  },
  {
   "cell_type": "markdown",
   "id": "4dc29eb9",
   "metadata": {},
   "source": [
    "> The median income bracket for Asian-Americans living in Austin, Texas is between \\\\$50,000 - \\\\$59,999."
   ]
  },
  {
   "cell_type": "code",
   "execution_count": 54,
   "id": "cbee1543",
   "metadata": {},
   "outputs": [
    {
     "data": {
      "text/plain": [
       "0.0    2082\n",
       "1.0     225\n",
       "Name: us_born, dtype: int64"
      ]
     },
     "execution_count": 54,
     "metadata": {},
     "output_type": "execute_result"
    }
   ],
   "source": [
    "asian['us_born'].value_counts()"
   ]
  },
  {
   "cell_type": "markdown",
   "id": "645e4734",
   "metadata": {},
   "source": [
    "> The majority of Asian-Americans living in Austin, TX are not born in the United States. (Nos: 2082 > Yeses: 225)"
   ]
  },
  {
   "cell_type": "markdown",
   "id": "5724c53e",
   "metadata": {},
   "source": [
    "If performing statistical tests, do the distribution of the variables satisfy assumptions?\n",
    "> One of the requirements for the chi-square test for independence is that we procure a large enough sample (counts > 5) and the samples are independent.\n",
    "\n",
    "- Based on prior analysis of the data, we have determined that the number of counts (2307) is sufficient to perform statistical inference on. "
   ]
  },
  {
   "cell_type": "code",
   "execution_count": null,
   "id": "1ca7ae7f",
   "metadata": {},
   "outputs": [],
   "source": []
  },
  {
   "cell_type": "markdown",
   "id": "82ee4cb6",
   "metadata": {},
   "source": [
    "### Sample Relevant Plots"
   ]
  },
  {
   "cell_type": "markdown",
   "id": "8a2a662c",
   "metadata": {},
   "source": [
    "#### Distribution of ethnicities among Asian-Americans living in Austin, Texas"
   ]
  },
  {
   "cell_type": "code",
   "execution_count": 16,
   "id": "df0e8bf0",
   "metadata": {},
   "outputs": [
    {
     "data": {
      "image/png": "[encoded data removed]",
      "text/plain": [
       "<Figure size 432x288 with 1 Axes>"
      ]
     },
     "metadata": {
      "needs_background": "light"
     },
     "output_type": "display_data"
    }
   ],
   "source": [
    "asian['ethnicity'].value_counts().plot(kind='bar');\n",
    "plt.title(\"Distribution of Ethnicities among Asian-Americans\")\n",
    "plt.xlabel(\"Ethnicity\")\n",
    "plt.ylabel(\"Counts\");"
   ]
  },
  {
   "cell_type": "code",
   "execution_count": 63,
   "id": "d8a99c51",
   "metadata": {},
   "outputs": [
    {
     "data": {
      "image/png": "[encoded data removed]",
      "text/plain": [
       "<Figure size 432x288 with 1 Axes>"
      ]
     },
     "metadata": {
      "needs_background": "light"
     },
     "output_type": "display_data"
    }
   ],
   "source": [
    "asian['income'].value_counts().plot(kind='bar');"
   ]
  },
  {
   "cell_type": "markdown",
   "id": "ea33fbd4",
   "metadata": {},
   "source": [
    "#### Distribution of religious groups by ethnicity in Asian-American communities in Austin, Texas"
   ]
  },
  {
   "cell_type": "code",
   "execution_count": 17,
   "id": "3074c060",
   "metadata": {},
   "outputs": [
    {
     "data": {
      "image/png": "[encoded data removed]",
      "text/plain": [
       "<Figure size 576x288 with 1 Axes>"
      ]
     },
     "metadata": {
      "needs_background": "light"
     },
     "output_type": "display_data"
    }
   ],
   "source": [
    "plt.figure(figsize=(8,4))\n",
    "sns.countplot(x='religion', data=asian, hue = 'ethnicity');\n",
    "plt.legend(loc='upper right');\n",
    "plt.xlabel(\"Religion\")\n",
    "plt.ylabel(\"Proportion\");\n",
    "plt.title(\"Distribution of Religions by Ethnicity\");"
   ]
  },
  {
   "cell_type": "markdown",
   "id": "20996319",
   "metadata": {},
   "source": [
    "#### Distribution of Natural Citizens by ethnicity in Asian-American communities in Austin, Texas"
   ]
  },
  {
   "cell_type": "code",
   "execution_count": 25,
   "id": "e0d2904e",
   "metadata": {},
   "outputs": [
    {
     "data": {
      "image/png": "[encoded data removed]",
      "text/plain": [
       "<Figure size 576x288 with 1 Axes>"
      ]
     },
     "metadata": {
      "needs_background": "light"
     },
     "output_type": "display_data"
    }
   ],
   "source": [
    "plt.figure(figsize=(8,4))\n",
    "sns.countplot(x='us_born', data=asian, hue = 'ethnicity', palette = \"hls\");\n",
    "plt.legend(loc='upper right');\n",
    "plt.xlabel(\"US-Born\")\n",
    "plt.ylabel(\"Proportion\");\n",
    "plt.title(\"Distribution of Natural Citizens by Ethnicity\");\n",
    "positions = (0.0, 1.0);\n",
    "labels = (\"No\", \"Yes\");\n",
    "plt.xticks(positions, labels);"
   ]
  },
  {
   "cell_type": "markdown",
   "id": "222b9b4c",
   "metadata": {},
   "source": [
    "#### Median Income Brackets per Ethnicity"
   ]
  },
  {
   "cell_type": "code",
   "execution_count": 22,
   "id": "e7b17034",
   "metadata": {},
   "outputs": [
    {
     "data": {
      "image/png": "[encoded data removed]",
      "text/plain": [
       "<Figure size 576x288 with 1 Axes>"
      ]
     },
     "metadata": {
      "needs_background": "light"
     },
     "output_type": "display_data"
    }
   ],
   "source": [
    "plt.figure(figsize=(8,4))\n",
    "shakeshack = asian.groupby(['ethnicity'])['income'].median()\n",
    "sns.barplot(x = shakeshack.index, y = shakeshack.values, palette = \"Set2\");\n",
    "plt.xlabel(\"Ethnicity\")\n",
    "plt.ylabel(\"Median Income Brackets\");\n",
    "positions = (1, 2, 3, 4, 5, 6, 7, 8);                           \n",
    "labels = (\"\\$0 - $9,999\",\"\\$10,000 - $19,999\", \"\\$20,000 - $29,999\", \"\\$30,000 - $39,999\", \"\\$40,000 - $49,999\", \"\\$50,000 - $59,999\", \"\\$60,000 - $69,999\", '$70,000 and over');\n",
    "plt.yticks(positions, labels);\n",
    "plt.title(\"Median Income Brackets per Ethnicity\");"
   ]
  },
  {
   "cell_type": "markdown",
   "id": "db610278",
   "metadata": {},
   "source": [
    "#### Percentage of Discrimination per Ethnicity"
   ]
  },
  {
   "cell_type": "code",
   "execution_count": 43,
   "id": "f8da7b4e",
   "metadata": {},
   "outputs": [
    {
     "name": "stdout",
     "output_type": "stream",
     "text": [
      "ethnicity\n",
      "Asian Indian    0.169291\n",
      "Chinese         0.318345\n",
      "Filipino        0.264706\n",
      "Korean          0.331765\n",
      "Other           0.286822\n",
      "Vietnamese      0.292683\n",
      "Name: discrimination, dtype: float64\n"
     ]
    },
    {
     "data": {
      "image/png": "[encoded data removed]",
      "text/plain": [
       "<Figure size 576x288 with 1 Axes>"
      ]
     },
     "metadata": {
      "needs_background": "light"
     },
     "output_type": "display_data"
    }
   ],
   "source": [
    "plt.figure(figsize=(8,4));\n",
    "kfc = asian.groupby(['ethnicity'])['discrimination'].mean()\n",
    "sns.barplot(x=kfc.index, data=asian, y = kfc.values);\n",
    "plt.xlabel(\"Ethnicity\");\n",
    "plt.ylabel(\"Proportion Experiencing Discrimination\");\n",
    "plt.title(\"Discrimination\");\n",
    "print(kfc)"
   ]
  },
  {
   "cell_type": "markdown",
   "id": "705e3db5",
   "metadata": {},
   "source": [
    "This pertains to research question 5 under Happiness. \n",
    "\n",
    "> Are certain ethnic groups within AAs more likely to experience discrimination than other ethnic groups within AAs in Texas?\"\n",
    "\n",
    "Based on the visualization produced above, 33.1% of Korean-Americans in Austin, Texas have experienced some form of discrimination, followed by 31.8% of Chinese with 16.9% of Indians reporting the least amount of discrimination."
   ]
  },
  {
   "cell_type": "markdown",
   "id": "d745342e",
   "metadata": {},
   "source": [
    "#### Proportion Discrimination per Religion"
   ]
  },
  {
   "cell_type": "code",
   "execution_count": 51,
   "id": "e834ba4c",
   "metadata": {
    "scrolled": true
   },
   "outputs": [
    {
     "data": {
      "image/png": "[encoded data removed]",
      "text/plain": [
       "<Figure size 576x288 with 1 Axes>"
      ]
     },
     "metadata": {
      "needs_background": "light"
     },
     "output_type": "display_data"
    }
   ],
   "source": [
    "plt.figure(figsize=(8,4));\n",
    "chikfila = asian.groupby(['religion'])['discrimination'].mean()\n",
    "sns.barplot(x=chikfila.index, data=asian, y = chikfila.values);\n",
    "plt.xlabel(\"Religion\");\n",
    "plt.ylabel(\"Proportion Experiencing Discrimination\");\n",
    "plt.title(\"Discrimination\");"
   ]
  },
  {
   "cell_type": "markdown",
   "id": "d3563779",
   "metadata": {},
   "source": [
    "This pertains to research question 4 under Happiness.\n",
    "\n",
    "> Are certain religious groups within AAs more likely to experience discrimination than other relgious groups within AAs in Texas?\n",
    "\n",
    "Based on the visualization produced above, 35.0% of Asian-American Protestants in Austin, Texas have experienced some form of discrimination, followed by 29.9% of Catholics with 15.2% of Hindus reporting the least amount of discrimination."
   ]
  },
  {
   "cell_type": "markdown",
   "id": "58dcaa6f",
   "metadata": {},
   "source": [
    "---"
   ]
  },
  {
   "cell_type": "markdown",
   "id": "2584fab1",
   "metadata": {},
   "source": [
    "## Questions for Reviewers\n",
    "\n",
    "- Will we be penalized in the event that there certain hypothesis tests that we need to perform can be only be applied with quantitative data?"
   ]
  }
 ],
 "metadata": {
  "kernelspec": {
   "display_name": "Python 3",
   "language": "python",
   "name": "python3"
  },
  "language_info": {
   "codemirror_mode": {
    "name": "ipython",
    "version": 3
   },
   "file_extension": ".py",
   "mimetype": "text/x-python",
   "name": "python",
   "nbconvert_exporter": "python",
   "pygments_lexer": "ipython3",
   "version": "3.8.8"
  }
 },
 "nbformat": 4,
 "nbformat_minor": 5
}
