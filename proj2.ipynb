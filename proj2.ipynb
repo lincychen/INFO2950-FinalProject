{
 "cells": [
  {
   "cell_type": "markdown",
   "id": "257c1f08",
   "metadata": {},
   "source": [
    "# INFOSCI 2950: Final Project Phase II Submission"
   ]
  },
  {
   "cell_type": "markdown",
   "id": "34d1d77a",
   "metadata": {},
   "source": [
    "---\n",
    "## Research Questions\n",
    "\n",
    "**Main Goal: How can we define Asian-American communities in terms of health, happiness, and financial security?**\n",
    "\n",
    "*Financial Security*\n",
    "1. Do some ethnic groups of Asian-Americans in Texas earn more than others?\n",
    "2. Do younger Asian-Americans earn more money than older generations of Asian Americans living in Texas?\n",
    "3. How does household size relate to duration of residency for AAs in Texas?\n",
    "*Happiness*\n",
    "1. Are some ethnic groups more likely to be born in the United States than others?\n",
    "2. What are the most dominant religions among ethnic groups in Asian-American communities in Texas?\n",
    "3. How is English speaking ability related to English difficulty among AA communities in Texas?\n",
    "4. Are certain religious groups within AAs more likely to experience discrimination than other relgious groups within AAs in Texas?\n",
    "5. Are certain ethnic groups within AAs more likely to experience discrimination than other ethnic groups within AAs in Texas?\n",
    "*Health*\n",
    "1. Is smoking among Asian-American populations linked to heart disease?\n",
    "2. Are older generations of AAs more likely to follow a healthy diet than younger generations of AAs in Texas?\n",
    "\n",
    "\n",
    "\n",
    "---"
   ]
  },
  {
   "cell_type": "markdown",
   "id": "630f232d",
   "metadata": {},
   "source": [
    "## Data Collection and Cleaning\n",
    "### Data Collection\n",
    "1. Go to data [landing page](https://data.austintexas.gov/City-Government/Final-Report-of-the-Asian-American-Quality-of-Life/hc5t-p62z). \n",
    "2. Click on Export > CSV.\n",
    "3. Download publicly available `Final_Report_of_the_Asian_American_Quality_of_Life__AAQoL_.csv` into desired directory."
   ]
  },
  {
   "cell_type": "markdown",
   "id": "dcbd06f8",
   "metadata": {},
   "source": [
    "### Data Cleaning\n",
    "1. Store raw data into a preliminary dataframe, `df`\n",
    "2. Convert column names into snake_case"
   ]
  },
  {
   "cell_type": "code",
   "execution_count": null,
   "id": "0acb3a3b",
   "metadata": {},
   "outputs": [],
   "source": [
    "## <TO-DO> Paste affliated code here!\n",
    "\n"
   ]
  },
  {
   "cell_type": "markdown",
   "id": "2b694278",
   "metadata": {},
   "source": [
    "#### Column Names\n",
    "3. Save these new column names to a new dataframe, `asian`\n",
    "4. Select columns from the existing `asian` dataframe for data analysis\n",
    "- [ ] Income\n",
    "- [ ] Retired\n",
    "- [ ] US Born\n",
    "- [ ] English Speaking\n",
    "- [ ] English Difficulties\n",
    "- [ ] Ethnicity\n",
    "- [ ] Age\n",
    "- [ ] Regular Exercise\n",
    "- [ ] Healthy Diet\n",
    "- [ ] Heart Disease\n",
    "- [ ] Drinking\n",
    "- [ ] Smoking\n",
    "- [ ] Cancer\n",
    "- [ ] Health Insurance\n",
    "- [ ] Physical Check-up\n",
    "- [ ] Quality of Life\n",
    "- [ ] Religion\n",
    "- [ ] Gender\n",
    "- [ ] Close Friends\n",
    "- [ ] Discrimination\n",
    "- [ ] Duration of Residency\n",
    "- [ ] Household Size\n",
    "- [ ] Education Completed\n",
    "- [ ] Cleaning Entries"
   ]
  },
  {
   "cell_type": "code",
   "execution_count": null,
   "id": "ec52397f",
   "metadata": {},
   "outputs": [],
   "source": [
    "## <TO-DO> Paste affliated code here!\n",
    "\n"
   ]
  },
  {
   "cell_type": "markdown",
   "id": "3685840d",
   "metadata": {},
   "source": [
    "#### Cleaning Entries\n",
    "5. For the corresponding columns, convert null data according to the table below:\n",
    "\n",
    "| Column                | Modification to NaNs           |\n",
    "|-----------------------|--------------------------------|\n",
    "| Duration of residency | -1                             |\n",
    "| Education completed   | -1                             |\n",
    "| Discrimination        | 0                              |\n",
    "| Household size        | 0                              |\n",
    "| Quality of Life       | middle value for responses (5) |\n",
    "| Gender                | \"Unknown\"                      |\n",
    "| Ethnicity             | \"Unknown\"                      |\n",
    "| Religion              | \"Unknown\"                      |\n",
    "| Age                   | median age                     |\n",
    "| Close Friends         | median number of friends       |\n",
    "| Income                | median income bracket          |"
   ]
  },
  {
   "cell_type": "code",
   "execution_count": null,
   "id": "ae790a6b",
   "metadata": {},
   "outputs": [],
   "source": [
    "## <TO-DO> Paste affliated code here!\n",
    "\n"
   ]
  },
  {
   "cell_type": "markdown",
   "id": "012c8aaa",
   "metadata": {},
   "source": [
    "6. Replace column data to binary responses with 1s indicating ‘Yes’es and 0s indicating ‘No’es\n",
    "7. Address `income` column’s formatting issues\n",
    "8. Convert column data into intended data types\n",
    "| Column                | Data Type                                                                          |\n",
    "|-----------------------|------------------------------------------------------------------------------------|\n",
    "| income                | String                                                                             |\n",
    "| new_income            | int: {0 (for NaNs), 1 (0-9999), 2 (10000-19999), ..., 7 (60000-69999), 8 (70000+)} |\n",
    "| retired               | int: {0 for Noes, 1 for Yeses}                                                     |\n",
    "| US Born               | int: {0 for Noes, 1 for Yeses}                                                     |\n",
    "| English Speaking      |                                                                                    |\n",
    "| English Difficulties  |                                                                                    |\n",
    "| Ethnicity             | String                                                                             |\n",
    "| Age                   | int                                                                                |\n",
    "| Regular Exercise      | int: {0 for Noes, 1 for Yeses}                                                     |\n",
    "| Healthy Diet          | int: {0 for Noes, 1 for Yeses}                                                     |\n",
    "| Heart Disease         | int: {0 for Noes, 1 for Yeses}                                                     |\n",
    "| Drinking              | int: {0 for Noes, 1 for Yeses}                                                     |\n",
    "| Smoking               | int: {0 for Noes, 1 for Yeses}                                                     |\n",
    "| Cancer                | int: {0 for Noes, 1 for Yeses}                                                     |\n",
    "| Health Insurance      | int: {0 for Noes, 1 for Yeses}                                                     |\n",
    "| Physical Check-up     | int: {0 for Noes, 1 for Yeses}                                                     |\n",
    "| Quality of Life       |                                                                                    |\n",
    "| Religion              |                                                                                    |\n",
    "| Gender                |                                                                                    |\n",
    "| Close Friends         |                                                                                    |\n",
    "| Discrimination        |                                                                                    |\n",
    "| Duration of Residency |                                                                                    |\n",
    "| Household Size        |                                                                                    |\n",
    "| Education Completed   |                                                                                    |\n"
   ]
  },
  {
   "cell_type": "code",
   "execution_count": null,
   "id": "54fe09e8",
   "metadata": {},
   "outputs": [],
   "source": [
    "## <TO-DO> Paste affliated code here!\n",
    "\n"
   ]
  },
  {
   "cell_type": "markdown",
   "id": "6ec96e9e",
   "metadata": {},
   "source": [
    "---"
   ]
  },
  {
   "cell_type": "markdown",
   "id": "cde905c1",
   "metadata": {},
   "source": [
    "## Data Description\n",
    "The observations are the Asian-Americans surveyed in Austin, Texas. The attributes are a range of quality of life measurements. This dataset will help us understand the rapid growth rate and unique challenges as a new immigrant group calls for a better understanding of the social and health needs of the Asian American population. This dataset was funded by the City of Austin’s Public Information Office. Researchers and participants guided the observation of data. During the study, participants elevated their responses by adding “respect and appreciation of diverse cultures and acknowledgement of the legacy of the Asian community in Austin. The kind of data that was recorded focused on the project's goal to improve the city of Austin’s Asian American resources on health, housing,  culture, civic engagement, and economic development. The data came to formation through a three-year community engagement process. Commissioners, consultants and City staff worked with partner agencies and individual volunteers to meet Asian American community members where they live, work and play. More than 3,350 individuals took one of two surveys during the initiative either online or in-person at a variety of locations throughout the city, “Conversation Over Tea,” and other City of Austin hosted meetings to facilitate dialogue and share anecdotes about their lives. Additionally, “travel booths” were present at various events throughout the city engaging hundreds of Asian Americans. Participation included almost every ZIP code within the city and adjacent areas. The people involved were aware of the data collection. They were surprised to learn that the data was to be used for the City of Austin to hear about their dreams, challenges and contributions. A raw source to the data can be found [here](https://data.austintexas.gov/City-Government/Final-Report-of-the-Asian-American-Quality-of-Life/hc5t-p62z), under Export > CSV configurations.\n",
    "\n",
    "---"
   ]
  },
  {
   "cell_type": "markdown",
   "id": "14d21302",
   "metadata": {},
   "source": [
    "## Data Limitations\n",
    "Limited amount of quantitative data values will make it difficult to generate traditional-looking scatter plots. Questions asked to participants had responses of different scales. Data collected is limited to representing the attitudes of Asian-Americans living in Texas. Certain ethnic groups dominate over others which may lead to skewed results when extrapolating quality of life measurements. Some response variables will be affected by confounding variables such as different cultural aspects among sub-ethnic groups. (e.g. some ethnic groups have leaner diets which would impact conclusions drawn.)\n",
    "\n",
    "---"
   ]
  },
  {
   "cell_type": "markdown",
   "id": "a1408c5a",
   "metadata": {},
   "source": [
    "## Exploratory Data Analysis\n",
    "### Outline\n",
    "\n",
    "#### Scatterplots\n",
    "- [ ] Income vs Age\n",
    "- [ ] Smoking vs Heart Disease\n",
    "- [ ] English Speaking vs English difficulty\n",
    "- [ ] Household Size vs Duration of Residency\n",
    "\n",
    "#### Bar Charts\n",
    "- [ ] Median Income Brackets per Ethnicity\n",
    "- [ ] Percentage of US-born per Ethnicity\n",
    "- [ ] Percentage of Religion per Ethnicity\n",
    "- [ ] Percentage of Discrimination per Ethnicity\n",
    "- [ ] Percentage of Discrimination per Religion\n",
    "\n",
    "#### Histograms\n",
    "- [ ] Age and Healthy Diet\n",
    "  - Age ranges grouped by yes/healthy diet\n",
    "  - Age ranges grouped by no/healthy diet"
   ]
  },
  {
   "cell_type": "markdown",
   "id": "7d1afb31",
   "metadata": {},
   "source": [
    "### Sample Summary Statistics"
   ]
  },
  {
   "cell_type": "markdown",
   "id": "0ed4d35c",
   "metadata": {},
   "source": [
    "Median household income for Asian Americans living in Austin, Texas"
   ]
  },
  {
   "cell_type": "code",
   "execution_count": null,
   "id": "3cdefcb7",
   "metadata": {},
   "outputs": [],
   "source": [
    "## <TO-DO> Write affliated code here!\n",
    "\n"
   ]
  },
  {
   "cell_type": "code",
   "execution_count": null,
   "id": "ac7b7cc1",
   "metadata": {},
   "outputs": [],
   "source": []
  },
  {
   "cell_type": "code",
   "execution_count": null,
   "id": "d63748ce",
   "metadata": {},
   "outputs": [],
   "source": []
  },
  {
   "cell_type": "code",
   "execution_count": null,
   "id": "b2054eea",
   "metadata": {},
   "outputs": [],
   "source": []
  },
  {
   "cell_type": "code",
   "execution_count": null,
   "id": "c683fb55",
   "metadata": {},
   "outputs": [],
   "source": []
  },
  {
   "cell_type": "markdown",
   "id": "bc0215a8",
   "metadata": {},
   "source": [
    "### Sample Relevant Plots"
   ]
  },
  {
   "cell_type": "markdown",
   "id": "0bd1e4a8",
   "metadata": {},
   "source": [
    "Distribution of ethnicities among Asian-Americans living in Austin, Texas"
   ]
  },
  {
   "cell_type": "code",
   "execution_count": null,
   "id": "1a097931",
   "metadata": {},
   "outputs": [],
   "source": [
    "## <TO-DO> Write affliated code here!\n",
    "\n"
   ]
  },
  {
   "cell_type": "markdown",
   "id": "6e2157c7",
   "metadata": {},
   "source": [
    "Distribution of religious groups by ethnicity in Asian-American communities in Austin, Texas"
   ]
  },
  {
   "cell_type": "code",
   "execution_count": null,
   "id": "875f072b",
   "metadata": {},
   "outputs": [],
   "source": [
    "## <TO-DO> Write affliated code here!\n",
    "\n"
   ]
  },
  {
   "cell_type": "code",
   "execution_count": null,
   "id": "823ec219",
   "metadata": {},
   "outputs": [],
   "source": []
  },
  {
   "cell_type": "markdown",
   "id": "7c61c3a8",
   "metadata": {},
   "source": [
    "---"
   ]
  },
  {
   "cell_type": "markdown",
   "id": "b9aae576",
   "metadata": {},
   "source": [
    "## Questions for Reviewers\n",
    "\n"
   ]
  }
 ],
 "metadata": {
  "kernelspec": {
   "display_name": "Python 3",
   "language": "python",
   "name": "python3"
  },
  "language_info": {
   "codemirror_mode": {
    "name": "ipython",
    "version": 3
   },
   "file_extension": ".py",
   "mimetype": "text/x-python",
   "name": "python",
   "nbconvert_exporter": "python",
   "pygments_lexer": "ipython3",
   "version": "3.8.8"
  }
 },
 "nbformat": 4,
 "nbformat_minor": 5
}
