{
 "cells": [
  {
   "cell_type": "markdown",
   "id": "257c1f08",
   "metadata": {},
   "source": [
    "# INFOSCI 2950: Final Project Phase II Submission"
   ]
  },
  {
   "cell_type": "markdown",
   "id": "3ec86143",
   "metadata": {},
   "source": [
    "---\n",
    "## Research Questions\n",
    "\n",
    "**Main Goal: How can we define Asian-American communities in terms of health, happiness, and financial security?**\n",
    "\n",
    "*Financial Security*\n",
    "1. Do some ethnic groups of Asian-Americans in Texas earn more than others?\n",
    "2. Do younger Asian-Americans earn more money than older generations of Asian Americans living in Texas?\n",
    "3. How does household size relate to duration of residency for AAs in Texas?\n",
    "*Happiness*\n",
    "1. Are some ethnic groups more likely to be born in the United States than others?\n",
    "2. What are the most dominant religions among ethnic groups in Asian-American communities in Texas?\n",
    "3. How is English speaking ability related to English difficulty among AA communities in Texas?\n",
    "4. Are certain religious groups within AAs more likely to experience discrimination than other relgious groups within AAs in Texas?\n",
    "5. Are certain ethnic groups within AAs more likely to experience discrimination than other ethnic groups within AAs in Texas?\n",
    "*Health*\n",
    "1. Is smoking among Asian-American populations linked to heart disease?\n",
    "2. Are older generations of AAs more likely to follow a healthy diet than younger generations of AAs in Texas?\n",
    "\n",
    "\n",
    "\n",
    "---"
   ]
  },
  {
   "cell_type": "markdown",
   "id": "9859929c",
   "metadata": {},
   "source": [
    "## Data Collection and Cleaning\n",
    "### Data Collection\n",
    "1. Go to data [landing page](https://data.austintexas.gov/City-Government/Final-Report-of-the-Asian-American-Quality-of-Life/hc5t-p62z). \n",
    "2. Click on Export > CSV.\n",
    "3. Download publicly available `Final_Report_of_the_Asian_American_Quality_of_Life__AAQoL_.csv` into desired directory."
   ]
  },
  {
   "cell_type": "markdown",
   "id": "e76e2a58",
   "metadata": {},
   "source": [
    "### Data Cleaning\n",
    "1. Store raw data into a preliminary dataframe, `df`\n",
    "2. Convert column names into snake_case"
   ]
  },
  {
   "cell_type": "code",
   "execution_count": null,
   "id": "4e58467b",
   "metadata": {},
   "outputs": [],
   "source": [
    "## <TO-DO> Paste affliated code here!\n",
    "\n"
   ]
  },
  {
   "cell_type": "code",
   "execution_count": 11,
   "id": "20dfc66c",
   "metadata": {},
   "outputs": [],
   "source": [
    "## load libraries\n",
    "import numpy as np\n",
    "import pandas as pd\n",
    "import matplotlib.pyplot as plt\n",
    "import seaborn as sns"
   ]
  },
  {
   "cell_type": "code",
   "execution_count": 13,
   "id": "2a793a4e",
   "metadata": {},
   "outputs": [],
   "source": [
    "## Step 1\n",
    "df = pd.read_csv('Final_Report_of_the_Asian_American_Quality_of_Life__AAQoL_.csv')"
   ]
  },
  {
   "cell_type": "code",
   "execution_count": 15,
   "id": "b8b64f52",
   "metadata": {},
   "outputs": [],
   "source": [
    "## Step 2\n",
    "new_colnames = [i.lower() for i in df.columns]\n",
    "new_colnames = [i.replace(\" \",\"_\") for i in new_colnames]"
   ]
  },
  {
   "cell_type": "markdown",
   "id": "e564e54f",
   "metadata": {},
   "source": [
    "#### Column Names\n",
    "3. Save these new column names to a new dataframe, `asian`\n",
    "4. Select columns from the existing `asian` dataframe for data analysis\n",
    "- [ ] Income\n",
    "- [ ] Retired\n",
    "- [ ] US Born\n",
    "- [ ] English Speaking\n",
    "- [ ] English Difficulties\n",
    "- [ ] Ethnicity\n",
    "- [ ] Age\n",
    "- [ ] Regular Exercise\n",
    "- [ ] Healthy Diet\n",
    "- [ ] Heart Disease\n",
    "- [ ] Drinking\n",
    "- [ ] Smoking\n",
    "- [ ] Cancer\n",
    "- [ ] Health Insurance\n",
    "- [ ] Physical Check-up\n",
    "- [ ] Quality of Life\n",
    "- [ ] Religion\n",
    "- [ ] Gender\n",
    "- [ ] Close Friends\n",
    "- [ ] Discrimination\n",
    "- [ ] Duration of Residency\n",
    "- [ ] Household Size\n",
    "- [ ] Education Completed\n",
    "- [ ] Cleaning Entries"
   ]
  },
  {
   "cell_type": "code",
   "execution_count": null,
   "id": "1121de6c",
   "metadata": {},
   "outputs": [],
   "source": [
    "## <TO-DO> Paste affliated code here!\n",
    "\n"
   ]
  },
  {
   "cell_type": "code",
   "execution_count": 19,
   "id": "e73bb9af",
   "metadata": {},
   "outputs": [],
   "source": [
    "## Step 3\n",
    "asian = df.copy()\n",
    "asian.columns = new_colnames"
   ]
  },
  {
   "cell_type": "code",
   "execution_count": 20,
   "id": "61526194",
   "metadata": {},
   "outputs": [],
   "source": [
    "## Step 4\n",
    "asian = asian[['income', 'retired', 'us_born', 'english_speaking', 'english_difficulties', 'ethnicity','age', 'regular_exercise', 'healthy_diet', 'heart_disease', 'drinking', 'smoking',\n",
    "               'cancer', 'health_insurance', 'physical_check-up', 'quality_of_life', 'religion', 'gender', 'close_friends', 'discrimination_', 'duration_of_residency', 'household_size',\n",
    "              'education_completed']]\n",
    "# Additional improvements to asian\n",
    "asian = asian.rename(columns = {'discrimination_':'discrimination', 'physical_check-up':'physical_checkup'})"
   ]
  },
  {
   "cell_type": "markdown",
   "id": "03444bea",
   "metadata": {},
   "source": [
    "#### Cleaning Entries\n",
    "5. For the corresponding columns, convert null data according to the table below:\n",
    "\n",
    "| Column                | Modification to NaNs           |\n",
    "|-----------------------|--------------------------------|\n",
    "| Duration of residency | -1                             |\n",
    "| Education completed   | -1                             |\n",
    "| Discrimination        | 0                              |\n",
    "| Household size        | 0                              |\n",
    "| Quality of Life       | middle value for responses (5) |\n",
    "| Gender                | \"Unknown\"                      |\n",
    "| Ethnicity             | \"Unknown\"                      |\n",
    "| Religion              | \"Unknown\"                      |\n",
    "| Age                   | median age                     |\n",
    "| Close Friends         | median number of friends       |\n",
    "| Income                | median income bracket          |"
   ]
  },
  {
   "cell_type": "code",
   "execution_count": null,
   "id": "a4e6ed43",
   "metadata": {},
   "outputs": [],
   "source": [
    "## <TO-DO> Paste affliated code here!\n",
    "\n"
   ]
  },
  {
   "cell_type": "code",
   "execution_count": null,
   "id": "ed959de5",
   "metadata": {},
   "outputs": [],
   "source": [
    "## Step 5\n",
    "\n",
    "#changing english_speaking column to be represented by floats\n",
    "asian['english_speaking'].replace({'Not at all': 1, 'Not well': 2, 'Well': 3, 'Very well': 4}, inplace = True)\n",
    "asian['english_speaking'] = asian['english_speaking'].astype(float, errors = 'raise')\n",
    "#replacing NaNs with 0\n",
    "asian['english_speaking'] = asian['english_speaking'].fillna(0)\n",
    "    \n",
    "# changing english_difficulties column to be represented by floats\n",
    "asian['english_difficulties'].replace({'Not at all': 1, 'Not much': 2, 'Much': 3, 'Very much': 4}, inplace = True)\n",
    "#replacing NaNs with 0\n",
    "asian['english_difficulties'] = asian['english_difficulties'].fillna(0)\n",
    "\n",
    "# changing retired column to to be represented by floats\n",
    "asian[\"retired\"].replace({\"Retired\": 1}, inplace=True)\n",
    "asian[\"retired\"] = asian[\"retired\"].astype(float, errors='raise')\n",
    "#replacing NaNs with 0\n",
    "asian['retired'] = asian['retired'].fillna(0)\n",
    "\n",
    "# changing us_born column to to be represented by floats\n",
    "asian[\"us_born\"].replace({\"No\": 0, \"Yes\": 1}, inplace=True)\n",
    "#replacing NaNs with 0\n",
    "asian['us_born'] = asian['us_born'].fillna(0)\n",
    "\n",
    "#replacing NaNs with 0\n",
    "asian['health_insurance'] = asian['health_insurance'].fillna(0)\n",
    "# changing health_insurance column \n",
    "asian['health_insurance'].replace({\"Yes\": \"1\"}, inplace=True)\n",
    "\n",
    "#replacing NaNs with 0\n",
    "asian['physical_checkup'] = asian['physical_checkup'].fillna(0)\n",
    "\n",
    "# chaning physical_checkup column \n",
    "asian[\"physical_checkup\"].replace({\"Yes\": \"1\"}, inplace=True)\n",
    "\n",
    "#replacing NaNs with 0\n",
    "asian['us_born'] = asian['us_born'].fillna(0)\n",
    "\n",
    "# changing regular_exercise column to 0 and 1\n",
    "#replacing NaNs with 0\n",
    "asian['regular_exercise'] = asian['regular_exercise'].fillna(0)\n",
    "\n",
    "#replacing NaNs with 0\n",
    "asian['healthy_diet'] = asian['healthy_diet'].fillna(0)\n",
    "\n",
    "#replacing NaNs with 0\n",
    "asian['heart_disease'] = asian['heart_disease'].fillna(0)\n",
    "\n",
    "#replacing NaNs with 0\n",
    "asian['healthy_diet'] = asian['healthy_diet'].fillna(0)\n",
    "\n",
    "#replacing NaNs with 5.0\n",
    "asian['quality_of_life'] = asian['quality_of_life'].fillna(5.0)\n",
    "\n",
    "\n",
    "#replacing NaNs with 0\n",
    "asian['discrimination'] = asian['discrimination'].fillna(0)\n",
    "\n",
    "\n",
    "#replacing NaNs with -1\n",
    "asian['duration_of_residency'] = asian['duration_of_residency'].fillna(-1)\n",
    "\n",
    "\n",
    "#replacing NaNs with 0 because househols_siz can not be 0 because participants are counting themselves\n",
    "asian['household_size'] = asian['household_size'].fillna(0)\n",
    "\n",
    "\n",
    "#replacing NaNs with -1\n",
    "asian['education_completed'] = asian['education_completed'].fillna(0)\n",
    "\n",
    "\n",
    "#replacing NaNs with Unknown\n",
    "asian['gender'] = asian['gender'].fillna('Unknown')\n",
    "\n",
    "#replacing NaNs with Unknown\n",
    "asian['ethnicity'] = asian['ethnicity'].fillna('Unknown')\n",
    "\n",
    "#replacing NaNs with Unknown\n",
    "asian['religion'] = asian['religion'].fillna('Unknown')\n",
    "\n",
    "#replacing NaNs with median age\n",
    "asian['age'] = asian['age'].fillna(40.0)\n",
    "\n",
    "#replacing NaNs with median number of close friends\n",
    "asian['close_friends'] = asian['close_friends'].fillna(3.0)\n",
    "\n",
    "asian = asian.dropna()\n",
    "# asian = asian.reset_index\n",
    "\n",
    "asian.head()"
   ]
  },
  {
   "cell_type": "markdown",
   "id": "bb8768d9",
   "metadata": {},
   "source": [
    "6. Replace column data to binary responses with 1s indicating ‘Yes’es and 0s indicating ‘No’es\n",
    "7. Address `income` column’s formatting issues\n",
    "8. Convert column data into intended data types\n",
    "| Column                | Data Type                                                                          |\n",
    "|-----------------------|------------------------------------------------------------------------------------|\n",
    "| income                | String                                                                             |\n",
    "| new_income            | int: {0 (for NaNs), 1 (0-9999), 2 (10000-19999), ..., 7 (60000-69999), 8 (70000+)} |\n",
    "| retired               | int: {0 for Noes, 1 for Yeses}                                                     |\n",
    "| US Born               | int: {0 for Noes, 1 for Yeses}                                                     |\n",
    "| English Speaking      |                                                                                    |\n",
    "| English Difficulties  |                                                                                    |\n",
    "| Ethnicity             | String                                                                             |\n",
    "| Age                   | int                                                                                |\n",
    "| Regular Exercise      | int: {0 for Noes, 1 for Yeses}                                                     |\n",
    "| Healthy Diet          | int: {0 for Noes, 1 for Yeses}                                                     |\n",
    "| Heart Disease         | int: {0 for Noes, 1 for Yeses}                                                     |\n",
    "| Drinking              | int: {0 for Noes, 1 for Yeses}                                                     |\n",
    "| Smoking               | int: {0 for Noes, 1 for Yeses}                                                     |\n",
    "| Cancer                | int: {0 for Noes, 1 for Yeses}                                                     |\n",
    "| Health Insurance      | int: {0 for Noes, 1 for Yeses}                                                     |\n",
    "| Physical Check-up     | int: {0 for Noes, 1 for Yeses}                                                     |\n",
    "| Quality of Life       |                                                                                    |\n",
    "| Religion              |                                                                                    |\n",
    "| Gender                |                                                                                    |\n",
    "| Close Friends         |                                                                                    |\n",
    "| Discrimination        |                                                                                    |\n",
    "| Duration of Residency |                                                                                    |\n",
    "| Household Size        |                                                                                    |\n",
    "| Education Completed   |                                                                                    |\n"
   ]
  },
  {
   "cell_type": "code",
   "execution_count": null,
   "id": "6d4e7f84",
   "metadata": {},
   "outputs": [],
   "source": [
    "## <TO-DO> Paste affliated code here!\n",
    "\n"
   ]
  },
  {
   "cell_type": "markdown",
   "id": "a21c1063",
   "metadata": {},
   "source": [
    "---"
   ]
  },
  {
   "cell_type": "markdown",
   "id": "4066327b",
   "metadata": {},
   "source": [
    "## Data Description\n",
    "The observations are the Asian-Americans surveyed in Austin, Texas. The attributes are a range of quality of life measurements. This dataset will help us understand the rapid growth rate and unique challenges as a new immigrant group calls for a better understanding of the social and health needs of the Asian American population. This dataset was funded by the City of Austin’s Public Information Office. Researchers and participants guided the observation of data. During the study, participants elevated their responses by adding “respect and appreciation of diverse cultures and acknowledgement of the legacy of the Asian community in Austin. The kind of data that was recorded focused on the project's goal to improve the city of Austin’s Asian American resources on health, housing,  culture, civic engagement, and economic development. The data came to formation through a three-year community engagement process. Commissioners, consultants and City staff worked with partner agencies and individual volunteers to meet Asian American community members where they live, work and play. More than 3,350 individuals took one of two surveys during the initiative either online or in-person at a variety of locations throughout the city, “Conversation Over Tea,” and other City of Austin hosted meetings to facilitate dialogue and share anecdotes about their lives. Additionally, “travel booths” were present at various events throughout the city engaging hundreds of Asian Americans. Participation included almost every ZIP code within the city and adjacent areas. The people involved were aware of the data collection. They were surprised to learn that the data was to be used for the City of Austin to hear about their dreams, challenges and contributions. A raw source to the data can be found [here](https://data.austintexas.gov/City-Government/Final-Report-of-the-Asian-American-Quality-of-Life/hc5t-p62z), under Export > CSV configurations.\n",
    "\n",
    "---"
   ]
  },
  {
   "cell_type": "markdown",
   "id": "1c2e681e",
   "metadata": {},
   "source": [
    "## Data Limitations\n",
    "Limited amount of quantitative data values will make it difficult to generate traditional-looking scatter plots. Questions asked to participants had responses of different scales. Data collected is limited to representing the attitudes of Asian-Americans living in Texas. Certain ethnic groups dominate over others which may lead to skewed results when extrapolating quality of life measurements. Some response variables will be affected by confounding variables such as different cultural aspects among sub-ethnic groups. (e.g. some ethnic groups have leaner diets which would impact conclusions drawn.)\n",
    "\n",
    "---"
   ]
  },
  {
   "cell_type": "markdown",
   "id": "af596499",
   "metadata": {},
   "source": [
    "## Exploratory Data Analysis\n",
    "### Outline\n",
    "\n",
    "#### Scatterplots\n",
    "- [ ] Income vs Age\n",
    "- [ ] Smoking vs Heart Disease\n",
    "- [ ] English Speaking vs English difficulty\n",
    "- [ ] Household Size vs Duration of Residency\n",
    "\n",
    "#### Bar Charts\n",
    "- [ ] Median Income Brackets per Ethnicity\n",
    "- [ ] Percentage of US-born per Ethnicity\n",
    "- [ ] Percentage of Religion per Ethnicity\n",
    "- [ ] Percentage of Discrimination per Ethnicity\n",
    "- [ ] Percentage of Discrimination per Religion\n",
    "\n",
    "#### Histograms\n",
    "- [ ] Age and Healthy Diet\n",
    "  - Age ranges grouped by yes/healthy diet\n",
    "  - Age ranges grouped by no/healthy diet"
   ]
  },
  {
   "cell_type": "markdown",
   "id": "54aa05ff",
   "metadata": {},
   "source": [
    "### Sample Summary Statistics"
   ]
  },
  {
   "cell_type": "markdown",
   "id": "ac7054fa",
   "metadata": {},
   "source": [
    "Median household income for Asian Americans living in Austin, Texas"
   ]
  },
  {
   "cell_type": "code",
   "execution_count": null,
   "id": "54c6d835",
   "metadata": {},
   "outputs": [],
   "source": [
    "## <TO-DO> Write affliated code here!\n",
    "\n"
   ]
  },
  {
   "cell_type": "code",
   "execution_count": null,
   "id": "da2c79e3",
   "metadata": {},
   "outputs": [],
   "source": []
  },
  {
   "cell_type": "code",
   "execution_count": null,
   "id": "5b537a87",
   "metadata": {},
   "outputs": [],
   "source": []
  },
  {
   "cell_type": "code",
   "execution_count": null,
   "id": "f470c24b",
   "metadata": {},
   "outputs": [],
   "source": []
  },
  {
   "cell_type": "code",
   "execution_count": null,
   "id": "18cad2bc",
   "metadata": {},
   "outputs": [],
   "source": []
  },
  {
   "cell_type": "markdown",
   "id": "82ee4cb6",
   "metadata": {},
   "source": [
    "### Sample Relevant Plots"
   ]
  },
  {
   "cell_type": "markdown",
   "id": "8a2a662c",
   "metadata": {},
   "source": [
    "Distribution of ethnicities among Asian-Americans living in Austin, Texas"
   ]
  },
  {
   "cell_type": "code",
   "execution_count": null,
   "id": "df0e8bf0",
   "metadata": {},
   "outputs": [],
   "source": [
    "## <TO-DO> Write affliated code here!\n",
    "\n"
   ]
  },
  {
   "cell_type": "markdown",
   "id": "ea33fbd4",
   "metadata": {},
   "source": [
    "Distribution of religious groups by ethnicity in Asian-American communities in Austin, Texas"
   ]
  },
  {
   "cell_type": "code",
   "execution_count": null,
   "id": "3074c060",
   "metadata": {},
   "outputs": [],
   "source": [
    "## <TO-DO> Write affliated code here!\n",
    "\n"
   ]
  },
  {
   "cell_type": "code",
   "execution_count": null,
   "id": "236d6c19",
   "metadata": {},
   "outputs": [],
   "source": []
  },
  {
   "cell_type": "markdown",
   "id": "58dcaa6f",
   "metadata": {},
   "source": [
    "---"
   ]
  },
  {
   "cell_type": "markdown",
   "id": "2584fab1",
   "metadata": {},
   "source": [
    "## Questions for Reviewers\n",
    "\n"
   ]
  }
 ],
 "metadata": {
  "kernelspec": {
   "display_name": "Python 3",
   "language": "python",
   "name": "python3"
  },
  "language_info": {
   "codemirror_mode": {
    "name": "ipython",
    "version": 3
   },
   "file_extension": ".py",
   "mimetype": "text/x-python",
   "name": "python",
   "nbconvert_exporter": "python",
   "pygments_lexer": "ipython3",
   "version": "3.8.8"
  }
 },
 "nbformat": 4,
 "nbformat_minor": 5
}
